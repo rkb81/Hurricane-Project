{
 "cells": [
  {
   "cell_type": "code",
   "execution_count": 9,
   "id": "ac3d1dd5",
   "metadata": {},
   "outputs": [
    {
     "name": "stderr",
     "output_type": "stream",
     "text": [
      "C:\\Users\\16133\\AppData\\Local\\Temp\\ipykernel_8412\\2078404945.py:18: DtypeWarning:\n",
      "\n",
      "Columns (1,2,8,9,14,19,20,131,132,133,161,162) have mixed types. Specify dtype option on import or set low_memory=False.\n",
      "\n"
     ]
    }
   ],
   "source": [
    "# Dependencies and Setup\n",
    "import pandas as pd\n",
    "from pathlib import Path\n",
    "import hvplot.pandas\n",
    "import plotly.express as px\n",
    "import plotly.offline as pyo\n",
    "import plotly.graph_objs as go\n",
    "import plotly.io as pio\n",
    "import plotly.graph_objects as go\n",
    "from citipy import citipy\n",
    "import geopy.distance\n",
    "from geopy.geocoders import Nominatim #country data\n",
    "\n",
    "# File to Load \n",
    "west_pacific_basin_to_load = Path(\"Resources/ibtracs.WP.list.v04r00.csv\")\n",
    "\n",
    "# Read School and Student Data File and store into Pandas DataFrames\n",
    "west_pacific_basin_raw = pd.read_csv(west_pacific_basin_to_load)"
   ]
  },
  {
   "cell_type": "code",
   "execution_count": 2,
   "id": "120bbea9",
   "metadata": {},
   "outputs": [
    {
     "data": {
      "text/html": [
       "<div>\n",
       "<style scoped>\n",
       "    .dataframe tbody tr th:only-of-type {\n",
       "        vertical-align: middle;\n",
       "    }\n",
       "\n",
       "    .dataframe tbody tr th {\n",
       "        vertical-align: top;\n",
       "    }\n",
       "\n",
       "    .dataframe thead th {\n",
       "        text-align: right;\n",
       "    }\n",
       "</style>\n",
       "<table border=\"1\" class=\"dataframe\">\n",
       "  <thead>\n",
       "    <tr style=\"text-align: right;\">\n",
       "      <th></th>\n",
       "      <th>SID</th>\n",
       "      <th>SEASON</th>\n",
       "      <th>NUMBER</th>\n",
       "      <th>BASIN</th>\n",
       "      <th>SUBBASIN</th>\n",
       "      <th>NAME</th>\n",
       "      <th>ISO_TIME</th>\n",
       "      <th>NATURE</th>\n",
       "      <th>LAT</th>\n",
       "      <th>LON</th>\n",
       "      <th>...</th>\n",
       "      <th>BOM_GUST_PER</th>\n",
       "      <th>REUNION_GUST</th>\n",
       "      <th>REUNION_GUST_PER</th>\n",
       "      <th>USA_SEAHGT</th>\n",
       "      <th>USA_SEARAD_NE</th>\n",
       "      <th>USA_SEARAD_SE</th>\n",
       "      <th>USA_SEARAD_SW</th>\n",
       "      <th>USA_SEARAD_NW</th>\n",
       "      <th>STORM_SPEED</th>\n",
       "      <th>STORM_DIR</th>\n",
       "    </tr>\n",
       "  </thead>\n",
       "  <tbody>\n",
       "    <tr>\n",
       "      <th>0</th>\n",
       "      <td></td>\n",
       "      <td>Year</td>\n",
       "      <td></td>\n",
       "      <td></td>\n",
       "      <td></td>\n",
       "      <td></td>\n",
       "      <td></td>\n",
       "      <td></td>\n",
       "      <td>degrees_north</td>\n",
       "      <td>degrees_east</td>\n",
       "      <td>...</td>\n",
       "      <td>second</td>\n",
       "      <td>kts</td>\n",
       "      <td>second</td>\n",
       "      <td>ft</td>\n",
       "      <td>nmile</td>\n",
       "      <td>nmile</td>\n",
       "      <td>nmile</td>\n",
       "      <td>nmile</td>\n",
       "      <td>kts</td>\n",
       "      <td>degrees</td>\n",
       "    </tr>\n",
       "    <tr>\n",
       "      <th>1</th>\n",
       "      <td>1884177N17124</td>\n",
       "      <td>1884</td>\n",
       "      <td>14</td>\n",
       "      <td>WP</td>\n",
       "      <td>MM</td>\n",
       "      <td>NOT_NAMED</td>\n",
       "      <td>1884-06-24 16:00:00</td>\n",
       "      <td>NR</td>\n",
       "      <td>16.5000</td>\n",
       "      <td>124.000</td>\n",
       "      <td>...</td>\n",
       "      <td></td>\n",
       "      <td></td>\n",
       "      <td></td>\n",
       "      <td></td>\n",
       "      <td></td>\n",
       "      <td></td>\n",
       "      <td></td>\n",
       "      <td></td>\n",
       "      <td>6</td>\n",
       "      <td>281</td>\n",
       "    </tr>\n",
       "    <tr>\n",
       "      <th>2</th>\n",
       "      <td>1884177N17124</td>\n",
       "      <td>1884</td>\n",
       "      <td>14</td>\n",
       "      <td>WP</td>\n",
       "      <td>MM</td>\n",
       "      <td>NOT_NAMED</td>\n",
       "      <td>1884-06-24 18:00:00</td>\n",
       "      <td>NR</td>\n",
       "      <td>16.5373</td>\n",
       "      <td>123.800</td>\n",
       "      <td>...</td>\n",
       "      <td></td>\n",
       "      <td></td>\n",
       "      <td></td>\n",
       "      <td></td>\n",
       "      <td></td>\n",
       "      <td></td>\n",
       "      <td></td>\n",
       "      <td></td>\n",
       "      <td>6</td>\n",
       "      <td>282</td>\n",
       "    </tr>\n",
       "    <tr>\n",
       "      <th>3</th>\n",
       "      <td>1884177N17124</td>\n",
       "      <td>1884</td>\n",
       "      <td>14</td>\n",
       "      <td>WP</td>\n",
       "      <td>MM</td>\n",
       "      <td>NOT_NAMED</td>\n",
       "      <td>1884-06-24 21:00:00</td>\n",
       "      <td>NR</td>\n",
       "      <td>16.5978</td>\n",
       "      <td>123.500</td>\n",
       "      <td>...</td>\n",
       "      <td></td>\n",
       "      <td></td>\n",
       "      <td></td>\n",
       "      <td></td>\n",
       "      <td></td>\n",
       "      <td></td>\n",
       "      <td></td>\n",
       "      <td></td>\n",
       "      <td>6</td>\n",
       "      <td>283</td>\n",
       "    </tr>\n",
       "    <tr>\n",
       "      <th>4</th>\n",
       "      <td>1884177N17124</td>\n",
       "      <td>1884</td>\n",
       "      <td>14</td>\n",
       "      <td>WP</td>\n",
       "      <td>MM</td>\n",
       "      <td>NOT_NAMED</td>\n",
       "      <td>1884-06-25 00:00:00</td>\n",
       "      <td>NR</td>\n",
       "      <td>16.6706</td>\n",
       "      <td>123.200</td>\n",
       "      <td>...</td>\n",
       "      <td></td>\n",
       "      <td></td>\n",
       "      <td></td>\n",
       "      <td></td>\n",
       "      <td></td>\n",
       "      <td></td>\n",
       "      <td></td>\n",
       "      <td></td>\n",
       "      <td>6</td>\n",
       "      <td>286</td>\n",
       "    </tr>\n",
       "  </tbody>\n",
       "</table>\n",
       "<p>5 rows × 163 columns</p>\n",
       "</div>"
      ],
      "text/plain": [
       "             SID SEASON NUMBER BASIN SUBBASIN       NAME             ISO_TIME  \\\n",
       "0                  Year                                                         \n",
       "1  1884177N17124   1884     14    WP       MM  NOT_NAMED  1884-06-24 16:00:00   \n",
       "2  1884177N17124   1884     14    WP       MM  NOT_NAMED  1884-06-24 18:00:00   \n",
       "3  1884177N17124   1884     14    WP       MM  NOT_NAMED  1884-06-24 21:00:00   \n",
       "4  1884177N17124   1884     14    WP       MM  NOT_NAMED  1884-06-25 00:00:00   \n",
       "\n",
       "  NATURE            LAT           LON  ... BOM_GUST_PER REUNION_GUST  \\\n",
       "0         degrees_north  degrees_east  ...       second          kts   \n",
       "1     NR        16.5000       124.000  ...                             \n",
       "2     NR        16.5373       123.800  ...                             \n",
       "3     NR        16.5978       123.500  ...                             \n",
       "4     NR        16.6706       123.200  ...                             \n",
       "\n",
       "  REUNION_GUST_PER USA_SEAHGT USA_SEARAD_NE USA_SEARAD_SE USA_SEARAD_SW  \\\n",
       "0           second         ft         nmile         nmile         nmile   \n",
       "1                                                                         \n",
       "2                                                                         \n",
       "3                                                                         \n",
       "4                                                                         \n",
       "\n",
       "  USA_SEARAD_NW STORM_SPEED STORM_DIR  \n",
       "0         nmile         kts   degrees  \n",
       "1                         6       281  \n",
       "2                         6       282  \n",
       "3                         6       283  \n",
       "4                         6       286  \n",
       "\n",
       "[5 rows x 163 columns]"
      ]
     },
     "execution_count": 2,
     "metadata": {},
     "output_type": "execute_result"
    }
   ],
   "source": [
    "west_pacific_basin_raw.head()"
   ]
  },
  {
   "cell_type": "markdown",
   "id": "9c429cb4",
   "metadata": {},
   "source": [
    "# Data Cleaning"
   ]
  },
  {
   "cell_type": "code",
   "execution_count": 3,
   "id": "d14f4650",
   "metadata": {},
   "outputs": [
    {
     "name": "stderr",
     "output_type": "stream",
     "text": [
      "C:\\Users\\16133\\AppData\\Local\\Temp\\ipykernel_8412\\3960549656.py:25: SettingWithCopyWarning:\n",
      "\n",
      "\n",
      "A value is trying to be set on a copy of a slice from a DataFrame.\n",
      "Try using .loc[row_indexer,col_indexer] = value instead\n",
      "\n",
      "See the caveats in the documentation: https://pandas.pydata.org/pandas-docs/stable/user_guide/indexing.html#returning-a-view-versus-a-copy\n",
      "\n"
     ]
    },
    {
     "name": "stdout",
     "output_type": "stream",
     "text": [
      "<class 'pandas.core.frame.DataFrame'>\n",
      "Int64Index: 213161 entries, 29189 to 242349\n",
      "Data columns (total 12 columns):\n",
      " #   Column                 Non-Null Count   Dtype         \n",
      "---  ------                 --------------   -----         \n",
      " 0   ID                     213161 non-null  object        \n",
      " 1   Season                 213161 non-null  object        \n",
      " 2   Number                 213161 non-null  float64       \n",
      " 3   Basin                  213161 non-null  object        \n",
      " 4   Name                   213161 non-null  object        \n",
      " 5   ISO Time               213161 non-null  datetime64[ns]\n",
      " 6   Nature                 213161 non-null  object        \n",
      " 7   Latitude               213161 non-null  object        \n",
      " 8   Longitude              213161 non-null  object        \n",
      " 9   Wind Speed (knots)     28200 non-null   float64       \n",
      " 10  Wind Pressure (mb)     68676 non-null   float64       \n",
      " 11  Distance to Land (km)  213161 non-null  float64       \n",
      "dtypes: datetime64[ns](1), float64(4), object(7)\n",
      "memory usage: 21.1+ MB\n"
     ]
    },
    {
     "data": {
      "text/html": [
       "<div>\n",
       "<style scoped>\n",
       "    .dataframe tbody tr th:only-of-type {\n",
       "        vertical-align: middle;\n",
       "    }\n",
       "\n",
       "    .dataframe tbody tr th {\n",
       "        vertical-align: top;\n",
       "    }\n",
       "\n",
       "    .dataframe thead th {\n",
       "        text-align: right;\n",
       "    }\n",
       "</style>\n",
       "<table border=\"1\" class=\"dataframe\">\n",
       "  <thead>\n",
       "    <tr style=\"text-align: right;\">\n",
       "      <th></th>\n",
       "      <th>ID</th>\n",
       "      <th>Season</th>\n",
       "      <th>Number</th>\n",
       "      <th>Basin</th>\n",
       "      <th>Name</th>\n",
       "      <th>ISO Time</th>\n",
       "      <th>Nature</th>\n",
       "      <th>Latitude</th>\n",
       "      <th>Longitude</th>\n",
       "      <th>Wind Speed (knots)</th>\n",
       "      <th>Wind Pressure (mb)</th>\n",
       "      <th>Distance to Land (km)</th>\n",
       "    </tr>\n",
       "  </thead>\n",
       "  <tbody>\n",
       "    <tr>\n",
       "      <th>29189</th>\n",
       "      <td>1922085N15112</td>\n",
       "      <td>1922</td>\n",
       "      <td>22.0</td>\n",
       "      <td>WP</td>\n",
       "      <td>NOT_NAMED</td>\n",
       "      <td>1922-03-25 22:00:00</td>\n",
       "      <td>NR</td>\n",
       "      <td>14.9</td>\n",
       "      <td>112.2</td>\n",
       "      <td>NaN</td>\n",
       "      <td>NaN</td>\n",
       "      <td>331.0</td>\n",
       "    </tr>\n",
       "    <tr>\n",
       "      <th>29190</th>\n",
       "      <td>1922085N15112</td>\n",
       "      <td>1922</td>\n",
       "      <td>22.0</td>\n",
       "      <td>WP</td>\n",
       "      <td>NOT_NAMED</td>\n",
       "      <td>1922-03-26 00:00:00</td>\n",
       "      <td>NR</td>\n",
       "      <td>15.0076</td>\n",
       "      <td>112.264</td>\n",
       "      <td>NaN</td>\n",
       "      <td>NaN</td>\n",
       "      <td>345.0</td>\n",
       "    </tr>\n",
       "    <tr>\n",
       "      <th>29191</th>\n",
       "      <td>1922085N15112</td>\n",
       "      <td>1922</td>\n",
       "      <td>22.0</td>\n",
       "      <td>WP</td>\n",
       "      <td>NOT_NAMED</td>\n",
       "      <td>1922-03-26 03:00:00</td>\n",
       "      <td>NR</td>\n",
       "      <td>15.1661</td>\n",
       "      <td>112.362</td>\n",
       "      <td>NaN</td>\n",
       "      <td>NaN</td>\n",
       "      <td>359.0</td>\n",
       "    </tr>\n",
       "    <tr>\n",
       "      <th>29192</th>\n",
       "      <td>1922085N15112</td>\n",
       "      <td>1922</td>\n",
       "      <td>22.0</td>\n",
       "      <td>WP</td>\n",
       "      <td>NOT_NAMED</td>\n",
       "      <td>1922-03-26 06:00:00</td>\n",
       "      <td>NR</td>\n",
       "      <td>15.3173</td>\n",
       "      <td>112.462</td>\n",
       "      <td>NaN</td>\n",
       "      <td>NaN</td>\n",
       "      <td>371.0</td>\n",
       "    </tr>\n",
       "    <tr>\n",
       "      <th>29193</th>\n",
       "      <td>1922085N15112</td>\n",
       "      <td>1922</td>\n",
       "      <td>22.0</td>\n",
       "      <td>WP</td>\n",
       "      <td>NOT_NAMED</td>\n",
       "      <td>1922-03-26 09:00:00</td>\n",
       "      <td>NR</td>\n",
       "      <td>15.4568</td>\n",
       "      <td>112.565</td>\n",
       "      <td>NaN</td>\n",
       "      <td>NaN</td>\n",
       "      <td>386.0</td>\n",
       "    </tr>\n",
       "    <tr>\n",
       "      <th>...</th>\n",
       "      <td>...</td>\n",
       "      <td>...</td>\n",
       "      <td>...</td>\n",
       "      <td>...</td>\n",
       "      <td>...</td>\n",
       "      <td>...</td>\n",
       "      <td>...</td>\n",
       "      <td>...</td>\n",
       "      <td>...</td>\n",
       "      <td>...</td>\n",
       "      <td>...</td>\n",
       "      <td>...</td>\n",
       "    </tr>\n",
       "    <tr>\n",
       "      <th>242345</th>\n",
       "      <td>2022345N17125</td>\n",
       "      <td>2022</td>\n",
       "      <td>53.0</td>\n",
       "      <td>WP</td>\n",
       "      <td>PAKHAR</td>\n",
       "      <td>2022-12-12 06:00:00</td>\n",
       "      <td>NR</td>\n",
       "      <td>20.0</td>\n",
       "      <td>130.0</td>\n",
       "      <td>NaN</td>\n",
       "      <td>NaN</td>\n",
       "      <td>828.0</td>\n",
       "    </tr>\n",
       "    <tr>\n",
       "      <th>242346</th>\n",
       "      <td>2022345N17125</td>\n",
       "      <td>2022</td>\n",
       "      <td>53.0</td>\n",
       "      <td>WP</td>\n",
       "      <td>PAKHAR</td>\n",
       "      <td>2022-12-12 09:00:00</td>\n",
       "      <td>NR</td>\n",
       "      <td>19.9725</td>\n",
       "      <td>130.292</td>\n",
       "      <td>NaN</td>\n",
       "      <td>NaN</td>\n",
       "      <td>858.0</td>\n",
       "    </tr>\n",
       "    <tr>\n",
       "      <th>242347</th>\n",
       "      <td>2022345N17125</td>\n",
       "      <td>2022</td>\n",
       "      <td>53.0</td>\n",
       "      <td>WP</td>\n",
       "      <td>PAKHAR</td>\n",
       "      <td>2022-12-12 12:00:00</td>\n",
       "      <td>NR</td>\n",
       "      <td>19.9</td>\n",
       "      <td>130.6</td>\n",
       "      <td>NaN</td>\n",
       "      <td>NaN</td>\n",
       "      <td>887.0</td>\n",
       "    </tr>\n",
       "    <tr>\n",
       "      <th>242348</th>\n",
       "      <td>2022345N17125</td>\n",
       "      <td>2022</td>\n",
       "      <td>53.0</td>\n",
       "      <td>WP</td>\n",
       "      <td>PAKHAR</td>\n",
       "      <td>2022-12-12 15:00:00</td>\n",
       "      <td>NR</td>\n",
       "      <td>19.73</td>\n",
       "      <td>130.865</td>\n",
       "      <td>NaN</td>\n",
       "      <td>NaN</td>\n",
       "      <td>915.0</td>\n",
       "    </tr>\n",
       "    <tr>\n",
       "      <th>242349</th>\n",
       "      <td>2022345N17125</td>\n",
       "      <td>2022</td>\n",
       "      <td>53.0</td>\n",
       "      <td>WP</td>\n",
       "      <td>PAKHAR</td>\n",
       "      <td>2022-12-12 18:00:00</td>\n",
       "      <td>NR</td>\n",
       "      <td>19.5</td>\n",
       "      <td>131.1</td>\n",
       "      <td>NaN</td>\n",
       "      <td>NaN</td>\n",
       "      <td>933.0</td>\n",
       "    </tr>\n",
       "  </tbody>\n",
       "</table>\n",
       "<p>213161 rows × 12 columns</p>\n",
       "</div>"
      ],
      "text/plain": [
       "                   ID Season  Number Basin       Name            ISO Time  \\\n",
       "29189   1922085N15112   1922    22.0    WP  NOT_NAMED 1922-03-25 22:00:00   \n",
       "29190   1922085N15112   1922    22.0    WP  NOT_NAMED 1922-03-26 00:00:00   \n",
       "29191   1922085N15112   1922    22.0    WP  NOT_NAMED 1922-03-26 03:00:00   \n",
       "29192   1922085N15112   1922    22.0    WP  NOT_NAMED 1922-03-26 06:00:00   \n",
       "29193   1922085N15112   1922    22.0    WP  NOT_NAMED 1922-03-26 09:00:00   \n",
       "...               ...    ...     ...   ...        ...                 ...   \n",
       "242345  2022345N17125   2022    53.0    WP     PAKHAR 2022-12-12 06:00:00   \n",
       "242346  2022345N17125   2022    53.0    WP     PAKHAR 2022-12-12 09:00:00   \n",
       "242347  2022345N17125   2022    53.0    WP     PAKHAR 2022-12-12 12:00:00   \n",
       "242348  2022345N17125   2022    53.0    WP     PAKHAR 2022-12-12 15:00:00   \n",
       "242349  2022345N17125   2022    53.0    WP     PAKHAR 2022-12-12 18:00:00   \n",
       "\n",
       "       Nature Latitude Longitude  Wind Speed (knots)  Wind Pressure (mb)  \\\n",
       "29189      NR     14.9     112.2                 NaN                 NaN   \n",
       "29190      NR  15.0076   112.264                 NaN                 NaN   \n",
       "29191      NR  15.1661   112.362                 NaN                 NaN   \n",
       "29192      NR  15.3173   112.462                 NaN                 NaN   \n",
       "29193      NR  15.4568   112.565                 NaN                 NaN   \n",
       "...       ...      ...       ...                 ...                 ...   \n",
       "242345     NR     20.0     130.0                 NaN                 NaN   \n",
       "242346     NR  19.9725   130.292                 NaN                 NaN   \n",
       "242347     NR     19.9     130.6                 NaN                 NaN   \n",
       "242348     NR    19.73   130.865                 NaN                 NaN   \n",
       "242349     NR     19.5     131.1                 NaN                 NaN   \n",
       "\n",
       "        Distance to Land (km)  \n",
       "29189                   331.0  \n",
       "29190                   345.0  \n",
       "29191                   359.0  \n",
       "29192                   371.0  \n",
       "29193                   386.0  \n",
       "...                       ...  \n",
       "242345                  828.0  \n",
       "242346                  858.0  \n",
       "242347                  887.0  \n",
       "242348                  915.0  \n",
       "242349                  933.0  \n",
       "\n",
       "[213161 rows x 12 columns]"
      ]
     },
     "execution_count": 3,
     "metadata": {},
     "output_type": "execute_result"
    }
   ],
   "source": [
    "# create new dataframe from raw data\n",
    "\n",
    "# cut irrelevant columns (keep columns A to P)\n",
    "west_pacific_basin_clean_col = west_pacific_basin_raw[['SID', 'SEASON', 'NUMBER', 'BASIN', 'NAME', 'ISO_TIME',\n",
    "                                                       'NATURE', 'LAT', 'LON', 'WMO_WIND', 'WMO_PRES', 'DIST2LAND']]\n",
    "\n",
    "new_column_names = {'SID': 'ID', 'SEASON': 'Season', 'NUMBER': 'Number', 'BASIN': 'Basin',\n",
    "                    'NAME': 'Name', 'ISO_TIME': 'ISO Time', 'NATURE': 'Nature', 'LAT': 'Latitude',\n",
    "                    'LON': 'Longitude', 'WMO_WIND': 'Wind Speed (knots)',\n",
    "                    'WMO_PRES': 'Wind Pressure (mb)', 'DIST2LAND': 'Distance to Land (km)'}\n",
    "\n",
    "west_pacific_basin_clean_col_names = west_pacific_basin_clean_col.rename(columns=new_column_names)\n",
    "west_pacific_basin_clean_col_names.head()\n",
    "\n",
    "# turn ISO time into datetime datatype\n",
    "west_pacific_basin_clean_col_names['ISO Time'] = pd.to_datetime(west_pacific_basin_clean_col_names['ISO Time'], \n",
    "                                                                format='%Y-%m-%d %H', errors='coerce')\n",
    "\n",
    "# create a dataset from 1922 to 2022 from 'ISO_TIME'\n",
    "west_pacific_basin_final = west_pacific_basin_clean_col_names[(west_pacific_basin_clean_col_names['ISO Time'].dt.year >= 1922) &\n",
    "                                                              (west_pacific_basin_clean_col_names['ISO Time'].dt.year <= 2022)]\n",
    "\n",
    "columns_to_convert = [\"Number\", \"Wind Speed (knots)\", \"Wind Pressure (mb)\", \"Distance to Land (km)\"]\n",
    "for column in columns_to_convert:\n",
    "    west_pacific_basin_final[column] = pd.to_numeric(west_pacific_basin_final[column], errors='coerce').astype(float)\n",
    "\n",
    "west_pacific_basin_final.info()\n",
    "\n",
    "west_pacific_basin_final"
   ]
  },
  {
   "cell_type": "code",
   "execution_count": 4,
   "id": "a8a0ea2c",
   "metadata": {},
   "outputs": [
    {
     "name": "stdout",
     "output_type": "stream",
     "text": [
      "Number of 'NaT' values: 1\n"
     ]
    }
   ],
   "source": [
    "# count # of 'NaT' values in ['ISO Time']\n",
    "na_count = west_pacific_basin_clean_col_names['ISO Time'].isna().sum()\n",
    "print(\"Number of 'NaT' values:\", na_count)"
   ]
  },
  {
   "cell_type": "code",
   "execution_count": 5,
   "id": "11eff84c",
   "metadata": {},
   "outputs": [
    {
     "name": "stderr",
     "output_type": "stream",
     "text": [
      "C:\\Users\\16133\\AppData\\Local\\Temp\\ipykernel_8412\\223158320.py:3: SettingWithCopyWarning:\n",
      "\n",
      "\n",
      "A value is trying to be set on a copy of a slice from a DataFrame.\n",
      "Try using .loc[row_indexer,col_indexer] = value instead\n",
      "\n",
      "See the caveats in the documentation: https://pandas.pydata.org/pandas-docs/stable/user_guide/indexing.html#returning-a-view-versus-a-copy\n",
      "\n"
     ]
    }
   ],
   "source": [
    "def plot_hurricane_paths(df):\n",
    "    # Group data by decades\n",
    "    df['Decade'] = (df['ISO Time'].dt.year // 10) * 10\n",
    "    grouped = df.groupby('Decade')\n",
    "\n",
    "    for i, (decade, group) in enumerate(grouped):\n",
    "        # Update the decade label for each iteration\n",
    "        \n",
    "        if i == 0:\n",
    "            # Change the year range for the first iteration\n",
    "            start_year = 1922\n",
    "            end_year = 1931\n",
    "            decade_label = f\"{start_year}-{end_year}\"\n",
    "        \n",
    "        else:\n",
    "            # Update the year range for subsequent iterations\n",
    "            start_year = decade + 2\n",
    "            end_year = decade + 11\n",
    "            decade_label = f\"{start_year}-{end_year}\"\n",
    "        \n",
    "        group = group[(group['ISO Time'].dt.year >= start_year) & (group['ISO Time'].dt.year <= end_year)]\n",
    "    \n",
    "        # Create hurricane path plot for the decade\n",
    "        fig = go.Figure(data=go.Scattergeo(\n",
    "            lat=group['Latitude'],\n",
    "            lon=group['Longitude'],\n",
    "            mode='markers',\n",
    "            marker=dict(\n",
    "                size=1,     \n",
    "                # Other marker attributes here\n",
    "            ),\n",
    "        ))\n",
    "        fig.update_layout(\n",
    "            title=f'Hurricane Paths ({decade_label})',\n",
    "            geo=dict(\n",
    "                resolution=110,\n",
    "                showland=True,\n",
    "                showlakes=True,\n",
    "                landcolor='rgb(204, 204, 204)',\n",
    "                countrycolor='rgb(204, 204, 204)',\n",
    "                lakecolor='rgb(255, 255, 255)',\n",
    "                projection_type=\"natural earth\",\n",
    "                fitbounds=\"locations\",  # Zoom the map around the data\n",
    "                coastlinewidth=1,\n",
    "                lataxis=dict(\n",
    "                    range=[-90, 90],\n",
    "                    showgrid=True,\n",
    "                    dtick=10\n",
    "                ),\n",
    "                lonaxis=dict(\n",
    "                    range=[-180, 180],\n",
    "                    showgrid=True,\n",
    "                    dtick=20\n",
    "                ),\n",
    "            )\n",
    "        )\n",
    "        \n",
    "        # Save the figure as a PNG file\n",
    "        pio.write_image(fig, f\"North_Pacific/Fig_{start_year}_{end_year}.png\")\n",
    "\n",
    "        if decade >= 2010:\n",
    "            break        \n",
    "        \n",
    "# Call the function to plot hurricane paths\n",
    "plot_hurricane_paths(west_pacific_basin_final)\n"
   ]
  },
  {
   "cell_type": "code",
   "execution_count": 118,
   "id": "0816eb40",
   "metadata": {},
   "outputs": [
    {
     "name": "stdout",
     "output_type": "stream",
     "text": [
      "          Name  Count\n",
      "0        MUIFA     75\n",
      "75   HINNAMNOR     73\n",
      "148       AERE     67\n",
      "215    MALAKAS     65\n",
      "280     NALGAE     61\n",
      "341   NANMADOL     57\n",
      "398       NORU     51\n",
      "449      NESAT     47\n",
      "496       ROKE     45\n",
      "541     MERBOK     33\n"
     ]
    }
   ],
   "source": [
    "# Find the top 10 longest hurricanes in 2022\n",
    "# Filter hurricanes for the year \n",
    "hurricanes_2022 = west_pacific_basin_final[west_pacific_basin_final['ISO Time'].dt.year == 2022]\n",
    "\n",
    "# Find the top 10 longest hurricanes based on maximum count of 'ID'\n",
    "top_10_longest_hurricanes_data = hurricanes_2022.groupby('ID').size().nlargest(10).reset_index(name='Count')\n",
    "top_10_longest_hurricanes_names = top_10_longest_hurricanes_data.merge(hurricanes_2022, on='ID').drop_duplicates(subset='ID')\n",
    "\n",
    "# Display the top 10 longest hurricanes of 2022\n",
    "print(top_10_longest_hurricanes_names[['Name', 'Count']])\n",
    "\n",
    "# Create a new dataset for the top 10 longest hurricanes\n",
    "top_10_longest_hurricanes_dataset = west_pacific_basin_final[west_pacific_basin_final['ID'].isin(top_10_longest_hurricanes_data['ID'])]"
   ]
  },
  {
   "cell_type": "code",
   "execution_count": 115,
   "id": "c48fc5a1",
   "metadata": {},
   "outputs": [
    {
     "data": {
      "application/vnd.plotly.v1+json": {
       "config": {
        "plotlyServerURL": "https://plot.ly"
       },
       "data": [
        {
         "lat": [
          3.6,
          3.82008,
          4,
          4.11494,
          4.2,
          4.26258,
          4.4,
          4.71997,
          5.1,
          5.41501,
          5.7,
          5.97242,
          6.2,
          6.35019,
          6.5,
          6.71987,
          7,
          7.32952,
          7.7,
          8.04757,
          8.47423,
          9.00249,
          9.7,
          10.7192,
          11.6,
          11.8556,
          11.9,
          12.2097,
          12.4,
          12.1423,
          11.9,
          12.0875,
          12.5,
          12.9925,
          13.5,
          13.9025,
          14.2,
          14.335,
          14.5,
          14.9426,
          15.4,
          15.6449,
          15.8,
          15.935,
          16.1,
          16.3775,
          16.7,
          16.9999,
          17.3,
          17.5775,
          17.9,
          18.3276,
          18.8,
          19.2499,
          19.7,
          20.1275,
          20.6,
          21.1849,
          21.8,
          22.3722,
          22.9,
          23.2458,
          23.8,
          24.8845,
          26.3
         ],
         "lon": [
          148.4,
          147.963,
          147.6,
          147.35,
          147.1,
          146.655,
          146.3,
          146.32,
          146.4,
          146.238,
          146,
          145.845,
          145.6,
          145.078,
          144.6,
          144.535,
          144.5,
          144.144,
          143.7,
          143.374,
          143.016,
          142.584,
          142,
          141.24,
          140.3,
          139.169,
          138.1,
          137.278,
          136.8,
          136.782,
          136.9,
          136.745,
          136.5,
          136.243,
          136,
          135.82,
          135.7,
          135.657,
          135.6,
          135.4,
          135.2,
          135.097,
          135.1,
          135.205,
          135.4,
          135.635,
          135.9,
          136.143,
          136.4,
          136.693,
          137,
          137.345,
          137.6,
          137.616,
          137.6,
          137.763,
          138,
          138.228,
          138.5,
          138.798,
          139.2,
          139.838,
          140.4,
          140.613,
          140.6
         ],
         "mode": "lines",
         "name": "MALAKAS",
         "type": "scattergeo"
        },
        {
         "lat": [
          19.9,
          20.0827,
          20.3,
          20.5899,
          21,
          21.5924,
          22.2,
          22.5775,
          23,
          23.7124,
          24.5,
          25.1872,
          25.8,
          26.3529,
          26.8,
          27.1448,
          27.4,
          27.6148,
          27.8,
          28,
          28.2,
          28.3851,
          28.6,
          28.8699,
          29.2,
          29.5853,
          30,
          30.4072,
          30.8,
          31.1125,
          31.5,
          32.1723,
          32.8,
          33.0821,
          33.2,
          33.3226,
          33.4,
          33.4459,
          33.5,
          33.6352,
          33.7,
          33.5152,
          33.4,
          33.6809,
          34,
          34.0565,
          34,
          33.893,
          33.8,
          33.8198,
          33.9,
          33.9995,
          34.1,
          34.1278,
          34.2,
          34.4868,
          34.7,
          34.5167,
          34.3,
          34.4496,
          34.6,
          34.3786,
          34.2,
          34.3883,
          34.8,
          35.3244,
          35.9
         ],
         "lon": [
          130.2,
          130.582,
          130.9,
          131.103,
          131.2,
          131.252,
          131.2,
          131.037,
          130.8,
          130.58,
          130.3,
          129.952,
          129.5,
          128.9,
          128.3,
          127.832,
          127.5,
          127.312,
          127.2,
          127.057,
          126.9,
          126.655,
          126.5,
          126.568,
          126.8,
          127.149,
          127.5,
          127.651,
          127.8,
          128.106,
          128.5,
          128.919,
          129.4,
          129.914,
          130.5,
          131.185,
          131.9,
          132.409,
          133.2,
          134.773,
          136.5,
          137.684,
          138.8,
          140.327,
          141.7,
          142.406,
          142.9,
          143.666,
          144.4,
          144.997,
          145.4,
          145.53,
          145.6,
          145.937,
          146.2,
          146.193,
          145.9,
          145.195,
          144.6,
          144.778,
          145,
          144.461,
          144,
          144.374,
          144.9,
          145.039,
          144.9
         ],
         "mode": "lines",
         "name": "AERE",
         "type": "scattergeo"
        },
        {
         "lat": [
          25.8,
          26.2802,
          26.7,
          27.0098,
          27.2,
          27.2791,
          27.3,
          27.3653,
          27.4,
          27.3714,
          27.3,
          27.2146,
          27.1,
          26.9416,
          26.8,
          26.7423,
          26.7,
          26.6068,
          26.5,
          26.4145,
          26.3,
          26.1223,
          25.9,
          25.6644,
          25.4,
          25.1223,
          24.8,
          24.46,
          24,
          23.2998,
          22.6,
          22.1324,
          21.8,
          21.4825,
          21.3,
          21.305,
          21.4,
          21.42,
          21.5,
          21.7425,
          22,
          22.1226,
          22.2,
          22.2625,
          22.4,
          22.72,
          23.1,
          23.3925,
          23.7,
          24.1,
          24.5,
          24.785,
          25.1,
          25.5775,
          26.1,
          26.565,
          27,
          27.4075,
          27.8,
          28.17,
          28.6,
          29.1624,
          29.8,
          30.4348,
          31.1,
          31.7621,
          32.5,
          33.3384,
          34.3,
          35.2872,
          36.5,
          38.0541,
          39.8
         ],
         "lon": [
          149.3,
          148.836,
          148.3,
          147.645,
          146.9,
          146.152,
          145.3,
          144.273,
          143.2,
          142.242,
          141.3,
          140.3,
          139.3,
          138.35,
          137.4,
          136.393,
          135.4,
          134.478,
          133.6,
          132.735,
          131.9,
          131.07,
          130.3,
          129.628,
          129,
          128.343,
          127.7,
          127.055,
          126.5,
          126.082,
          125.8,
          125.59,
          125.5,
          125.535,
          125.6,
          125.565,
          125.5,
          125.465,
          125.4,
          125.273,
          125.1,
          124.877,
          124.7,
          124.67,
          124.7,
          124.7,
          124.7,
          124.7,
          124.7,
          124.707,
          124.7,
          124.657,
          124.6,
          124.535,
          124.5,
          124.535,
          124.6,
          124.657,
          124.7,
          124.693,
          124.7,
          124.755,
          124.9,
          125.141,
          125.5,
          125.934,
          126.5,
          127.134,
          128,
          129.179,
          130.6,
          132.148,
          133.8
         ],
         "mode": "lines",
         "name": "HINNAMNOR",
         "type": "scattergeo"
        },
        {
         "lat": [
          18.6,
          18.2205,
          17.8,
          17.3398,
          17,
          16.9173,
          17,
          17.165,
          17.3,
          17.2148,
          17.1,
          17.1276,
          17.2,
          17.2499,
          17.3,
          17.305,
          17.4,
          17.6747,
          18.1,
          18.6501,
          19.2,
          19.6171,
          19.9,
          20.0154,
          20.1,
          20.3347,
          20.6,
          20.785,
          21,
          21.3424,
          21.7,
          21.9726,
          22.2,
          22.415,
          22.6,
          22.7499,
          22.9,
          23.085,
          23.3,
          23.55,
          23.8,
          23.9925,
          24.2,
          24.515,
          24.8,
          24.93,
          25,
          25.0775,
          25.2,
          25.435,
          25.7,
          25.885,
          26.1,
          26.4425,
          26.8,
          27.05,
          27.3,
          27.635,
          28,
          28.3125,
          28.7,
          29.255,
          29.9,
          30.5199,
          31.2,
          32.0075,
          32.8,
          33.4302,
          34,
          34.5923,
          35.2,
          35.8424,
          36.5,
          37.1529,
          37.8
         ],
         "lon": [
          136.5,
          135.904,
          135.4,
          135.048,
          134.8,
          134.608,
          134.4,
          134.073,
          133.7,
          133.38,
          133,
          132.473,
          131.9,
          131.385,
          130.9,
          130.412,
          130,
          129.742,
          129.5,
          129.115,
          128.7,
          128.38,
          128,
          127.4,
          126.8,
          126.398,
          126.1,
          125.797,
          125.6,
          125.607,
          125.6,
          125.338,
          125,
          124.72,
          124.5,
          124.362,
          124.3,
          124.285,
          124.3,
          124.307,
          124.3,
          124.257,
          124.2,
          124.15,
          124.1,
          124.042,
          124,
          123.978,
          124,
          124.107,
          124.2,
          124.18,
          124.1,
          124.015,
          123.9,
          123.757,
          123.6,
          123.457,
          123.3,
          123.115,
          122.9,
          122.665,
          122.4,
          122.122,
          121.8,
          121.415,
          121,
          120.533,
          120.2,
          120.167,
          120.3,
          120.406,
          120.6,
          120.913,
          121.3
         ],
         "mode": "lines",
         "name": "MUIFA",
         "type": "scattergeo"
        },
        {
         "lat": [
          20.9,
          21.0626,
          21.2,
          21.2874,
          21.3,
          21.1775,
          21.1,
          21.2925,
          21.5,
          21.4424,
          21.4,
          21.59,
          21.9,
          22.235,
          22.6,
          22.9576,
          23.3,
          23.5924,
          23.9,
          24.2775,
          24.7,
          25.1049,
          25.6,
          26.2703,
          27,
          27.6424,
          28.3,
          28.99,
          29.8,
          30.785,
          31.9,
          33.0725,
          34.2672
         ],
         "lon": [
          159.8,
          159.598,
          159.5,
          159.582,
          159.8,
          160.078,
          160.4,
          160.715,
          161,
          161.208,
          161.4,
          161.635,
          161.9,
          162.193,
          162.5,
          162.83,
          163.1,
          163.26,
          163.3,
          163.238,
          163.1,
          162.979,
          162.8,
          162.479,
          162.2,
          162.154,
          162.2,
          162.222,
          162.2,
          161.991,
          161.9,
          162.189,
          162.73
         ],
         "mode": "lines",
         "name": "MERBOK",
         "type": "scattergeo"
        },
        {
         "lat": [
          21.7,
          21.6599,
          21.7,
          21.8703,
          22.1,
          22.3298,
          22.5,
          22.5151,
          22.5,
          22.5849,
          22.7,
          22.815,
          22.9,
          22.8999,
          22.9,
          22.985,
          23.1,
          23.2001,
          23.3,
          23.4225,
          23.5,
          23.4646,
          23.4,
          23.3627,
          23.4,
          23.5698,
          23.8,
          23.9849,
          24.2,
          24.4773,
          24.8,
          25.1577,
          25.5,
          25.7498,
          26,
          26.3201,
          26.7,
          27.1348,
          27.6,
          28.0276,
          28.5,
          29.0924,
          29.7,
          30.2,
          30.7,
          31.285,
          31.9,
          32.5149,
          33.1,
          33.6371,
          34.1,
          34.427,
          34.8,
          35.4034,
          36.1,
          36.7695,
          37.4
         ],
         "lon": [
          138.5,
          138.423,
          138.5,
          138.82,
          139.2,
          139.408,
          139.6,
          139.915,
          140.2,
          140.33,
          140.4,
          140.522,
          140.6,
          140.617,
          140.5,
          140.218,
          139.8,
          139.315,
          138.8,
          138.32,
          137.9,
          137.6,
          137.3,
          136.85,
          136.4,
          136.07,
          135.8,
          135.55,
          135.3,
          135.03,
          134.7,
          134.258,
          133.8,
          133.434,
          133.1,
          132.728,
          132.4,
          132.192,
          132,
          131.7,
          131.4,
          131.177,
          131,
          130.827,
          130.7,
          130.635,
          130.6,
          130.498,
          130.5,
          130.695,
          131.1,
          131.655,
          132.4,
          133.239,
          134.3,
          135.62,
          137.1
         ],
         "mode": "lines",
         "name": "NANMADOL",
         "type": "scattergeo"
        },
        {
         "lat": [
          17.7,
          17.8102,
          17.9,
          17.9573,
          18,
          18.058,
          18.1,
          18.1148,
          18.1,
          18.0644,
          18,
          17.9383,
          17.8,
          17.5442,
          17.2,
          16.7851,
          16.4,
          16.17,
          16,
          15.807,
          15.6,
          15.3278,
          15.1,
          15.0121,
          15,
          14.985,
          15,
          15.012,
          15.1,
          15.3352,
          15.6,
          15.787,
          15.9,
          15.9225,
          15.9,
          15.8992,
          15.9,
          15.9302,
          15.9,
          15.6926,
          15.5,
          15.5045,
          15.6,
          15.6921,
          15.8,
          15.9151,
          16,
          16.0441,
          16,
          15.8366,
          15.6
         ],
         "lon": [
          134.7,
          134.408,
          134.3,
          134.452,
          134.5,
          134.025,
          133.4,
          132.977,
          132.6,
          132.26,
          131.8,
          131.008,
          130.2,
          129.728,
          129.3,
          128.672,
          128,
          127.363,
          126.8,
          126.408,
          126,
          125.365,
          124.7,
          124.193,
          123.7,
          123.107,
          122.5,
          121.98,
          121.4,
          120.623,
          119.8,
          119.092,
          118.4,
          117.635,
          116.9,
          116.322,
          115.7,
          114.838,
          113.9,
          112.989,
          112.2,
          111.64,
          111.2,
          110.772,
          110.3,
          109.673,
          109,
          108.453,
          107.8,
          106.882,
          105.8
         ],
         "mode": "lines",
         "name": "NORU",
         "type": "scattergeo"
        },
        {
         "lat": [
          21.9,
          22.5477,
          23.1,
          23.5074,
          23.9,
          24.4499,
          25,
          25.4149,
          25.8,
          26.2724,
          26.7,
          26.9423,
          27.2,
          27.6609,
          28.2,
          28.7006,
          29.2,
          29.7448,
          30.2,
          30.3837,
          30.6,
          31.1312,
          31.8,
          32.4647,
          33.1,
          33.5995,
          34.1,
          34.7554,
          35.4,
          35.8953,
          36.3,
          36.71,
          37,
          37.0936,
          37.1,
          37.1876,
          37.2,
          36.9992,
          36.8,
          36.8085,
          36.9,
          36.9682,
          37.0575,
          37.17,
          37.2956
         ],
         "lon": [
          132.2,
          131.901,
          131.7,
          131.662,
          131.7,
          131.663,
          131.7,
          131.883,
          132.2,
          132.605,
          133.1,
          133.621,
          134.2,
          134.754,
          135.5,
          136.61,
          137.9,
          139.172,
          140.4,
          141.499,
          142.5,
          143.45,
          144.4,
          145.443,
          146.5,
          147.532,
          148.5,
          149.329,
          150.2,
          151.313,
          152.5,
          153.659,
          154.7,
          155.519,
          156.2,
          156.917,
          157.5,
          157.831,
          158.1,
          158.551,
          159,
          159.332,
          159.578,
          159.759,
          159.906
         ],
         "mode": "lines",
         "name": "ROKE",
         "type": "scattergeo"
        },
        {
         "lat": [
          18.8,
          18.9154,
          18.9,
          18.688,
          18.5,
          18.5885,
          18.8,
          19.0146,
          19.2,
          19.2649,
          19.3,
          19.3851,
          19.5,
          19.672,
          19.8,
          19.7651,
          19.7,
          19.7874,
          19.8,
          19.5221,
          19.2,
          19.0778,
          19,
          18.8723,
          18.7,
          18.4351,
          18.2,
          18.1574,
          18.1,
          17.8148,
          17.5,
          17.32,
          17.2,
          17.0776,
          17,
          16.9698,
          17,
          17.0849,
          17.2,
          17.3002,
          17.4,
          17.5073,
          17.6,
          17.68,
          17.7,
          17.6276,
          17.5
         ],
         "lon": [
          127.6,
          127.301,
          126.6,
          125.298,
          124,
          123.358,
          123,
          122.657,
          122.3,
          121.795,
          121.2,
          120.542,
          119.9,
          119.393,
          118.9,
          118.292,
          117.7,
          117.19,
          116.8,
          116.607,
          116.4,
          115.93,
          115.4,
          114.993,
          114.6,
          114.135,
          113.7,
          113.363,
          113.1,
          112.915,
          112.7,
          112.345,
          111.9,
          111.392,
          110.9,
          110.535,
          110.2,
          109.815,
          109.4,
          108.913,
          108.5,
          108.282,
          108.2,
          108.2,
          108.2,
          108.087,
          107.9
         ],
         "mode": "lines",
         "name": "NESAT",
         "type": "scattergeo"
        },
        {
         "lat": [
          12.6,
          12.3727,
          12.2,
          12.1199,
          12.1,
          12.0923,
          12.1,
          12.0699,
          12.1,
          12.2552,
          12.5,
          12.7546,
          13.1,
          13.6825,
          14.1,
          13.9025,
          13.6,
          13.6822,
          13.9,
          14.0099,
          14.3,
          15.042,
          15.8,
          16.2305,
          16.3,
          15.9178,
          15.4,
          15.0349,
          15,
          15.5976,
          16.3,
          16.495,
          16.6,
          16.92,
          17.3,
          17.6576,
          18,
          18.315,
          18.6,
          18.8875,
          19.1,
          19.1425,
          19.2,
          19.4775,
          19.8,
          20.0225,
          20.2,
          20.35,
          20.5,
          20.6775,
          20.9,
          21.1847,
          21.5,
          21.8153,
          22.1,
          22.3451,
          22.5,
          22.5297,
          22.5,
          22.4902,
          22.5
         ],
         "lon": [
          130.7,
          130.255,
          130,
          130.035,
          130.1,
          129.947,
          129.6,
          129.09,
          128.4,
          127.573,
          126.7,
          125.942,
          125.2,
          124.394,
          123.6,
          122.839,
          122.2,
          121.74,
          121.4,
          121.085,
          120.8,
          120.575,
          120.2,
          119.461,
          118.6,
          117.741,
          117.2,
          117.376,
          117.7,
          117.561,
          117.3,
          117.135,
          117,
          116.907,
          116.8,
          116.593,
          116.4,
          116.335,
          116.3,
          116.208,
          116.1,
          116.007,
          115.9,
          115.75,
          115.6,
          115.492,
          115.4,
          115.307,
          115.2,
          115.043,
          114.9,
          114.902,
          114.8,
          114.36,
          113.8,
          113.305,
          112.9,
          112.67,
          112.5,
          112.273,
          112
         ],
         "mode": "lines",
         "name": "NALGAE",
         "type": "scattergeo"
        }
       ],
       "layout": {
        "geo": {
         "coastlinewidth": 1,
         "countrycolor": "rgb(204, 204, 204)",
         "fitbounds": "locations",
         "lakecolor": "rgb(255, 255, 255)",
         "landcolor": "rgb(204, 204, 204)",
         "lataxis": {
          "dtick": 10,
          "range": [
           -90,
           90
          ],
          "showgrid": true
         },
         "lonaxis": {
          "dtick": 20,
          "range": [
           -180,
           180
          ],
          "showgrid": true
         },
         "projection": {
          "type": "robinson"
         },
         "resolution": 50,
         "showlakes": true,
         "showland": true
        },
        "showlegend": true,
        "template": {
         "data": {
          "bar": [
           {
            "error_x": {
             "color": "#2a3f5f"
            },
            "error_y": {
             "color": "#2a3f5f"
            },
            "marker": {
             "line": {
              "color": "#E5ECF6",
              "width": 0.5
             },
             "pattern": {
              "fillmode": "overlay",
              "size": 10,
              "solidity": 0.2
             }
            },
            "type": "bar"
           }
          ],
          "barpolar": [
           {
            "marker": {
             "line": {
              "color": "#E5ECF6",
              "width": 0.5
             },
             "pattern": {
              "fillmode": "overlay",
              "size": 10,
              "solidity": 0.2
             }
            },
            "type": "barpolar"
           }
          ],
          "carpet": [
           {
            "aaxis": {
             "endlinecolor": "#2a3f5f",
             "gridcolor": "white",
             "linecolor": "white",
             "minorgridcolor": "white",
             "startlinecolor": "#2a3f5f"
            },
            "baxis": {
             "endlinecolor": "#2a3f5f",
             "gridcolor": "white",
             "linecolor": "white",
             "minorgridcolor": "white",
             "startlinecolor": "#2a3f5f"
            },
            "type": "carpet"
           }
          ],
          "choropleth": [
           {
            "colorbar": {
             "outlinewidth": 0,
             "ticks": ""
            },
            "type": "choropleth"
           }
          ],
          "contour": [
           {
            "colorbar": {
             "outlinewidth": 0,
             "ticks": ""
            },
            "colorscale": [
             [
              0,
              "#0d0887"
             ],
             [
              0.1111111111111111,
              "#46039f"
             ],
             [
              0.2222222222222222,
              "#7201a8"
             ],
             [
              0.3333333333333333,
              "#9c179e"
             ],
             [
              0.4444444444444444,
              "#bd3786"
             ],
             [
              0.5555555555555556,
              "#d8576b"
             ],
             [
              0.6666666666666666,
              "#ed7953"
             ],
             [
              0.7777777777777778,
              "#fb9f3a"
             ],
             [
              0.8888888888888888,
              "#fdca26"
             ],
             [
              1,
              "#f0f921"
             ]
            ],
            "type": "contour"
           }
          ],
          "contourcarpet": [
           {
            "colorbar": {
             "outlinewidth": 0,
             "ticks": ""
            },
            "type": "contourcarpet"
           }
          ],
          "heatmap": [
           {
            "colorbar": {
             "outlinewidth": 0,
             "ticks": ""
            },
            "colorscale": [
             [
              0,
              "#0d0887"
             ],
             [
              0.1111111111111111,
              "#46039f"
             ],
             [
              0.2222222222222222,
              "#7201a8"
             ],
             [
              0.3333333333333333,
              "#9c179e"
             ],
             [
              0.4444444444444444,
              "#bd3786"
             ],
             [
              0.5555555555555556,
              "#d8576b"
             ],
             [
              0.6666666666666666,
              "#ed7953"
             ],
             [
              0.7777777777777778,
              "#fb9f3a"
             ],
             [
              0.8888888888888888,
              "#fdca26"
             ],
             [
              1,
              "#f0f921"
             ]
            ],
            "type": "heatmap"
           }
          ],
          "heatmapgl": [
           {
            "colorbar": {
             "outlinewidth": 0,
             "ticks": ""
            },
            "colorscale": [
             [
              0,
              "#0d0887"
             ],
             [
              0.1111111111111111,
              "#46039f"
             ],
             [
              0.2222222222222222,
              "#7201a8"
             ],
             [
              0.3333333333333333,
              "#9c179e"
             ],
             [
              0.4444444444444444,
              "#bd3786"
             ],
             [
              0.5555555555555556,
              "#d8576b"
             ],
             [
              0.6666666666666666,
              "#ed7953"
             ],
             [
              0.7777777777777778,
              "#fb9f3a"
             ],
             [
              0.8888888888888888,
              "#fdca26"
             ],
             [
              1,
              "#f0f921"
             ]
            ],
            "type": "heatmapgl"
           }
          ],
          "histogram": [
           {
            "marker": {
             "pattern": {
              "fillmode": "overlay",
              "size": 10,
              "solidity": 0.2
             }
            },
            "type": "histogram"
           }
          ],
          "histogram2d": [
           {
            "colorbar": {
             "outlinewidth": 0,
             "ticks": ""
            },
            "colorscale": [
             [
              0,
              "#0d0887"
             ],
             [
              0.1111111111111111,
              "#46039f"
             ],
             [
              0.2222222222222222,
              "#7201a8"
             ],
             [
              0.3333333333333333,
              "#9c179e"
             ],
             [
              0.4444444444444444,
              "#bd3786"
             ],
             [
              0.5555555555555556,
              "#d8576b"
             ],
             [
              0.6666666666666666,
              "#ed7953"
             ],
             [
              0.7777777777777778,
              "#fb9f3a"
             ],
             [
              0.8888888888888888,
              "#fdca26"
             ],
             [
              1,
              "#f0f921"
             ]
            ],
            "type": "histogram2d"
           }
          ],
          "histogram2dcontour": [
           {
            "colorbar": {
             "outlinewidth": 0,
             "ticks": ""
            },
            "colorscale": [
             [
              0,
              "#0d0887"
             ],
             [
              0.1111111111111111,
              "#46039f"
             ],
             [
              0.2222222222222222,
              "#7201a8"
             ],
             [
              0.3333333333333333,
              "#9c179e"
             ],
             [
              0.4444444444444444,
              "#bd3786"
             ],
             [
              0.5555555555555556,
              "#d8576b"
             ],
             [
              0.6666666666666666,
              "#ed7953"
             ],
             [
              0.7777777777777778,
              "#fb9f3a"
             ],
             [
              0.8888888888888888,
              "#fdca26"
             ],
             [
              1,
              "#f0f921"
             ]
            ],
            "type": "histogram2dcontour"
           }
          ],
          "mesh3d": [
           {
            "colorbar": {
             "outlinewidth": 0,
             "ticks": ""
            },
            "type": "mesh3d"
           }
          ],
          "parcoords": [
           {
            "line": {
             "colorbar": {
              "outlinewidth": 0,
              "ticks": ""
             }
            },
            "type": "parcoords"
           }
          ],
          "pie": [
           {
            "automargin": true,
            "type": "pie"
           }
          ],
          "scatter": [
           {
            "fillpattern": {
             "fillmode": "overlay",
             "size": 10,
             "solidity": 0.2
            },
            "type": "scatter"
           }
          ],
          "scatter3d": [
           {
            "line": {
             "colorbar": {
              "outlinewidth": 0,
              "ticks": ""
             }
            },
            "marker": {
             "colorbar": {
              "outlinewidth": 0,
              "ticks": ""
             }
            },
            "type": "scatter3d"
           }
          ],
          "scattercarpet": [
           {
            "marker": {
             "colorbar": {
              "outlinewidth": 0,
              "ticks": ""
             }
            },
            "type": "scattercarpet"
           }
          ],
          "scattergeo": [
           {
            "marker": {
             "colorbar": {
              "outlinewidth": 0,
              "ticks": ""
             }
            },
            "type": "scattergeo"
           }
          ],
          "scattergl": [
           {
            "marker": {
             "colorbar": {
              "outlinewidth": 0,
              "ticks": ""
             }
            },
            "type": "scattergl"
           }
          ],
          "scattermapbox": [
           {
            "marker": {
             "colorbar": {
              "outlinewidth": 0,
              "ticks": ""
             }
            },
            "type": "scattermapbox"
           }
          ],
          "scatterpolar": [
           {
            "marker": {
             "colorbar": {
              "outlinewidth": 0,
              "ticks": ""
             }
            },
            "type": "scatterpolar"
           }
          ],
          "scatterpolargl": [
           {
            "marker": {
             "colorbar": {
              "outlinewidth": 0,
              "ticks": ""
             }
            },
            "type": "scatterpolargl"
           }
          ],
          "scatterternary": [
           {
            "marker": {
             "colorbar": {
              "outlinewidth": 0,
              "ticks": ""
             }
            },
            "type": "scatterternary"
           }
          ],
          "surface": [
           {
            "colorbar": {
             "outlinewidth": 0,
             "ticks": ""
            },
            "colorscale": [
             [
              0,
              "#0d0887"
             ],
             [
              0.1111111111111111,
              "#46039f"
             ],
             [
              0.2222222222222222,
              "#7201a8"
             ],
             [
              0.3333333333333333,
              "#9c179e"
             ],
             [
              0.4444444444444444,
              "#bd3786"
             ],
             [
              0.5555555555555556,
              "#d8576b"
             ],
             [
              0.6666666666666666,
              "#ed7953"
             ],
             [
              0.7777777777777778,
              "#fb9f3a"
             ],
             [
              0.8888888888888888,
              "#fdca26"
             ],
             [
              1,
              "#f0f921"
             ]
            ],
            "type": "surface"
           }
          ],
          "table": [
           {
            "cells": {
             "fill": {
              "color": "#EBF0F8"
             },
             "line": {
              "color": "white"
             }
            },
            "header": {
             "fill": {
              "color": "#C8D4E3"
             },
             "line": {
              "color": "white"
             }
            },
            "type": "table"
           }
          ]
         },
         "layout": {
          "annotationdefaults": {
           "arrowcolor": "#2a3f5f",
           "arrowhead": 0,
           "arrowwidth": 1
          },
          "autotypenumbers": "strict",
          "coloraxis": {
           "colorbar": {
            "outlinewidth": 0,
            "ticks": ""
           }
          },
          "colorscale": {
           "diverging": [
            [
             0,
             "#8e0152"
            ],
            [
             0.1,
             "#c51b7d"
            ],
            [
             0.2,
             "#de77ae"
            ],
            [
             0.3,
             "#f1b6da"
            ],
            [
             0.4,
             "#fde0ef"
            ],
            [
             0.5,
             "#f7f7f7"
            ],
            [
             0.6,
             "#e6f5d0"
            ],
            [
             0.7,
             "#b8e186"
            ],
            [
             0.8,
             "#7fbc41"
            ],
            [
             0.9,
             "#4d9221"
            ],
            [
             1,
             "#276419"
            ]
           ],
           "sequential": [
            [
             0,
             "#0d0887"
            ],
            [
             0.1111111111111111,
             "#46039f"
            ],
            [
             0.2222222222222222,
             "#7201a8"
            ],
            [
             0.3333333333333333,
             "#9c179e"
            ],
            [
             0.4444444444444444,
             "#bd3786"
            ],
            [
             0.5555555555555556,
             "#d8576b"
            ],
            [
             0.6666666666666666,
             "#ed7953"
            ],
            [
             0.7777777777777778,
             "#fb9f3a"
            ],
            [
             0.8888888888888888,
             "#fdca26"
            ],
            [
             1,
             "#f0f921"
            ]
           ],
           "sequentialminus": [
            [
             0,
             "#0d0887"
            ],
            [
             0.1111111111111111,
             "#46039f"
            ],
            [
             0.2222222222222222,
             "#7201a8"
            ],
            [
             0.3333333333333333,
             "#9c179e"
            ],
            [
             0.4444444444444444,
             "#bd3786"
            ],
            [
             0.5555555555555556,
             "#d8576b"
            ],
            [
             0.6666666666666666,
             "#ed7953"
            ],
            [
             0.7777777777777778,
             "#fb9f3a"
            ],
            [
             0.8888888888888888,
             "#fdca26"
            ],
            [
             1,
             "#f0f921"
            ]
           ]
          },
          "colorway": [
           "#636efa",
           "#EF553B",
           "#00cc96",
           "#ab63fa",
           "#FFA15A",
           "#19d3f3",
           "#FF6692",
           "#B6E880",
           "#FF97FF",
           "#FECB52"
          ],
          "font": {
           "color": "#2a3f5f"
          },
          "geo": {
           "bgcolor": "white",
           "lakecolor": "white",
           "landcolor": "#E5ECF6",
           "showlakes": true,
           "showland": true,
           "subunitcolor": "white"
          },
          "hoverlabel": {
           "align": "left"
          },
          "hovermode": "closest",
          "mapbox": {
           "style": "light"
          },
          "paper_bgcolor": "white",
          "plot_bgcolor": "#E5ECF6",
          "polar": {
           "angularaxis": {
            "gridcolor": "white",
            "linecolor": "white",
            "ticks": ""
           },
           "bgcolor": "#E5ECF6",
           "radialaxis": {
            "gridcolor": "white",
            "linecolor": "white",
            "ticks": ""
           }
          },
          "scene": {
           "xaxis": {
            "backgroundcolor": "#E5ECF6",
            "gridcolor": "white",
            "gridwidth": 2,
            "linecolor": "white",
            "showbackground": true,
            "ticks": "",
            "zerolinecolor": "white"
           },
           "yaxis": {
            "backgroundcolor": "#E5ECF6",
            "gridcolor": "white",
            "gridwidth": 2,
            "linecolor": "white",
            "showbackground": true,
            "ticks": "",
            "zerolinecolor": "white"
           },
           "zaxis": {
            "backgroundcolor": "#E5ECF6",
            "gridcolor": "white",
            "gridwidth": 2,
            "linecolor": "white",
            "showbackground": true,
            "ticks": "",
            "zerolinecolor": "white"
           }
          },
          "shapedefaults": {
           "line": {
            "color": "#2a3f5f"
           }
          },
          "ternary": {
           "aaxis": {
            "gridcolor": "white",
            "linecolor": "white",
            "ticks": ""
           },
           "baxis": {
            "gridcolor": "white",
            "linecolor": "white",
            "ticks": ""
           },
           "bgcolor": "#E5ECF6",
           "caxis": {
            "gridcolor": "white",
            "linecolor": "white",
            "ticks": ""
           }
          },
          "title": {
           "x": 0.05
          },
          "xaxis": {
           "automargin": true,
           "gridcolor": "white",
           "linecolor": "white",
           "ticks": "",
           "title": {
            "standoff": 15
           },
           "zerolinecolor": "white",
           "zerolinewidth": 2
          },
          "yaxis": {
           "automargin": true,
           "gridcolor": "white",
           "linecolor": "white",
           "ticks": "",
           "title": {
            "standoff": 15
           },
           "zerolinecolor": "white",
           "zerolinewidth": 2
          }
         }
        },
        "title": {
         "text": "Top 10 Longest Hurricanes in North Asia Pacific (2022)"
        }
       }
      },
      "text/html": [
       "<div>                            <div id=\"64ee8eff-3bf9-46a3-9b55-f33fa3b13083\" class=\"plotly-graph-div\" style=\"height:525px; width:100%;\"></div>            <script type=\"text/javascript\">                require([\"plotly\"], function(Plotly) {                    window.PLOTLYENV=window.PLOTLYENV || {};                                    if (document.getElementById(\"64ee8eff-3bf9-46a3-9b55-f33fa3b13083\")) {                    Plotly.newPlot(                        \"64ee8eff-3bf9-46a3-9b55-f33fa3b13083\",                        [{\"lat\":[3.6,3.82008,4.0,4.11494,4.2,4.26258,4.4,4.71997,5.1,5.41501,5.7,5.97242,6.2,6.35019,6.5,6.71987,7.0,7.32952,7.7,8.04757,8.47423,9.00249,9.7,10.7192,11.6,11.8556,11.9,12.2097,12.4,12.1423,11.9,12.0875,12.5,12.9925,13.5,13.9025,14.2,14.335,14.5,14.9426,15.4,15.6449,15.8,15.935,16.1,16.3775,16.7,16.9999,17.3,17.5775,17.9,18.3276,18.8,19.2499,19.7,20.1275,20.6,21.1849,21.8,22.3722,22.9,23.2458,23.8,24.8845,26.3],\"lon\":[148.4,147.963,147.6,147.35,147.1,146.655,146.3,146.32,146.4,146.238,146.0,145.845,145.6,145.078,144.6,144.535,144.5,144.144,143.7,143.374,143.016,142.584,142.0,141.24,140.3,139.169,138.1,137.278,136.8,136.782,136.9,136.745,136.5,136.243,136.0,135.82,135.7,135.657,135.6,135.4,135.2,135.097,135.1,135.205,135.4,135.635,135.9,136.143,136.4,136.693,137.0,137.345,137.6,137.616,137.6,137.763,138.0,138.228,138.5,138.798,139.2,139.838,140.4,140.613,140.6],\"mode\":\"lines\",\"name\":\"MALAKAS\",\"type\":\"scattergeo\"},{\"lat\":[19.9,20.0827,20.3,20.5899,21.0,21.5924,22.2,22.5775,23.0,23.7124,24.5,25.1872,25.8,26.3529,26.8,27.1448,27.4,27.6148,27.8,28.0,28.2,28.3851,28.6,28.8699,29.2,29.5853,30.0,30.4072,30.8,31.1125,31.5,32.1723,32.8,33.0821,33.2,33.3226,33.4,33.4459,33.5,33.6352,33.7,33.5152,33.4,33.6809,34.0,34.0565,34.0,33.893,33.8,33.8198,33.9,33.9995,34.1,34.1278,34.2,34.4868,34.7,34.5167,34.3,34.4496,34.6,34.3786,34.2,34.3883,34.8,35.3244,35.9],\"lon\":[130.2,130.582,130.9,131.103,131.2,131.252,131.2,131.037,130.8,130.58,130.3,129.952,129.5,128.9,128.3,127.832,127.5,127.312,127.2,127.057,126.9,126.655,126.5,126.568,126.8,127.149,127.5,127.651,127.8,128.106,128.5,128.919,129.4,129.914,130.5,131.185,131.9,132.409,133.2,134.773,136.5,137.684,138.8,140.327,141.7,142.406,142.9,143.666,144.4,144.997,145.4,145.53,145.6,145.937,146.2,146.193,145.9,145.195,144.6,144.778,145.0,144.461,144.0,144.374,144.9,145.039,144.9],\"mode\":\"lines\",\"name\":\"AERE\",\"type\":\"scattergeo\"},{\"lat\":[25.8,26.2802,26.7,27.0098,27.2,27.2791,27.3,27.3653,27.4,27.3714,27.3,27.2146,27.1,26.9416,26.8,26.7423,26.7,26.6068,26.5,26.4145,26.3,26.1223,25.9,25.6644,25.4,25.1223,24.8,24.46,24.0,23.2998,22.6,22.1324,21.8,21.4825,21.3,21.305,21.4,21.42,21.5,21.7425,22.0,22.1226,22.2,22.2625,22.4,22.72,23.1,23.3925,23.7,24.1,24.5,24.785,25.1,25.5775,26.1,26.565,27.0,27.4075,27.8,28.17,28.6,29.1624,29.8,30.4348,31.1,31.7621,32.5,33.3384,34.3,35.2872,36.5,38.0541,39.8],\"lon\":[149.3,148.836,148.3,147.645,146.9,146.152,145.3,144.273,143.2,142.242,141.3,140.3,139.3,138.35,137.4,136.393,135.4,134.478,133.6,132.735,131.9,131.07,130.3,129.628,129.0,128.343,127.7,127.055,126.5,126.082,125.8,125.59,125.5,125.535,125.6,125.565,125.5,125.465,125.4,125.273,125.1,124.877,124.7,124.67,124.7,124.7,124.7,124.7,124.7,124.707,124.7,124.657,124.6,124.535,124.5,124.535,124.6,124.657,124.7,124.693,124.7,124.755,124.9,125.141,125.5,125.934,126.5,127.134,128.0,129.179,130.6,132.148,133.8],\"mode\":\"lines\",\"name\":\"HINNAMNOR\",\"type\":\"scattergeo\"},{\"lat\":[18.6,18.2205,17.8,17.3398,17.0,16.9173,17.0,17.165,17.3,17.2148,17.1,17.1276,17.2,17.2499,17.3,17.305,17.4,17.6747,18.1,18.6501,19.2,19.6171,19.9,20.0154,20.1,20.3347,20.6,20.785,21.0,21.3424,21.7,21.9726,22.2,22.415,22.6,22.7499,22.9,23.085,23.3,23.55,23.8,23.9925,24.2,24.515,24.8,24.93,25.0,25.0775,25.2,25.435,25.7,25.885,26.1,26.4425,26.8,27.05,27.3,27.635,28.0,28.3125,28.7,29.255,29.9,30.5199,31.2,32.0075,32.8,33.4302,34.0,34.5923,35.2,35.8424,36.5,37.1529,37.8],\"lon\":[136.5,135.904,135.4,135.048,134.8,134.608,134.4,134.073,133.7,133.38,133.0,132.473,131.9,131.385,130.9,130.412,130.0,129.742,129.5,129.115,128.7,128.38,128.0,127.4,126.8,126.398,126.1,125.797,125.6,125.607,125.6,125.338,125.0,124.72,124.5,124.362,124.3,124.285,124.3,124.307,124.3,124.257,124.2,124.15,124.1,124.042,124.0,123.978,124.0,124.107,124.2,124.18,124.1,124.015,123.9,123.757,123.6,123.457,123.3,123.115,122.9,122.665,122.4,122.122,121.8,121.415,121.0,120.533,120.2,120.167,120.3,120.406,120.6,120.913,121.3],\"mode\":\"lines\",\"name\":\"MUIFA\",\"type\":\"scattergeo\"},{\"lat\":[20.9,21.0626,21.2,21.2874,21.3,21.1775,21.1,21.2925,21.5,21.4424,21.4,21.59,21.9,22.235,22.6,22.9576,23.3,23.5924,23.9,24.2775,24.7,25.1049,25.6,26.2703,27.0,27.6424,28.3,28.99,29.8,30.785,31.9,33.0725,34.2672],\"lon\":[159.8,159.598,159.5,159.582,159.8,160.078,160.4,160.715,161.0,161.208,161.4,161.635,161.9,162.193,162.5,162.83,163.1,163.26,163.3,163.238,163.1,162.979,162.8,162.479,162.2,162.154,162.2,162.222,162.2,161.991,161.9,162.189,162.73],\"mode\":\"lines\",\"name\":\"MERBOK\",\"type\":\"scattergeo\"},{\"lat\":[21.7,21.6599,21.7,21.8703,22.1,22.3298,22.5,22.5151,22.5,22.5849,22.7,22.815,22.9,22.8999,22.9,22.985,23.1,23.2001,23.3,23.4225,23.5,23.4646,23.4,23.3627,23.4,23.5698,23.8,23.9849,24.2,24.4773,24.8,25.1577,25.5,25.7498,26.0,26.3201,26.7,27.1348,27.6,28.0276,28.5,29.0924,29.7,30.2,30.7,31.285,31.9,32.5149,33.1,33.6371,34.1,34.427,34.8,35.4034,36.1,36.7695,37.4],\"lon\":[138.5,138.423,138.5,138.82,139.2,139.408,139.6,139.915,140.2,140.33,140.4,140.522,140.6,140.617,140.5,140.218,139.8,139.315,138.8,138.32,137.9,137.6,137.3,136.85,136.4,136.07,135.8,135.55,135.3,135.03,134.7,134.258,133.8,133.434,133.1,132.728,132.4,132.192,132.0,131.7,131.4,131.177,131.0,130.827,130.7,130.635,130.6,130.498,130.5,130.695,131.1,131.655,132.4,133.239,134.3,135.62,137.1],\"mode\":\"lines\",\"name\":\"NANMADOL\",\"type\":\"scattergeo\"},{\"lat\":[17.7,17.8102,17.9,17.9573,18.0,18.058,18.1,18.1148,18.1,18.0644,18.0,17.9383,17.8,17.5442,17.2,16.7851,16.4,16.17,16.0,15.807,15.6,15.3278,15.1,15.0121,15.0,14.985,15.0,15.012,15.1,15.3352,15.6,15.787,15.9,15.9225,15.9,15.8992,15.9,15.9302,15.9,15.6926,15.5,15.5045,15.6,15.6921,15.8,15.9151,16.0,16.0441,16.0,15.8366,15.6],\"lon\":[134.7,134.408,134.3,134.452,134.5,134.025,133.4,132.977,132.6,132.26,131.8,131.008,130.2,129.728,129.3,128.672,128.0,127.363,126.8,126.408,126.0,125.365,124.7,124.193,123.7,123.107,122.5,121.98,121.4,120.623,119.8,119.092,118.4,117.635,116.9,116.322,115.7,114.838,113.9,112.989,112.2,111.64,111.2,110.772,110.3,109.673,109.0,108.453,107.8,106.882,105.8],\"mode\":\"lines\",\"name\":\"NORU\",\"type\":\"scattergeo\"},{\"lat\":[21.9,22.5477,23.1,23.5074,23.9,24.4499,25.0,25.4149,25.8,26.2724,26.7,26.9423,27.2,27.6609,28.2,28.7006,29.2,29.7448,30.2,30.3837,30.6,31.1312,31.8,32.4647,33.1,33.5995,34.1,34.7554,35.4,35.8953,36.3,36.71,37.0,37.0936,37.1,37.1876,37.2,36.9992,36.8,36.8085,36.9,36.9682,37.0575,37.17,37.2956],\"lon\":[132.2,131.901,131.7,131.662,131.7,131.663,131.7,131.883,132.2,132.605,133.1,133.621,134.2,134.754,135.5,136.61,137.9,139.172,140.4,141.499,142.5,143.45,144.4,145.443,146.5,147.532,148.5,149.329,150.2,151.313,152.5,153.659,154.7,155.519,156.2,156.917,157.5,157.831,158.1,158.551,159.0,159.332,159.578,159.759,159.906],\"mode\":\"lines\",\"name\":\"ROKE\",\"type\":\"scattergeo\"},{\"lat\":[18.8,18.9154,18.9,18.688,18.5,18.5885,18.8,19.0146,19.2,19.2649,19.3,19.3851,19.5,19.672,19.8,19.7651,19.7,19.7874,19.8,19.5221,19.2,19.0778,19.0,18.8723,18.7,18.4351,18.2,18.1574,18.1,17.8148,17.5,17.32,17.2,17.0776,17.0,16.9698,17.0,17.0849,17.2,17.3002,17.4,17.5073,17.6,17.68,17.7,17.6276,17.5],\"lon\":[127.6,127.301,126.6,125.298,124.0,123.358,123.0,122.657,122.3,121.795,121.2,120.542,119.9,119.393,118.9,118.292,117.7,117.19,116.8,116.607,116.4,115.93,115.4,114.993,114.6,114.135,113.7,113.363,113.1,112.915,112.7,112.345,111.9,111.392,110.9,110.535,110.2,109.815,109.4,108.913,108.5,108.282,108.2,108.2,108.2,108.087,107.9],\"mode\":\"lines\",\"name\":\"NESAT\",\"type\":\"scattergeo\"},{\"lat\":[12.6,12.3727,12.2,12.1199,12.1,12.0923,12.1,12.0699,12.1,12.2552,12.5,12.7546,13.1,13.6825,14.1,13.9025,13.6,13.6822,13.9,14.0099,14.3,15.042,15.8,16.2305,16.3,15.9178,15.4,15.0349,15.0,15.5976,16.3,16.495,16.6,16.92,17.3,17.6576,18.0,18.315,18.6,18.8875,19.1,19.1425,19.2,19.4775,19.8,20.0225,20.2,20.35,20.5,20.6775,20.9,21.1847,21.5,21.8153,22.1,22.3451,22.5,22.5297,22.5,22.4902,22.5],\"lon\":[130.7,130.255,130.0,130.035,130.1,129.947,129.6,129.09,128.4,127.573,126.7,125.942,125.2,124.394,123.6,122.839,122.2,121.74,121.4,121.085,120.8,120.575,120.2,119.461,118.6,117.741,117.2,117.376,117.7,117.561,117.3,117.135,117.0,116.907,116.8,116.593,116.4,116.335,116.3,116.208,116.1,116.007,115.9,115.75,115.6,115.492,115.4,115.307,115.2,115.043,114.9,114.902,114.8,114.36,113.8,113.305,112.9,112.67,112.5,112.273,112.0],\"mode\":\"lines\",\"name\":\"NALGAE\",\"type\":\"scattergeo\"}],                        {\"geo\":{\"coastlinewidth\":1,\"countrycolor\":\"rgb(204, 204, 204)\",\"fitbounds\":\"locations\",\"lakecolor\":\"rgb(255, 255, 255)\",\"landcolor\":\"rgb(204, 204, 204)\",\"lataxis\":{\"dtick\":10,\"range\":[-90,90],\"showgrid\":true},\"lonaxis\":{\"dtick\":20,\"range\":[-180,180],\"showgrid\":true},\"projection\":{\"type\":\"robinson\"},\"resolution\":50,\"showlakes\":true,\"showland\":true},\"showlegend\":true,\"title\":{\"text\":\"Top 10 Longest Hurricanes in North Asia Pacific (2022)\"},\"template\":{\"data\":{\"histogram2dcontour\":[{\"type\":\"histogram2dcontour\",\"colorbar\":{\"outlinewidth\":0,\"ticks\":\"\"},\"colorscale\":[[0.0,\"#0d0887\"],[0.1111111111111111,\"#46039f\"],[0.2222222222222222,\"#7201a8\"],[0.3333333333333333,\"#9c179e\"],[0.4444444444444444,\"#bd3786\"],[0.5555555555555556,\"#d8576b\"],[0.6666666666666666,\"#ed7953\"],[0.7777777777777778,\"#fb9f3a\"],[0.8888888888888888,\"#fdca26\"],[1.0,\"#f0f921\"]]}],\"choropleth\":[{\"type\":\"choropleth\",\"colorbar\":{\"outlinewidth\":0,\"ticks\":\"\"}}],\"histogram2d\":[{\"type\":\"histogram2d\",\"colorbar\":{\"outlinewidth\":0,\"ticks\":\"\"},\"colorscale\":[[0.0,\"#0d0887\"],[0.1111111111111111,\"#46039f\"],[0.2222222222222222,\"#7201a8\"],[0.3333333333333333,\"#9c179e\"],[0.4444444444444444,\"#bd3786\"],[0.5555555555555556,\"#d8576b\"],[0.6666666666666666,\"#ed7953\"],[0.7777777777777778,\"#fb9f3a\"],[0.8888888888888888,\"#fdca26\"],[1.0,\"#f0f921\"]]}],\"heatmap\":[{\"type\":\"heatmap\",\"colorbar\":{\"outlinewidth\":0,\"ticks\":\"\"},\"colorscale\":[[0.0,\"#0d0887\"],[0.1111111111111111,\"#46039f\"],[0.2222222222222222,\"#7201a8\"],[0.3333333333333333,\"#9c179e\"],[0.4444444444444444,\"#bd3786\"],[0.5555555555555556,\"#d8576b\"],[0.6666666666666666,\"#ed7953\"],[0.7777777777777778,\"#fb9f3a\"],[0.8888888888888888,\"#fdca26\"],[1.0,\"#f0f921\"]]}],\"heatmapgl\":[{\"type\":\"heatmapgl\",\"colorbar\":{\"outlinewidth\":0,\"ticks\":\"\"},\"colorscale\":[[0.0,\"#0d0887\"],[0.1111111111111111,\"#46039f\"],[0.2222222222222222,\"#7201a8\"],[0.3333333333333333,\"#9c179e\"],[0.4444444444444444,\"#bd3786\"],[0.5555555555555556,\"#d8576b\"],[0.6666666666666666,\"#ed7953\"],[0.7777777777777778,\"#fb9f3a\"],[0.8888888888888888,\"#fdca26\"],[1.0,\"#f0f921\"]]}],\"contourcarpet\":[{\"type\":\"contourcarpet\",\"colorbar\":{\"outlinewidth\":0,\"ticks\":\"\"}}],\"contour\":[{\"type\":\"contour\",\"colorbar\":{\"outlinewidth\":0,\"ticks\":\"\"},\"colorscale\":[[0.0,\"#0d0887\"],[0.1111111111111111,\"#46039f\"],[0.2222222222222222,\"#7201a8\"],[0.3333333333333333,\"#9c179e\"],[0.4444444444444444,\"#bd3786\"],[0.5555555555555556,\"#d8576b\"],[0.6666666666666666,\"#ed7953\"],[0.7777777777777778,\"#fb9f3a\"],[0.8888888888888888,\"#fdca26\"],[1.0,\"#f0f921\"]]}],\"surface\":[{\"type\":\"surface\",\"colorbar\":{\"outlinewidth\":0,\"ticks\":\"\"},\"colorscale\":[[0.0,\"#0d0887\"],[0.1111111111111111,\"#46039f\"],[0.2222222222222222,\"#7201a8\"],[0.3333333333333333,\"#9c179e\"],[0.4444444444444444,\"#bd3786\"],[0.5555555555555556,\"#d8576b\"],[0.6666666666666666,\"#ed7953\"],[0.7777777777777778,\"#fb9f3a\"],[0.8888888888888888,\"#fdca26\"],[1.0,\"#f0f921\"]]}],\"mesh3d\":[{\"type\":\"mesh3d\",\"colorbar\":{\"outlinewidth\":0,\"ticks\":\"\"}}],\"scatter\":[{\"fillpattern\":{\"fillmode\":\"overlay\",\"size\":10,\"solidity\":0.2},\"type\":\"scatter\"}],\"parcoords\":[{\"type\":\"parcoords\",\"line\":{\"colorbar\":{\"outlinewidth\":0,\"ticks\":\"\"}}}],\"scatterpolargl\":[{\"type\":\"scatterpolargl\",\"marker\":{\"colorbar\":{\"outlinewidth\":0,\"ticks\":\"\"}}}],\"bar\":[{\"error_x\":{\"color\":\"#2a3f5f\"},\"error_y\":{\"color\":\"#2a3f5f\"},\"marker\":{\"line\":{\"color\":\"#E5ECF6\",\"width\":0.5},\"pattern\":{\"fillmode\":\"overlay\",\"size\":10,\"solidity\":0.2}},\"type\":\"bar\"}],\"scattergeo\":[{\"type\":\"scattergeo\",\"marker\":{\"colorbar\":{\"outlinewidth\":0,\"ticks\":\"\"}}}],\"scatterpolar\":[{\"type\":\"scatterpolar\",\"marker\":{\"colorbar\":{\"outlinewidth\":0,\"ticks\":\"\"}}}],\"histogram\":[{\"marker\":{\"pattern\":{\"fillmode\":\"overlay\",\"size\":10,\"solidity\":0.2}},\"type\":\"histogram\"}],\"scattergl\":[{\"type\":\"scattergl\",\"marker\":{\"colorbar\":{\"outlinewidth\":0,\"ticks\":\"\"}}}],\"scatter3d\":[{\"type\":\"scatter3d\",\"line\":{\"colorbar\":{\"outlinewidth\":0,\"ticks\":\"\"}},\"marker\":{\"colorbar\":{\"outlinewidth\":0,\"ticks\":\"\"}}}],\"scattermapbox\":[{\"type\":\"scattermapbox\",\"marker\":{\"colorbar\":{\"outlinewidth\":0,\"ticks\":\"\"}}}],\"scatterternary\":[{\"type\":\"scatterternary\",\"marker\":{\"colorbar\":{\"outlinewidth\":0,\"ticks\":\"\"}}}],\"scattercarpet\":[{\"type\":\"scattercarpet\",\"marker\":{\"colorbar\":{\"outlinewidth\":0,\"ticks\":\"\"}}}],\"carpet\":[{\"aaxis\":{\"endlinecolor\":\"#2a3f5f\",\"gridcolor\":\"white\",\"linecolor\":\"white\",\"minorgridcolor\":\"white\",\"startlinecolor\":\"#2a3f5f\"},\"baxis\":{\"endlinecolor\":\"#2a3f5f\",\"gridcolor\":\"white\",\"linecolor\":\"white\",\"minorgridcolor\":\"white\",\"startlinecolor\":\"#2a3f5f\"},\"type\":\"carpet\"}],\"table\":[{\"cells\":{\"fill\":{\"color\":\"#EBF0F8\"},\"line\":{\"color\":\"white\"}},\"header\":{\"fill\":{\"color\":\"#C8D4E3\"},\"line\":{\"color\":\"white\"}},\"type\":\"table\"}],\"barpolar\":[{\"marker\":{\"line\":{\"color\":\"#E5ECF6\",\"width\":0.5},\"pattern\":{\"fillmode\":\"overlay\",\"size\":10,\"solidity\":0.2}},\"type\":\"barpolar\"}],\"pie\":[{\"automargin\":true,\"type\":\"pie\"}]},\"layout\":{\"autotypenumbers\":\"strict\",\"colorway\":[\"#636efa\",\"#EF553B\",\"#00cc96\",\"#ab63fa\",\"#FFA15A\",\"#19d3f3\",\"#FF6692\",\"#B6E880\",\"#FF97FF\",\"#FECB52\"],\"font\":{\"color\":\"#2a3f5f\"},\"hovermode\":\"closest\",\"hoverlabel\":{\"align\":\"left\"},\"paper_bgcolor\":\"white\",\"plot_bgcolor\":\"#E5ECF6\",\"polar\":{\"bgcolor\":\"#E5ECF6\",\"angularaxis\":{\"gridcolor\":\"white\",\"linecolor\":\"white\",\"ticks\":\"\"},\"radialaxis\":{\"gridcolor\":\"white\",\"linecolor\":\"white\",\"ticks\":\"\"}},\"ternary\":{\"bgcolor\":\"#E5ECF6\",\"aaxis\":{\"gridcolor\":\"white\",\"linecolor\":\"white\",\"ticks\":\"\"},\"baxis\":{\"gridcolor\":\"white\",\"linecolor\":\"white\",\"ticks\":\"\"},\"caxis\":{\"gridcolor\":\"white\",\"linecolor\":\"white\",\"ticks\":\"\"}},\"coloraxis\":{\"colorbar\":{\"outlinewidth\":0,\"ticks\":\"\"}},\"colorscale\":{\"sequential\":[[0.0,\"#0d0887\"],[0.1111111111111111,\"#46039f\"],[0.2222222222222222,\"#7201a8\"],[0.3333333333333333,\"#9c179e\"],[0.4444444444444444,\"#bd3786\"],[0.5555555555555556,\"#d8576b\"],[0.6666666666666666,\"#ed7953\"],[0.7777777777777778,\"#fb9f3a\"],[0.8888888888888888,\"#fdca26\"],[1.0,\"#f0f921\"]],\"sequentialminus\":[[0.0,\"#0d0887\"],[0.1111111111111111,\"#46039f\"],[0.2222222222222222,\"#7201a8\"],[0.3333333333333333,\"#9c179e\"],[0.4444444444444444,\"#bd3786\"],[0.5555555555555556,\"#d8576b\"],[0.6666666666666666,\"#ed7953\"],[0.7777777777777778,\"#fb9f3a\"],[0.8888888888888888,\"#fdca26\"],[1.0,\"#f0f921\"]],\"diverging\":[[0,\"#8e0152\"],[0.1,\"#c51b7d\"],[0.2,\"#de77ae\"],[0.3,\"#f1b6da\"],[0.4,\"#fde0ef\"],[0.5,\"#f7f7f7\"],[0.6,\"#e6f5d0\"],[0.7,\"#b8e186\"],[0.8,\"#7fbc41\"],[0.9,\"#4d9221\"],[1,\"#276419\"]]},\"xaxis\":{\"gridcolor\":\"white\",\"linecolor\":\"white\",\"ticks\":\"\",\"title\":{\"standoff\":15},\"zerolinecolor\":\"white\",\"automargin\":true,\"zerolinewidth\":2},\"yaxis\":{\"gridcolor\":\"white\",\"linecolor\":\"white\",\"ticks\":\"\",\"title\":{\"standoff\":15},\"zerolinecolor\":\"white\",\"automargin\":true,\"zerolinewidth\":2},\"scene\":{\"xaxis\":{\"backgroundcolor\":\"#E5ECF6\",\"gridcolor\":\"white\",\"linecolor\":\"white\",\"showbackground\":true,\"ticks\":\"\",\"zerolinecolor\":\"white\",\"gridwidth\":2},\"yaxis\":{\"backgroundcolor\":\"#E5ECF6\",\"gridcolor\":\"white\",\"linecolor\":\"white\",\"showbackground\":true,\"ticks\":\"\",\"zerolinecolor\":\"white\",\"gridwidth\":2},\"zaxis\":{\"backgroundcolor\":\"#E5ECF6\",\"gridcolor\":\"white\",\"linecolor\":\"white\",\"showbackground\":true,\"ticks\":\"\",\"zerolinecolor\":\"white\",\"gridwidth\":2}},\"shapedefaults\":{\"line\":{\"color\":\"#2a3f5f\"}},\"annotationdefaults\":{\"arrowcolor\":\"#2a3f5f\",\"arrowhead\":0,\"arrowwidth\":1},\"geo\":{\"bgcolor\":\"white\",\"landcolor\":\"#E5ECF6\",\"subunitcolor\":\"white\",\"showland\":true,\"showlakes\":true,\"lakecolor\":\"white\"},\"title\":{\"x\":0.05},\"mapbox\":{\"style\":\"light\"}}}},                        {\"responsive\": true}                    ).then(function(){\n",
       "                            \n",
       "var gd = document.getElementById('64ee8eff-3bf9-46a3-9b55-f33fa3b13083');\n",
       "var x = new MutationObserver(function (mutations, observer) {{\n",
       "        var display = window.getComputedStyle(gd).display;\n",
       "        if (!display || display === 'none') {{\n",
       "            console.log([gd, 'removed!']);\n",
       "            Plotly.purge(gd);\n",
       "            observer.disconnect();\n",
       "        }}\n",
       "}});\n",
       "\n",
       "// Listen for the removal of the full notebook cells\n",
       "var notebookContainer = gd.closest('#notebook-container');\n",
       "if (notebookContainer) {{\n",
       "    x.observe(notebookContainer, {childList: true});\n",
       "}}\n",
       "\n",
       "// Listen for the clearing of the current output cell\n",
       "var outputEl = gd.closest('.output');\n",
       "if (outputEl) {{\n",
       "    x.observe(outputEl, {childList: true});\n",
       "}}\n",
       "\n",
       "                        })                };                });            </script>        </div>"
      ]
     },
     "metadata": {},
     "output_type": "display_data"
    }
   ],
   "source": [
    "# Convert each hurricane into a line plot for each group\n",
    "\n",
    "line_plots = []\n",
    "for group_name, group_data in top_10_longest_hurricanes_dataset.groupby('ID'):\n",
    "    line_plot = go.Scattergeo(\n",
    "        lat=group_data['Latitude'],\n",
    "        lon=group_data['Longitude'],\n",
    "        mode='lines',\n",
    "        name=group_data['Name'].iloc[0]  # Use the first value from the 'Name' column\n",
    "    )\n",
    "    line_plots.append(line_plot)\n",
    "\n",
    "# Create the layout for the map\n",
    "layout = go.Layout(\n",
    "    title='Top 10 Longest Hurricanes in North Asia Pacific (2022)',\n",
    "    showlegend=True,\n",
    "    geo=dict(\n",
    "        resolution=50,\n",
    "        showland=True,\n",
    "        showlakes=True,\n",
    "        landcolor='rgb(204, 204, 204)',\n",
    "        countrycolor='rgb(204, 204, 204)',\n",
    "        lakecolor='rgb(255, 255, 255)',\n",
    "        projection_type=\"robinson\",\n",
    "        coastlinewidth=1,\n",
    "        fitbounds=\"locations\",  # Zoom the map around the data\n",
    "        lataxis=dict(\n",
    "            range=[-90, 90],\n",
    "            showgrid=True,\n",
    "            dtick=10\n",
    "        ),\n",
    "        lonaxis=dict(\n",
    "            range=[-180, 180],\n",
    "            showgrid=True,\n",
    "            dtick=20\n",
    "        ),\n",
    "    )\n",
    ")\n",
    "\n",
    "# Create the figure with line plots and layout\n",
    "figure = go.Figure(data=line_plots, layout=layout)\n",
    "\n",
    "# Display the map\n",
    "figure.show()\n"
   ]
  },
  {
   "cell_type": "code",
   "execution_count": 116,
   "id": "227ba1f9",
   "metadata": {},
   "outputs": [
    {
     "name": "stdout",
     "output_type": "stream",
     "text": [
      "               Name  Count\n",
      "0             KAREN    141\n",
      "141            TRIX    109\n",
      "250           POLLY     93\n",
      "343  JEANNE:JEANNIE     93\n",
      "436             IVY     85\n",
      "521           AGNES     83\n",
      "604          CARMEN     81\n",
      "685           WILMA     81\n",
      "766            BESS     79\n",
      "845           GILDA     77\n"
     ]
    }
   ],
   "source": [
    "# Filter hurricanes for the year 1952\n",
    "hurricanes_1952 = west_pacific_basin_final[west_pacific_basin_final['ISO Time'].dt.year == 1952]\n",
    "\n",
    "# Find the top 10 longest hurricanes based on the maximum count of 'ID'\n",
    "top_10_longest_1952 = hurricanes_1952['ID'].value_counts().nlargest(10).reset_index()\n",
    "top_10_longest_1952.columns = ['ID', 'Count']\n",
    "\n",
    "# Merge with the original dataset to get hurricane names\n",
    "top_10_longest_1952_names = top_10_longest_1952.merge(hurricanes_1952, on='ID')[['Name', 'Count']].drop_duplicates()\n",
    "\n",
    "# Display the top 10 longest hurricanes of 1952\n",
    "print(top_10_longest_1952_names)\n",
    "\n",
    "# Create a new dataset for the top 10 longest hurricanes\n",
    "top_10_longest_1952_data = west_pacific_basin_final[west_pacific_basin_final['ID'].isin(top_10_longest_1952['ID'])]\n"
   ]
  },
  {
   "cell_type": "code",
   "execution_count": 49,
   "id": "63f2847d",
   "metadata": {},
   "outputs": [
    {
     "data": {
      "application/vnd.plotly.v1+json": {
       "config": {
        "plotlyServerURL": "https://plot.ly"
       },
       "data": [
        {
         "lat": [
          27.4,
          27.1975,
          26.7143,
          26.471,
          26.2151,
          25.9445,
          25.7,
          25.4802,
          25.2991,
          25.1835,
          25.1348,
          25.12,
          25.1779,
          25.383,
          25.6167,
          25.76,
          25.8454,
          25.89,
          25.8833,
          25.8148,
          25.7729,
          25.8607,
          25.9833,
          26.0462,
          26.0974,
          26.1593,
          26.2333,
          26.3093,
          26.4184,
          26.5748,
          26.7833,
          27.0329,
          27.3196,
          27.6256,
          27.9333,
          28.2073,
          28.4853,
          28.786,
          29.1167,
          29.4802,
          29.8257,
          30.1484,
          30.4,
          30.4212,
          30.75,
          31.1212,
          31.5,
          31.85,
          31.9429,
          31.9175,
          31.66,
          30.95,
          31.1,
          31.3075,
          31.5,
          31.6149,
          31.7,
          31.7774,
          31.9,
          32.135,
          32.4,
          32.5925,
          32.8,
          33.0925,
          33.4,
          33.6799,
          33.9,
          34.0224,
          34.1,
          34.1925,
          34.3,
          34.435,
          34.6,
          34.7925,
          35,
          35.2025,
          35.4
         ],
         "lon": [
          130,
          129.897,
          129.914,
          129.772,
          129.608,
          129.424,
          129.22,
          129.001,
          128.709,
          128.401,
          128.126,
          127.926,
          127.688,
          127.352,
          127,
          126.695,
          126.457,
          126.336,
          126.217,
          125.978,
          125.685,
          125.378,
          125.067,
          124.784,
          124.506,
          124.214,
          123.917,
          123.625,
          123.313,
          122.954,
          122.583,
          122.234,
          121.89,
          121.527,
          121.2,
          120.961,
          120.748,
          120.485,
          120.233,
          120.041,
          119.806,
          119.508,
          119.167,
          118.777,
          118.75,
          118.707,
          118.65,
          118.55,
          118.571,
          118.696,
          118.92,
          119.265,
          119.2,
          119.108,
          119,
          118.915,
          118.8,
          118.63,
          118.4,
          118.123,
          117.8,
          117.45,
          117.1,
          116.778,
          116.5,
          116.27,
          116.1,
          115.985,
          115.9,
          115.792,
          115.7,
          115.642,
          115.6,
          115.55,
          115.5,
          115.45,
          115.4
         ],
         "mode": "lines",
         "name": "GILDA",
         "type": "scattergeo"
        },
        {
         "lat": [
          13.4,
          13.4991,
          13.6131,
          13.7512,
          13.9,
          14.0484,
          14.1856,
          14.2863,
          14.4,
          14.5857,
          14.7731,
          14.8865,
          15,
          15.1821,
          15.3652,
          15.4722,
          15.6,
          15.8154,
          16.0479,
          16.34,
          16.7136,
          17.1636,
          17.7017,
          18.3691,
          19.05,
          19.6151,
          20.1154,
          20.5765,
          21.0167,
          21.452,
          21.914,
          22.3931,
          23.0167,
          23.8909,
          24.9108,
          25.9288,
          26.9833,
          28.1267,
          29.154,
          29.8781,
          30.3478,
          30.6816,
          30.8753,
          30.9888,
          31.22,
          31.4405,
          31.6818,
          31.9776,
          32.34,
          32.7579,
          33.2492,
          33.7768,
          34.4,
          35.1625,
          36,
          36.8445,
          37.6,
          38.1597,
          38.6,
          39.0307,
          39.4,
          39.7559,
          40,
          40.0507,
          40,
          39.998,
          40,
          39.9986,
          40,
          39.9998,
          40,
          39.9996,
          40,
          39.9999,
          40,
          39.9996,
          40,
          39.9848,
          40,
          40.0922,
          40.2,
          40.2494,
          40.3,
          40.385,
          40.5,
          40.6189,
          40.8,
          41.0023,
          41.4,
          42.1556,
          43,
          43.6646,
          44.2
         ],
         "lon": [
          131.2,
          131.198,
          131.212,
          131.25,
          131.3,
          131.345,
          131.393,
          131.438,
          131.5,
          131.589,
          131.705,
          131.851,
          132,
          132.081,
          132.179,
          132.296,
          132.6,
          133.253,
          134.651,
          135.653,
          136.35,
          136.763,
          136.99,
          137.212,
          137.533,
          138.043,
          138.674,
          139.339,
          140.033,
          140.748,
          141.41,
          141.987,
          142.4,
          142.649,
          142.684,
          142.542,
          142.217,
          141.782,
          141.222,
          140.567,
          139.965,
          139.661,
          139.539,
          139.457,
          139.34,
          139.292,
          139.318,
          139.368,
          139.52,
          139.797,
          140.199,
          140.693,
          141.286,
          141.891,
          142.514,
          143.328,
          143.8,
          144.364,
          145,
          145.745,
          146.4,
          146.582,
          147,
          148.396,
          150,
          151.127,
          152,
          152.702,
          153.3,
          153.958,
          154.6,
          155.208,
          155.8,
          156.415,
          157,
          157.515,
          158,
          158.5,
          159,
          159.492,
          160,
          160.513,
          161.1,
          161.82,
          162.6,
          163.321,
          164.1,
          165.016,
          166,
          167.041,
          168,
          168.724,
          169.3
         ],
         "mode": "lines",
         "name": "JEANNE:JEANNIE",
         "type": "scattergeo"
        },
        {
         "lat": [
          15.1,
          15.099,
          15.1281,
          15.2181,
          15.4,
          15.6944,
          16.1534,
          16.5079,
          16.82,
          17.1486,
          17.5087,
          17.8343,
          18.1,
          18.2275,
          18.2987,
          18.3574,
          18.5,
          18.7877,
          19.2601,
          19.8239,
          20.4556,
          21.1159,
          21.8,
          22.4675,
          23.3,
          24.4624,
          25.7,
          26.7267,
          27.7,
          28.8487,
          30,
          31.0241,
          32,
          32.9247,
          34,
          35.462,
          37,
          38.437,
          39.5,
          39.9371,
          40,
          40.0964,
          40,
          39.6069,
          39.2,
          39.0452,
          39.1,
          39.3245,
          39.7,
          40.165,
          40.6,
          40.8582,
          41,
          41.0957,
          41.1,
          41.0294,
          40.9,
          40.757,
          40.6,
          40.4349,
          40.3,
          40.1976,
          40.2,
          40.3621,
          40.6,
          40.7994,
          41,
          41.2003,
          41.4,
          41.6489,
          41.8,
          41.712,
          41.5,
          41.3222,
          41.1,
          40.812,
          40.5,
          40.2602,
          39.9,
          39.2653,
          38.5,
          37.7943,
          37,
          36.0492,
          35
         ],
         "lon": [
          126.6,
          126.962,
          127.279,
          127.507,
          127.6,
          127.535,
          127.666,
          127.971,
          128.39,
          128.877,
          129.265,
          129.71,
          130.233,
          130.848,
          131.548,
          132.293,
          133.1,
          133.986,
          134.967,
          135.921,
          136.833,
          137.648,
          138.35,
          139.063,
          139.7,
          140.333,
          140.643,
          140.26,
          139.52,
          138.878,
          138.9,
          139.611,
          140.6,
          141.355,
          142,
          142.531,
          143,
          143.499,
          144,
          144.503,
          145,
          145.446,
          146,
          146.763,
          147.7,
          148.77,
          149.9,
          150.979,
          152,
          152.988,
          153.8,
          154.282,
          154.7,
          155.392,
          156.1,
          156.638,
          157.1,
          157.542,
          158,
          158.535,
          159.1,
          159.68,
          160.2,
          160.58,
          160.9,
          161.206,
          161.6,
          162.205,
          162.9,
          163.421,
          164.2,
          165.575,
          167.2,
          168.744,
          170.2,
          171.437,
          172.6,
          173.884,
          175.1,
          176.087,
          177,
          177.99,
          179,
          180.008,
          181
         ],
         "mode": "lines",
         "name": "IVY",
         "type": "scattergeo"
        },
        {
         "lat": [
          13.7,
          13.8547,
          13.9957,
          14.112,
          14.2,
          14.2548,
          14.3068,
          14.3935,
          14.5,
          14.5926,
          14.7389,
          15.0013,
          15.0444,
          15.1029,
          15.2017,
          15.3485,
          15.6833,
          16.1389,
          16.6042,
          16.9573,
          17.2833,
          17.6399,
          18.0317,
          18.4722,
          18.95,
          19.4391,
          19.9475,
          20.4613,
          20.9833,
          21.5178,
          22.0404,
          22.5249,
          23,
          23.5036,
          24.0042,
          24.5022,
          24.9333,
          25.2406,
          25.4862,
          25.7465,
          26,
          26.2452,
          26.4925,
          26.7326,
          27.0333,
          27.4654,
          27.9329,
          28.3319,
          28.7167,
          29.1222,
          29.5275,
          29.9262,
          30.3,
          30.6051,
          30.9292,
          31.3245,
          31.8333,
          32.49,
          33.2162,
          33.8658,
          34.6,
          35.5626,
          36.5596,
          37.4085,
          38.1667,
          38.8706,
          39.499,
          40.0399,
          40.6,
          41.3722,
          42.1059,
          42.5682,
          42.825,
          42.9337,
          43.025,
          43.2957,
          43.6,
          43.8239,
          44.0571,
          44.308,
          44.64,
          45.1729,
          45.6,
          46.0426,
          46.5,
          46.9496,
          47.4,
          47.7511,
          48.3,
          49.3313,
          50.5,
          51.4638,
          52.3,
          53.0475,
          53.6,
          53.9609,
          54.1,
          54.0742,
          54,
          54.0262,
          54.1,
          54.1699,
          54.3,
          54.5308,
          54.8,
          55.0149,
          55.2,
          55.4094,
          55.5,
          55.361,
          55.1,
          54.8724,
          54.6,
          54.2721,
          53.9,
          53.5214,
          53.1,
          52.454,
          52.1,
          52.5848,
          53.2,
          53.2345,
          53.2,
          53.3811,
          53.7,
          54.2777,
          54.8,
          54.9244,
          54.9,
          54.9499,
          55,
          55.0126,
          55.1,
          55.3923,
          55.7,
          55.8301,
          55.9,
          55.9772,
          56.1,
          56.3206,
          56.6
         ],
         "lon": [
          134.7,
          134.298,
          133.918,
          133.566,
          133.2,
          132.765,
          132.316,
          131.914,
          131.5,
          131.001,
          130.515,
          130.108,
          129.989,
          129.901,
          129.814,
          129.696,
          129.55,
          129.446,
          129.387,
          129.362,
          129.333,
          129.24,
          129.139,
          129.06,
          129.033,
          129.09,
          129.199,
          129.361,
          129.433,
          129.264,
          128.989,
          128.755,
          128.517,
          128.276,
          128.031,
          127.771,
          127.533,
          127.358,
          127.202,
          127.025,
          126.833,
          126.615,
          126.411,
          126.263,
          126.133,
          125.971,
          125.826,
          125.74,
          125.667,
          125.56,
          125.445,
          125.331,
          125.233,
          125.159,
          125.11,
          125.077,
          125.067,
          125.046,
          125.077,
          125.127,
          125.4,
          126.061,
          126.934,
          127.724,
          128.667,
          129.906,
          131.304,
          132.643,
          134.04,
          135.693,
          137.294,
          138.281,
          139.3,
          140.836,
          142.625,
          144.507,
          146.425,
          148.231,
          150.086,
          151.719,
          153.02,
          153.978,
          155.1,
          156.28,
          157.4,
          158.413,
          159.2,
          159.666,
          160,
          160.413,
          161,
          161.795,
          163,
          164.716,
          166.8,
          169.137,
          171.2,
          172.468,
          173.2,
          173.755,
          174.1,
          174.445,
          174.7,
          174.882,
          175,
          175.117,
          175.1,
          174.922,
          174.5,
          173.785,
          173,
          172.36,
          171.9,
          171.676,
          171.6,
          171.388,
          171.5,
          172.124,
          173.3,
          175.203,
          177.1,
          177.813,
          178.5,
          180.592,
          182.3,
          182.009,
          181,
          180.552,
          180.2,
          179.835,
          179.5,
          179.155,
          178.9,
          178.775,
          178.8,
          178.962,
          179.2,
          179.364,
          179.6,
          179.998,
          180.5
         ],
         "mode": "lines",
         "name": "KAREN",
         "type": "scattergeo"
        },
        {
         "lat": [
          11,
          11.2478,
          11.5,
          11.7574,
          12,
          12.2074,
          12.4,
          12.6074,
          12.8,
          12.9573,
          13.1,
          13.2499,
          13.4,
          13.5499,
          13.7,
          13.8499,
          13.8,
          13.8191,
          13.8662,
          13.9391,
          14.1333,
          14.4541,
          14.8453,
          15.2397,
          15.6333,
          15.9765,
          16.3562,
          16.8403,
          17.3667,
          17.8714,
          18.3682,
          18.8534,
          19.3167,
          19.7503,
          20.1517,
          20.4809,
          20.9,
          21.5815,
          22.3496,
          23.0417,
          23.6833,
          24.2594,
          24.7917,
          25.3023,
          25.8167,
          26.327,
          26.9333,
          27.7341,
          28.6167,
          29.4284,
          30.2982,
          31.3024,
          32.3667,
          33.4646,
          34.4831,
          35.3377,
          35.9833,
          36.4099,
          36.6725,
          36.8835,
          37.0667,
          37.2659,
          37.5364,
          37.9201,
          38.2778,
          38.4505,
          38.55,
          38.5911,
          38.6,
          38.6417,
          38.5429,
          38.3204,
          38,
          37.6028,
          37.5,
          37.3864,
          37.25,
          37.0887,
          36.9,
          36.6707,
          36.45,
          36.2591,
          36.15,
          36.135,
          36.25,
          36.5105,
          36.8,
          36.9642,
          37.1,
          37.2711,
          37.45,
          37.6267,
          37.8
         ],
         "lon": [
          157,
          156.35,
          155.7,
          155.05,
          154.4,
          153.742,
          153.1,
          152.477,
          151.9,
          151.392,
          150.9,
          150.365,
          149.8,
          149.215,
          148.6,
          147.957,
          148.167,
          147.861,
          147.357,
          146.747,
          146.033,
          145.396,
          144.824,
          144.29,
          143.8,
          143.304,
          142.864,
          142.478,
          142.217,
          142.133,
          142.142,
          142.131,
          142.117,
          142.081,
          142.035,
          141.983,
          141.9,
          141.771,
          141.605,
          141.418,
          141.233,
          141.073,
          140.944,
          140.831,
          140.783,
          140.812,
          140.923,
          141.088,
          141.333,
          141.636,
          142.016,
          142.443,
          142.95,
          143.537,
          144.199,
          144.902,
          145.617,
          146.285,
          146.926,
          147.504,
          148.183,
          149.117,
          150.188,
          151.21,
          152.322,
          153.76,
          155.125,
          156.06,
          156.75,
          157.3,
          157.886,
          158.715,
          159.48,
          159.82,
          160.6,
          161.514,
          162.45,
          163.271,
          164.1,
          165.024,
          166,
          167.038,
          168,
          168.749,
          169.4,
          170.133,
          170.75,
          171.096,
          171.35,
          171.703,
          172.1,
          172.538,
          173
         ],
         "mode": "lines",
         "name": "POLLY",
         "type": "scattergeo"
        },
        {
         "lat": [
          9.15,
          8.91526,
          8.7051,
          8.53746,
          8.4,
          8.27396,
          8.16633,
          8.06799,
          8,
          7.97797,
          7.98482,
          7.98797,
          8,
          8.02292,
          8.04616,
          8.05005,
          8.05,
          8.05716,
          8.075,
          8.1103,
          8.15,
          8.17449,
          8.1962,
          8.22353,
          8.45455,
          8.58577,
          8.66527,
          8.70541,
          8.7,
          8.71371,
          8.747,
          8.8013,
          8.85238,
          8.89379,
          8.93216,
          8.95979,
          9,
          9.08013,
          9.17624,
          9.2592,
          9.35,
          9.4592,
          9.57624,
          9.68764,
          9.8,
          9.91305,
          10.0346,
          10.1742,
          10.3167,
          10.4486,
          10.5729,
          10.6983,
          10.8,
          10.8616,
          10.8904,
          10.8906,
          10.9,
          10.9653,
          11.04,
          11.0865,
          11.128,
          11.1797,
          11.261,
          11.3387,
          11.4791,
          11.742,
          12.0472,
          12.3109,
          12.5511,
          12.7628,
          12.95,
          13.1391,
          13.2962,
          13.3956,
          13.4735,
          13.5919,
          13.6782,
          13.6839,
          13.64,
          13.573,
          13.5035,
          13.4536,
          13.4471,
          13.5115,
          13.5789,
          13.5821,
          13.5542,
          13.5165,
          13.486,
          13.4833,
          13.5058,
          13.5508,
          13.6238,
          13.7028,
          13.8116,
          13.9671,
          14.1257,
          14.2479,
          14.3444,
          14.4147,
          14.4942,
          14.6247,
          14.7377,
          14.8158,
          14.8529,
          14.8662,
          14.825,
          14.7771,
          14.725
         ],
         "lon": [
          148.1,
          147.579,
          147.088,
          146.642,
          146.2,
          145.711,
          145.228,
          144.794,
          144.4,
          144.032,
          143.695,
          143.398,
          143.1,
          142.75,
          142.404,
          142.101,
          141.8,
          141.466,
          141.104,
          140.708,
          140.3,
          139.899,
          139.517,
          139.171,
          139.027,
          138.85,
          138.645,
          138.404,
          138.1,
          137.805,
          137.495,
          137.134,
          136.771,
          136.529,
          136.32,
          136.068,
          135.833,
          135.63,
          135.439,
          135.246,
          135.05,
          134.847,
          134.644,
          134.443,
          134.25,
          134.078,
          133.897,
          133.681,
          133.433,
          133.161,
          132.866,
          132.55,
          132.25,
          132.025,
          131.779,
          131.411,
          131.017,
          130.678,
          130.455,
          130.249,
          130.034,
          129.779,
          129.414,
          129.045,
          128.631,
          128.142,
          127.622,
          127.105,
          126.609,
          126.174,
          125.767,
          125.368,
          124.976,
          124.593,
          124.186,
          123.71,
          123.228,
          122.801,
          122.375,
          121.915,
          121.419,
          120.881,
          120.326,
          119.789,
          119.251,
          118.702,
          118.15,
          117.606,
          117.049,
          116.461,
          115.856,
          115.259,
          114.651,
          114.011,
          113.39,
          112.839,
          112.314,
          111.789,
          111.234,
          110.637,
          109.967,
          109.081,
          108.12,
          107.396,
          106.753,
          106.079,
          105.375,
          104.502,
          103.525
         ],
         "mode": "lines",
         "name": "TRIX",
         "type": "scattergeo"
        },
        {
         "lat": [
          5.5,
          5.55244,
          5.58631,
          5.59266,
          5.48889,
          5.4869,
          5.53224,
          5.57897,
          5.66667,
          5.78529,
          5.9196,
          6.03452,
          6.2,
          6.48657,
          6.80998,
          7.08836,
          7.33333,
          7.53099,
          7.73333,
          7.98888,
          8.26667,
          8.53551,
          8.8176,
          9.13103,
          9.43333,
          9.6806,
          9.90766,
          10.1466,
          10.3833,
          10.6437,
          10.842,
          10.8977,
          10.9,
          10.9475,
          10.9926,
          10.9954,
          11.0333,
          11.1934,
          11.3622,
          11.4407,
          11.4667,
          11.4663,
          11.4343,
          11.3647,
          11.3167,
          11.3372,
          11.4181,
          11.5448,
          11.7167,
          11.9059,
          12.1345,
          12.4237,
          12.6833,
          12.8128,
          12.8906,
          12.9742,
          13.0833,
          13.2562,
          13.4734,
          13.7308,
          13.9667,
          14.106,
          14.2075,
          14.3177,
          14.4333,
          14.5585,
          14.7007,
          14.855,
          15.05,
          15.3054,
          15.6027,
          15.9499,
          16.2,
          16.1427,
          15.8867,
          15.6369,
          15.3,
          14.8457,
          14.5,
          14.1377,
          13.7667
         ],
         "lon": [
          152,
          151.598,
          151.211,
          150.85,
          150.2,
          149.671,
          149.221,
          148.827,
          148.533,
          148.183,
          147.839,
          147.559,
          147.317,
          147.11,
          146.879,
          146.57,
          146.2,
          145.781,
          145.367,
          145.03,
          144.7,
          144.332,
          143.919,
          143.494,
          142.933,
          142.131,
          141.233,
          140.41,
          139.6,
          138.807,
          137.971,
          137.038,
          136.083,
          135.177,
          134.32,
          133.554,
          132.767,
          131.828,
          130.845,
          129.888,
          129,
          128.228,
          127.536,
          126.872,
          126.233,
          125.599,
          124.945,
          124.234,
          123.5,
          122.797,
          122.067,
          121.267,
          120.433,
          119.603,
          118.754,
          117.835,
          117,
          116.389,
          115.896,
          115.419,
          114.933,
          114.365,
          113.767,
          113.167,
          112.583,
          112.049,
          111.519,
          110.936,
          110.367,
          109.874,
          109.383,
          108.841,
          108.233,
          107.515,
          106.82,
          106.172,
          105.538,
          104.894,
          104.333,
          103.82,
          103.333
         ],
         "mode": "lines",
         "name": "WILMA",
         "type": "scattergeo"
        },
        {
         "lat": [
          8.6,
          8.83853,
          9.09333,
          9.37844,
          9.78824,
          10.2222,
          10.7199,
          11.3145,
          11.82,
          12.1934,
          12.5738,
          12.9444,
          13.3043,
          13.6916,
          14.0325,
          14.2939,
          14.5333,
          14.8183,
          15.0812,
          15.2654,
          15.4333,
          15.6399,
          15.8679,
          16.1097,
          16.3667,
          16.6331,
          16.895,
          17.1347,
          17.3667,
          17.6252,
          17.855,
          17.9849,
          18.1333,
          18.4587,
          18.7357,
          18.7276,
          18.6833,
          18.8032,
          19.0376,
          19.382,
          19.7667,
          20.0801,
          20.3937,
          20.7399,
          21.1167,
          21.552,
          21.9592,
          22.2417,
          22.4833,
          22.7588,
          23.0401,
          23.2984,
          23.6167,
          24.0871,
          24.5795,
          24.9766,
          25.3,
          25.536,
          25.7425,
          25.9309,
          26.2667,
          26.9178,
          27.6926,
          28.3941,
          29.0667,
          29.698,
          30.2858,
          30.806,
          31.3333,
          31.9346,
          32.5369,
          33.0777,
          33.54,
          33.9007,
          34.2647,
          34.6804,
          35.15,
          35.5747,
          36.1462,
          36.9618,
          37.9667,
          39.8795,
          41
         ],
         "lon": [
          149,
          148.758,
          148.388,
          147.829,
          147.406,
          147.195,
          147.034,
          146.821,
          146.56,
          146.253,
          145.891,
          145.436,
          144.926,
          144.429,
          144.015,
          143.603,
          143.2,
          142.803,
          142.395,
          141.969,
          141.517,
          141.033,
          140.536,
          140.054,
          139.567,
          139.042,
          138.539,
          138.086,
          137.717,
          137.462,
          137.23,
          136.886,
          136.567,
          136.389,
          136.273,
          136.17,
          136.017,
          135.73,
          135.391,
          135.069,
          134.767,
          134.552,
          134.268,
          133.741,
          133.183,
          132.831,
          132.5,
          132.093,
          131.55,
          130.736,
          129.91,
          129.301,
          128.9,
          128.67,
          128.655,
          128.83,
          129.133,
          129.423,
          129.734,
          129.937,
          130.333,
          131.174,
          132.267,
          133.359,
          134.55,
          135.811,
          137.138,
          138.401,
          139.867,
          141.731,
          143.881,
          146.183,
          148.48,
          150.546,
          152.629,
          154.878,
          157.25,
          159.854,
          162.923,
          166.486,
          170.667,
          181.884,
          187
         ],
         "mode": "lines",
         "name": "AGNES",
         "type": "scattergeo"
        },
        {
         "lat": [
          8.05,
          8.21005,
          8.4,
          8.63873,
          8.9,
          9.14246,
          9.4,
          9.68503,
          10,
          10.3425,
          10.7,
          11.05,
          11.4,
          11.7425,
          12.1,
          12.5037,
          12.9,
          13.2133,
          13.7,
          14.1303,
          14.4942,
          14.7965,
          15.1,
          15.4338,
          15.7378,
          15.9769,
          16.1333,
          16.2089,
          16.2155,
          16.1843,
          16.1333,
          16.0942,
          16.0667,
          16.0528,
          16.0667,
          16.1222,
          16.181,
          16.2056,
          16.2,
          16.1291,
          16.087,
          16.1381,
          16.3,
          16.56,
          16.9356,
          17.3958,
          17.9333,
          18.518,
          19.0978,
          19.5922,
          20.0333,
          20.4364,
          20.8135,
          21.1392,
          21.5833,
          22.3271,
          23.1837,
          24.0009,
          24.7167,
          25.2247,
          25.647,
          26.1089,
          26.5667,
          27.0392,
          27.4526,
          27.7291,
          28.0045,
          28.3434,
          28.6935,
          28.9598,
          29.2,
          29.3714,
          29.5,
          29.7127,
          29.8,
          29.5396,
          29.2,
          29.0362,
          29
         ],
         "lon": [
          150,
          149.676,
          149.35,
          149.021,
          148.7,
          148.396,
          148.1,
          147.778,
          147.5,
          147.32,
          147.2,
          147.085,
          147,
          146.957,
          146.9,
          146.799,
          146.6,
          146.341,
          145.667,
          144.836,
          144.022,
          143.301,
          142.517,
          141.621,
          140.648,
          139.626,
          138.633,
          137.77,
          136.971,
          136.186,
          135.4,
          134.57,
          133.733,
          132.921,
          132.1,
          131.234,
          130.371,
          129.552,
          128.767,
          127.998,
          127.249,
          126.504,
          125.783,
          125.06,
          124.426,
          123.934,
          123.55,
          123.24,
          122.921,
          122.467,
          121.967,
          121.475,
          121.012,
          120.59,
          120.25,
          119.962,
          119.809,
          119.779,
          119.983,
          120.451,
          121.134,
          121.901,
          122.75,
          123.591,
          124.478,
          125.408,
          126.355,
          127.212,
          128.065,
          128.718,
          129.7,
          131.41,
          133,
          133.597,
          134,
          135.003,
          136,
          136.623,
          137
         ],
         "mode": "lines",
         "name": "BESS",
         "type": "scattergeo"
        },
        {
         "lat": [
          10.3,
          10.4871,
          10.6669,
          10.8482,
          11.3667,
          11.9259,
          12.4996,
          13.0622,
          13.4833,
          13.8247,
          14.1128,
          14.3919,
          14.5833,
          14.6032,
          14.6031,
          14.7137,
          14.9333,
          15.2599,
          15.7044,
          16.2979,
          16.8333,
          17.0669,
          17.1951,
          17.341,
          17.6,
          18.1268,
          18.7302,
          19.2321,
          19.6667,
          20.0144,
          20.3529,
          20.7787,
          21.2,
          21.5252,
          21.8425,
          22.216,
          22.65,
          23.1587,
          23.7005,
          24.2254,
          24.7333,
          25.2096,
          25.6808,
          26.1956,
          26.6667,
          27.0245,
          27.3085,
          27.5427,
          27.7833,
          28.1259,
          28.4531,
          28.6424,
          28.7222,
          28.7554,
          28.8182,
          28.9401,
          29.2,
          29.5701,
          29.9,
          30.0211,
          30.1,
          30.2286,
          30.45,
          30.8346,
          31.3,
          31.7923,
          32.15,
          32.2202,
          32.1,
          31.73,
          31.65,
          32.3807,
          33.45,
          34.4405,
          35.35,
          35.9632,
          36.5,
          37.2054,
          37.9,
          38.3357,
          38.6
         ],
         "lon": [
          145.7,
          145.107,
          144.526,
          143.951,
          143.322,
          142.548,
          141.718,
          140.898,
          140.033,
          139.179,
          138.256,
          137.166,
          136.1,
          135.279,
          134.482,
          133.481,
          132.483,
          131.647,
          130.892,
          130.13,
          129.433,
          128.807,
          128.266,
          127.766,
          127.383,
          127.127,
          127.004,
          126.988,
          127.033,
          127.046,
          127.077,
          127.135,
          127.2,
          127.24,
          127.282,
          127.334,
          127.417,
          127.518,
          127.675,
          127.866,
          128.2,
          128.759,
          129.443,
          130.12,
          130.817,
          131.446,
          132.17,
          133.067,
          134.167,
          135.474,
          136.915,
          138.31,
          139.722,
          141.05,
          142.327,
          143.716,
          145.1,
          146.647,
          148.1,
          149.095,
          150.1,
          151.603,
          153.2,
          154.547,
          155.85,
          157.27,
          158.65,
          159.849,
          161,
          162.099,
          163.5,
          165.669,
          168,
          169.762,
          171.45,
          173.477,
          175.5,
          177.302,
          179,
          180.696,
          182.4
         ],
         "mode": "lines",
         "name": "CARMEN",
         "type": "scattergeo"
        }
       ],
       "layout": {
        "geo": {
         "coastlinewidth": 1,
         "countrycolor": "rgb(204, 204, 204)",
         "fitbounds": "locations",
         "lakecolor": "rgb(255, 255, 255)",
         "landcolor": "rgb(204, 204, 204)",
         "lataxis": {
          "dtick": 10,
          "range": [
           -90,
           90
          ],
          "showgrid": true
         },
         "lonaxis": {
          "dtick": 20,
          "range": [
           -180,
           180
          ],
          "showgrid": true
         },
         "projection": {
          "type": "robinson"
         },
         "resolution": 50,
         "showlakes": true,
         "showland": true
        },
        "showlegend": true,
        "template": {
         "data": {
          "bar": [
           {
            "error_x": {
             "color": "#2a3f5f"
            },
            "error_y": {
             "color": "#2a3f5f"
            },
            "marker": {
             "line": {
              "color": "#E5ECF6",
              "width": 0.5
             },
             "pattern": {
              "fillmode": "overlay",
              "size": 10,
              "solidity": 0.2
             }
            },
            "type": "bar"
           }
          ],
          "barpolar": [
           {
            "marker": {
             "line": {
              "color": "#E5ECF6",
              "width": 0.5
             },
             "pattern": {
              "fillmode": "overlay",
              "size": 10,
              "solidity": 0.2
             }
            },
            "type": "barpolar"
           }
          ],
          "carpet": [
           {
            "aaxis": {
             "endlinecolor": "#2a3f5f",
             "gridcolor": "white",
             "linecolor": "white",
             "minorgridcolor": "white",
             "startlinecolor": "#2a3f5f"
            },
            "baxis": {
             "endlinecolor": "#2a3f5f",
             "gridcolor": "white",
             "linecolor": "white",
             "minorgridcolor": "white",
             "startlinecolor": "#2a3f5f"
            },
            "type": "carpet"
           }
          ],
          "choropleth": [
           {
            "colorbar": {
             "outlinewidth": 0,
             "ticks": ""
            },
            "type": "choropleth"
           }
          ],
          "contour": [
           {
            "colorbar": {
             "outlinewidth": 0,
             "ticks": ""
            },
            "colorscale": [
             [
              0,
              "#0d0887"
             ],
             [
              0.1111111111111111,
              "#46039f"
             ],
             [
              0.2222222222222222,
              "#7201a8"
             ],
             [
              0.3333333333333333,
              "#9c179e"
             ],
             [
              0.4444444444444444,
              "#bd3786"
             ],
             [
              0.5555555555555556,
              "#d8576b"
             ],
             [
              0.6666666666666666,
              "#ed7953"
             ],
             [
              0.7777777777777778,
              "#fb9f3a"
             ],
             [
              0.8888888888888888,
              "#fdca26"
             ],
             [
              1,
              "#f0f921"
             ]
            ],
            "type": "contour"
           }
          ],
          "contourcarpet": [
           {
            "colorbar": {
             "outlinewidth": 0,
             "ticks": ""
            },
            "type": "contourcarpet"
           }
          ],
          "heatmap": [
           {
            "colorbar": {
             "outlinewidth": 0,
             "ticks": ""
            },
            "colorscale": [
             [
              0,
              "#0d0887"
             ],
             [
              0.1111111111111111,
              "#46039f"
             ],
             [
              0.2222222222222222,
              "#7201a8"
             ],
             [
              0.3333333333333333,
              "#9c179e"
             ],
             [
              0.4444444444444444,
              "#bd3786"
             ],
             [
              0.5555555555555556,
              "#d8576b"
             ],
             [
              0.6666666666666666,
              "#ed7953"
             ],
             [
              0.7777777777777778,
              "#fb9f3a"
             ],
             [
              0.8888888888888888,
              "#fdca26"
             ],
             [
              1,
              "#f0f921"
             ]
            ],
            "type": "heatmap"
           }
          ],
          "heatmapgl": [
           {
            "colorbar": {
             "outlinewidth": 0,
             "ticks": ""
            },
            "colorscale": [
             [
              0,
              "#0d0887"
             ],
             [
              0.1111111111111111,
              "#46039f"
             ],
             [
              0.2222222222222222,
              "#7201a8"
             ],
             [
              0.3333333333333333,
              "#9c179e"
             ],
             [
              0.4444444444444444,
              "#bd3786"
             ],
             [
              0.5555555555555556,
              "#d8576b"
             ],
             [
              0.6666666666666666,
              "#ed7953"
             ],
             [
              0.7777777777777778,
              "#fb9f3a"
             ],
             [
              0.8888888888888888,
              "#fdca26"
             ],
             [
              1,
              "#f0f921"
             ]
            ],
            "type": "heatmapgl"
           }
          ],
          "histogram": [
           {
            "marker": {
             "pattern": {
              "fillmode": "overlay",
              "size": 10,
              "solidity": 0.2
             }
            },
            "type": "histogram"
           }
          ],
          "histogram2d": [
           {
            "colorbar": {
             "outlinewidth": 0,
             "ticks": ""
            },
            "colorscale": [
             [
              0,
              "#0d0887"
             ],
             [
              0.1111111111111111,
              "#46039f"
             ],
             [
              0.2222222222222222,
              "#7201a8"
             ],
             [
              0.3333333333333333,
              "#9c179e"
             ],
             [
              0.4444444444444444,
              "#bd3786"
             ],
             [
              0.5555555555555556,
              "#d8576b"
             ],
             [
              0.6666666666666666,
              "#ed7953"
             ],
             [
              0.7777777777777778,
              "#fb9f3a"
             ],
             [
              0.8888888888888888,
              "#fdca26"
             ],
             [
              1,
              "#f0f921"
             ]
            ],
            "type": "histogram2d"
           }
          ],
          "histogram2dcontour": [
           {
            "colorbar": {
             "outlinewidth": 0,
             "ticks": ""
            },
            "colorscale": [
             [
              0,
              "#0d0887"
             ],
             [
              0.1111111111111111,
              "#46039f"
             ],
             [
              0.2222222222222222,
              "#7201a8"
             ],
             [
              0.3333333333333333,
              "#9c179e"
             ],
             [
              0.4444444444444444,
              "#bd3786"
             ],
             [
              0.5555555555555556,
              "#d8576b"
             ],
             [
              0.6666666666666666,
              "#ed7953"
             ],
             [
              0.7777777777777778,
              "#fb9f3a"
             ],
             [
              0.8888888888888888,
              "#fdca26"
             ],
             [
              1,
              "#f0f921"
             ]
            ],
            "type": "histogram2dcontour"
           }
          ],
          "mesh3d": [
           {
            "colorbar": {
             "outlinewidth": 0,
             "ticks": ""
            },
            "type": "mesh3d"
           }
          ],
          "parcoords": [
           {
            "line": {
             "colorbar": {
              "outlinewidth": 0,
              "ticks": ""
             }
            },
            "type": "parcoords"
           }
          ],
          "pie": [
           {
            "automargin": true,
            "type": "pie"
           }
          ],
          "scatter": [
           {
            "fillpattern": {
             "fillmode": "overlay",
             "size": 10,
             "solidity": 0.2
            },
            "type": "scatter"
           }
          ],
          "scatter3d": [
           {
            "line": {
             "colorbar": {
              "outlinewidth": 0,
              "ticks": ""
             }
            },
            "marker": {
             "colorbar": {
              "outlinewidth": 0,
              "ticks": ""
             }
            },
            "type": "scatter3d"
           }
          ],
          "scattercarpet": [
           {
            "marker": {
             "colorbar": {
              "outlinewidth": 0,
              "ticks": ""
             }
            },
            "type": "scattercarpet"
           }
          ],
          "scattergeo": [
           {
            "marker": {
             "colorbar": {
              "outlinewidth": 0,
              "ticks": ""
             }
            },
            "type": "scattergeo"
           }
          ],
          "scattergl": [
           {
            "marker": {
             "colorbar": {
              "outlinewidth": 0,
              "ticks": ""
             }
            },
            "type": "scattergl"
           }
          ],
          "scattermapbox": [
           {
            "marker": {
             "colorbar": {
              "outlinewidth": 0,
              "ticks": ""
             }
            },
            "type": "scattermapbox"
           }
          ],
          "scatterpolar": [
           {
            "marker": {
             "colorbar": {
              "outlinewidth": 0,
              "ticks": ""
             }
            },
            "type": "scatterpolar"
           }
          ],
          "scatterpolargl": [
           {
            "marker": {
             "colorbar": {
              "outlinewidth": 0,
              "ticks": ""
             }
            },
            "type": "scatterpolargl"
           }
          ],
          "scatterternary": [
           {
            "marker": {
             "colorbar": {
              "outlinewidth": 0,
              "ticks": ""
             }
            },
            "type": "scatterternary"
           }
          ],
          "surface": [
           {
            "colorbar": {
             "outlinewidth": 0,
             "ticks": ""
            },
            "colorscale": [
             [
              0,
              "#0d0887"
             ],
             [
              0.1111111111111111,
              "#46039f"
             ],
             [
              0.2222222222222222,
              "#7201a8"
             ],
             [
              0.3333333333333333,
              "#9c179e"
             ],
             [
              0.4444444444444444,
              "#bd3786"
             ],
             [
              0.5555555555555556,
              "#d8576b"
             ],
             [
              0.6666666666666666,
              "#ed7953"
             ],
             [
              0.7777777777777778,
              "#fb9f3a"
             ],
             [
              0.8888888888888888,
              "#fdca26"
             ],
             [
              1,
              "#f0f921"
             ]
            ],
            "type": "surface"
           }
          ],
          "table": [
           {
            "cells": {
             "fill": {
              "color": "#EBF0F8"
             },
             "line": {
              "color": "white"
             }
            },
            "header": {
             "fill": {
              "color": "#C8D4E3"
             },
             "line": {
              "color": "white"
             }
            },
            "type": "table"
           }
          ]
         },
         "layout": {
          "annotationdefaults": {
           "arrowcolor": "#2a3f5f",
           "arrowhead": 0,
           "arrowwidth": 1
          },
          "autotypenumbers": "strict",
          "coloraxis": {
           "colorbar": {
            "outlinewidth": 0,
            "ticks": ""
           }
          },
          "colorscale": {
           "diverging": [
            [
             0,
             "#8e0152"
            ],
            [
             0.1,
             "#c51b7d"
            ],
            [
             0.2,
             "#de77ae"
            ],
            [
             0.3,
             "#f1b6da"
            ],
            [
             0.4,
             "#fde0ef"
            ],
            [
             0.5,
             "#f7f7f7"
            ],
            [
             0.6,
             "#e6f5d0"
            ],
            [
             0.7,
             "#b8e186"
            ],
            [
             0.8,
             "#7fbc41"
            ],
            [
             0.9,
             "#4d9221"
            ],
            [
             1,
             "#276419"
            ]
           ],
           "sequential": [
            [
             0,
             "#0d0887"
            ],
            [
             0.1111111111111111,
             "#46039f"
            ],
            [
             0.2222222222222222,
             "#7201a8"
            ],
            [
             0.3333333333333333,
             "#9c179e"
            ],
            [
             0.4444444444444444,
             "#bd3786"
            ],
            [
             0.5555555555555556,
             "#d8576b"
            ],
            [
             0.6666666666666666,
             "#ed7953"
            ],
            [
             0.7777777777777778,
             "#fb9f3a"
            ],
            [
             0.8888888888888888,
             "#fdca26"
            ],
            [
             1,
             "#f0f921"
            ]
           ],
           "sequentialminus": [
            [
             0,
             "#0d0887"
            ],
            [
             0.1111111111111111,
             "#46039f"
            ],
            [
             0.2222222222222222,
             "#7201a8"
            ],
            [
             0.3333333333333333,
             "#9c179e"
            ],
            [
             0.4444444444444444,
             "#bd3786"
            ],
            [
             0.5555555555555556,
             "#d8576b"
            ],
            [
             0.6666666666666666,
             "#ed7953"
            ],
            [
             0.7777777777777778,
             "#fb9f3a"
            ],
            [
             0.8888888888888888,
             "#fdca26"
            ],
            [
             1,
             "#f0f921"
            ]
           ]
          },
          "colorway": [
           "#636efa",
           "#EF553B",
           "#00cc96",
           "#ab63fa",
           "#FFA15A",
           "#19d3f3",
           "#FF6692",
           "#B6E880",
           "#FF97FF",
           "#FECB52"
          ],
          "font": {
           "color": "#2a3f5f"
          },
          "geo": {
           "bgcolor": "white",
           "lakecolor": "white",
           "landcolor": "#E5ECF6",
           "showlakes": true,
           "showland": true,
           "subunitcolor": "white"
          },
          "hoverlabel": {
           "align": "left"
          },
          "hovermode": "closest",
          "mapbox": {
           "style": "light"
          },
          "paper_bgcolor": "white",
          "plot_bgcolor": "#E5ECF6",
          "polar": {
           "angularaxis": {
            "gridcolor": "white",
            "linecolor": "white",
            "ticks": ""
           },
           "bgcolor": "#E5ECF6",
           "radialaxis": {
            "gridcolor": "white",
            "linecolor": "white",
            "ticks": ""
           }
          },
          "scene": {
           "xaxis": {
            "backgroundcolor": "#E5ECF6",
            "gridcolor": "white",
            "gridwidth": 2,
            "linecolor": "white",
            "showbackground": true,
            "ticks": "",
            "zerolinecolor": "white"
           },
           "yaxis": {
            "backgroundcolor": "#E5ECF6",
            "gridcolor": "white",
            "gridwidth": 2,
            "linecolor": "white",
            "showbackground": true,
            "ticks": "",
            "zerolinecolor": "white"
           },
           "zaxis": {
            "backgroundcolor": "#E5ECF6",
            "gridcolor": "white",
            "gridwidth": 2,
            "linecolor": "white",
            "showbackground": true,
            "ticks": "",
            "zerolinecolor": "white"
           }
          },
          "shapedefaults": {
           "line": {
            "color": "#2a3f5f"
           }
          },
          "ternary": {
           "aaxis": {
            "gridcolor": "white",
            "linecolor": "white",
            "ticks": ""
           },
           "baxis": {
            "gridcolor": "white",
            "linecolor": "white",
            "ticks": ""
           },
           "bgcolor": "#E5ECF6",
           "caxis": {
            "gridcolor": "white",
            "linecolor": "white",
            "ticks": ""
           }
          },
          "title": {
           "x": 0.05
          },
          "xaxis": {
           "automargin": true,
           "gridcolor": "white",
           "linecolor": "white",
           "ticks": "",
           "title": {
            "standoff": 15
           },
           "zerolinecolor": "white",
           "zerolinewidth": 2
          },
          "yaxis": {
           "automargin": true,
           "gridcolor": "white",
           "linecolor": "white",
           "ticks": "",
           "title": {
            "standoff": 15
           },
           "zerolinecolor": "white",
           "zerolinewidth": 2
          }
         }
        },
        "title": {
         "text": "Top 10 Longest Hurricanes in North Asia Pacific (1952)"
        }
       }
      },
      "text/html": [
       "<div>                            <div id=\"da0b104c-df94-4a99-beb7-a34717228845\" class=\"plotly-graph-div\" style=\"height:525px; width:100%;\"></div>            <script type=\"text/javascript\">                require([\"plotly\"], function(Plotly) {                    window.PLOTLYENV=window.PLOTLYENV || {};                                    if (document.getElementById(\"da0b104c-df94-4a99-beb7-a34717228845\")) {                    Plotly.newPlot(                        \"da0b104c-df94-4a99-beb7-a34717228845\",                        [{\"lat\":[27.4,27.1975,26.7143,26.471,26.2151,25.9445,25.7,25.4802,25.2991,25.1835,25.1348,25.12,25.1779,25.383,25.6167,25.76,25.8454,25.89,25.8833,25.8148,25.7729,25.8607,25.9833,26.0462,26.0974,26.1593,26.2333,26.3093,26.4184,26.5748,26.7833,27.0329,27.3196,27.6256,27.9333,28.2073,28.4853,28.786,29.1167,29.4802,29.8257,30.1484,30.4,30.4212,30.75,31.1212,31.5,31.85,31.9429,31.9175,31.66,30.95,31.1,31.3075,31.5,31.6149,31.7,31.7774,31.9,32.135,32.4,32.5925,32.8,33.0925,33.4,33.6799,33.9,34.0224,34.1,34.1925,34.3,34.435,34.6,34.7925,35.0,35.2025,35.4],\"lon\":[130.0,129.897,129.914,129.772,129.608,129.424,129.22,129.001,128.709,128.401,128.126,127.926,127.688,127.352,127.0,126.695,126.457,126.336,126.217,125.978,125.685,125.378,125.067,124.784,124.506,124.214,123.917,123.625,123.313,122.954,122.583,122.234,121.89,121.527,121.2,120.961,120.748,120.485,120.233,120.041,119.806,119.508,119.167,118.777,118.75,118.707,118.65,118.55,118.571,118.696,118.92,119.265,119.2,119.108,119.0,118.915,118.8,118.63,118.4,118.123,117.8,117.45,117.1,116.778,116.5,116.27,116.1,115.985,115.9,115.792,115.7,115.642,115.6,115.55,115.5,115.45,115.4],\"mode\":\"lines\",\"name\":\"GILDA\",\"type\":\"scattergeo\"},{\"lat\":[13.4,13.4991,13.6131,13.7512,13.9,14.0484,14.1856,14.2863,14.4,14.5857,14.7731,14.8865,15.0,15.1821,15.3652,15.4722,15.6,15.8154,16.0479,16.34,16.7136,17.1636,17.7017,18.3691,19.05,19.6151,20.1154,20.5765,21.0167,21.452,21.914,22.3931,23.0167,23.8909,24.9108,25.9288,26.9833,28.1267,29.154,29.8781,30.3478,30.6816,30.8753,30.9888,31.22,31.4405,31.6818,31.9776,32.34,32.7579,33.2492,33.7768,34.4,35.1625,36.0,36.8445,37.6,38.1597,38.6,39.0307,39.4,39.7559,40.0,40.0507,40.0,39.998,40.0,39.9986,40.0,39.9998,40.0,39.9996,40.0,39.9999,40.0,39.9996,40.0,39.9848,40.0,40.0922,40.2,40.2494,40.3,40.385,40.5,40.6189,40.8,41.0023,41.4,42.1556,43.0,43.6646,44.2],\"lon\":[131.2,131.198,131.212,131.25,131.3,131.345,131.393,131.438,131.5,131.589,131.705,131.851,132.0,132.081,132.179,132.296,132.6,133.253,134.651,135.653,136.35,136.763,136.99,137.212,137.533,138.043,138.674,139.339,140.033,140.748,141.41,141.987,142.4,142.649,142.684,142.542,142.217,141.782,141.222,140.567,139.965,139.661,139.539,139.457,139.34,139.292,139.318,139.368,139.52,139.797,140.199,140.693,141.286,141.891,142.514,143.328,143.8,144.364,145.0,145.745,146.4,146.582,147.0,148.396,150.0,151.127,152.0,152.702,153.3,153.958,154.6,155.208,155.8,156.415,157.0,157.515,158.0,158.5,159.0,159.492,160.0,160.513,161.1,161.82,162.6,163.321,164.1,165.016,166.0,167.041,168.0,168.724,169.3],\"mode\":\"lines\",\"name\":\"JEANNE:JEANNIE\",\"type\":\"scattergeo\"},{\"lat\":[15.1,15.099,15.1281,15.2181,15.4,15.6944,16.1534,16.5079,16.82,17.1486,17.5087,17.8343,18.1,18.2275,18.2987,18.3574,18.5,18.7877,19.2601,19.8239,20.4556,21.1159,21.8,22.4675,23.3,24.4624,25.7,26.7267,27.7,28.8487,30.0,31.0241,32.0,32.9247,34.0,35.462,37.0,38.437,39.5,39.9371,40.0,40.0964,40.0,39.6069,39.2,39.0452,39.1,39.3245,39.7,40.165,40.6,40.8582,41.0,41.0957,41.1,41.0294,40.9,40.757,40.6,40.4349,40.3,40.1976,40.2,40.3621,40.6,40.7994,41.0,41.2003,41.4,41.6489,41.8,41.712,41.5,41.3222,41.1,40.812,40.5,40.2602,39.9,39.2653,38.5,37.7943,37.0,36.0492,35.0],\"lon\":[126.6,126.962,127.279,127.507,127.6,127.535,127.666,127.971,128.39,128.877,129.265,129.71,130.233,130.848,131.548,132.293,133.1,133.986,134.967,135.921,136.833,137.648,138.35,139.063,139.7,140.333,140.643,140.26,139.52,138.878,138.9,139.611,140.6,141.355,142.0,142.531,143.0,143.499,144.0,144.503,145.0,145.446,146.0,146.763,147.7,148.77,149.9,150.979,152.0,152.988,153.8,154.282,154.7,155.392,156.1,156.638,157.1,157.542,158.0,158.535,159.1,159.68,160.2,160.58,160.9,161.206,161.6,162.205,162.9,163.421,164.2,165.575,167.2,168.744,170.2,171.437,172.6,173.884,175.1,176.087,177.0,177.99,179.0,180.008,181.0],\"mode\":\"lines\",\"name\":\"IVY\",\"type\":\"scattergeo\"},{\"lat\":[13.7,13.8547,13.9957,14.112,14.2,14.2548,14.3068,14.3935,14.5,14.5926,14.7389,15.0013,15.0444,15.1029,15.2017,15.3485,15.6833,16.1389,16.6042,16.9573,17.2833,17.6399,18.0317,18.4722,18.95,19.4391,19.9475,20.4613,20.9833,21.5178,22.0404,22.5249,23.0,23.5036,24.0042,24.5022,24.9333,25.2406,25.4862,25.7465,26.0,26.2452,26.4925,26.7326,27.0333,27.4654,27.9329,28.3319,28.7167,29.1222,29.5275,29.9262,30.3,30.6051,30.9292,31.3245,31.8333,32.49,33.2162,33.8658,34.6,35.5626,36.5596,37.4085,38.1667,38.8706,39.499,40.0399,40.6,41.3722,42.1059,42.5682,42.825,42.9337,43.025,43.2957,43.6,43.8239,44.0571,44.308,44.64,45.1729,45.6,46.0426,46.5,46.9496,47.4,47.7511,48.3,49.3313,50.5,51.4638,52.3,53.0475,53.6,53.9609,54.1,54.0742,54.0,54.0262,54.1,54.1699,54.3,54.5308,54.8,55.0149,55.2,55.4094,55.5,55.361,55.1,54.8724,54.6,54.2721,53.9,53.5214,53.1,52.454,52.1,52.5848,53.2,53.2345,53.2,53.3811,53.7,54.2777,54.8,54.9244,54.9,54.9499,55.0,55.0126,55.1,55.3923,55.7,55.8301,55.9,55.9772,56.1,56.3206,56.6],\"lon\":[134.7,134.298,133.918,133.566,133.2,132.765,132.316,131.914,131.5,131.001,130.515,130.108,129.989,129.901,129.814,129.696,129.55,129.446,129.387,129.362,129.333,129.24,129.139,129.06,129.033,129.09,129.199,129.361,129.433,129.264,128.989,128.755,128.517,128.276,128.031,127.771,127.533,127.358,127.202,127.025,126.833,126.615,126.411,126.263,126.133,125.971,125.826,125.74,125.667,125.56,125.445,125.331,125.233,125.159,125.11,125.077,125.067,125.046,125.077,125.127,125.4,126.061,126.934,127.724,128.667,129.906,131.304,132.643,134.04,135.693,137.294,138.281,139.3,140.836,142.625,144.507,146.425,148.231,150.086,151.719,153.02,153.978,155.1,156.28,157.4,158.413,159.2,159.666,160.0,160.413,161.0,161.795,163.0,164.716,166.8,169.137,171.2,172.468,173.2,173.755,174.1,174.445,174.7,174.882,175.0,175.117,175.1,174.922,174.5,173.785,173.0,172.36,171.9,171.676,171.6,171.388,171.5,172.124,173.3,175.203,177.1,177.813,178.5,180.592,182.3,182.009,181.0,180.552,180.2,179.835,179.5,179.155,178.9,178.775,178.8,178.962,179.2,179.364,179.6,179.998,180.5],\"mode\":\"lines\",\"name\":\"KAREN\",\"type\":\"scattergeo\"},{\"lat\":[11.0,11.2478,11.5,11.7574,12.0,12.2074,12.4,12.6074,12.8,12.9573,13.1,13.2499,13.4,13.5499,13.7,13.8499,13.8,13.8191,13.8662,13.9391,14.1333,14.4541,14.8453,15.2397,15.6333,15.9765,16.3562,16.8403,17.3667,17.8714,18.3682,18.8534,19.3167,19.7503,20.1517,20.4809,20.9,21.5815,22.3496,23.0417,23.6833,24.2594,24.7917,25.3023,25.8167,26.327,26.9333,27.7341,28.6167,29.4284,30.2982,31.3024,32.3667,33.4646,34.4831,35.3377,35.9833,36.4099,36.6725,36.8835,37.0667,37.2659,37.5364,37.9201,38.2778,38.4505,38.55,38.5911,38.6,38.6417,38.5429,38.3204,38.0,37.6028,37.5,37.3864,37.25,37.0887,36.9,36.6707,36.45,36.2591,36.15,36.135,36.25,36.5105,36.8,36.9642,37.1,37.2711,37.45,37.6267,37.8],\"lon\":[157.0,156.35,155.7,155.05,154.4,153.742,153.1,152.477,151.9,151.392,150.9,150.365,149.8,149.215,148.6,147.957,148.167,147.861,147.357,146.747,146.033,145.396,144.824,144.29,143.8,143.304,142.864,142.478,142.217,142.133,142.142,142.131,142.117,142.081,142.035,141.983,141.9,141.771,141.605,141.418,141.233,141.073,140.944,140.831,140.783,140.812,140.923,141.088,141.333,141.636,142.016,142.443,142.95,143.537,144.199,144.902,145.617,146.285,146.926,147.504,148.183,149.117,150.188,151.21,152.322,153.76,155.125,156.06,156.75,157.3,157.886,158.715,159.48,159.82,160.6,161.514,162.45,163.271,164.1,165.024,166.0,167.038,168.0,168.749,169.4,170.133,170.75,171.096,171.35,171.703,172.1,172.538,173.0],\"mode\":\"lines\",\"name\":\"POLLY\",\"type\":\"scattergeo\"},{\"lat\":[9.15,8.91526,8.7051,8.53746,8.4,8.27396,8.16633,8.06799,8.0,7.97797,7.98482,7.98797,8.0,8.02292,8.04616,8.05005,8.05,8.05716,8.075,8.1103,8.15,8.17449,8.1962,8.22353,8.45455,8.58577,8.66527,8.70541,8.7,8.71371,8.747,8.8013,8.85238,8.89379,8.93216,8.95979,9.0,9.08013,9.17624,9.2592,9.35,9.4592,9.57624,9.68764,9.8,9.91305,10.0346,10.1742,10.3167,10.4486,10.5729,10.6983,10.8,10.8616,10.8904,10.8906,10.9,10.9653,11.04,11.0865,11.128,11.1797,11.261,11.3387,11.4791,11.742,12.0472,12.3109,12.5511,12.7628,12.95,13.1391,13.2962,13.3956,13.4735,13.5919,13.6782,13.6839,13.64,13.573,13.5035,13.4536,13.4471,13.5115,13.5789,13.5821,13.5542,13.5165,13.486,13.4833,13.5058,13.5508,13.6238,13.7028,13.8116,13.9671,14.1257,14.2479,14.3444,14.4147,14.4942,14.6247,14.7377,14.8158,14.8529,14.8662,14.825,14.7771,14.725],\"lon\":[148.1,147.579,147.088,146.642,146.2,145.711,145.228,144.794,144.4,144.032,143.695,143.398,143.1,142.75,142.404,142.101,141.8,141.466,141.104,140.708,140.3,139.899,139.517,139.171,139.027,138.85,138.645,138.404,138.1,137.805,137.495,137.134,136.771,136.529,136.32,136.068,135.833,135.63,135.439,135.246,135.05,134.847,134.644,134.443,134.25,134.078,133.897,133.681,133.433,133.161,132.866,132.55,132.25,132.025,131.779,131.411,131.017,130.678,130.455,130.249,130.034,129.779,129.414,129.045,128.631,128.142,127.622,127.105,126.609,126.174,125.767,125.368,124.976,124.593,124.186,123.71,123.228,122.801,122.375,121.915,121.419,120.881,120.326,119.789,119.251,118.702,118.15,117.606,117.049,116.461,115.856,115.259,114.651,114.011,113.39,112.839,112.314,111.789,111.234,110.637,109.967,109.081,108.12,107.396,106.753,106.079,105.375,104.502,103.525],\"mode\":\"lines\",\"name\":\"TRIX\",\"type\":\"scattergeo\"},{\"lat\":[5.5,5.55244,5.58631,5.59266,5.48889,5.4869,5.53224,5.57897,5.66667,5.78529,5.9196,6.03452,6.2,6.48657,6.80998,7.08836,7.33333,7.53099,7.73333,7.98888,8.26667,8.53551,8.8176,9.13103,9.43333,9.6806,9.90766,10.1466,10.3833,10.6437,10.842,10.8977,10.9,10.9475,10.9926,10.9954,11.0333,11.1934,11.3622,11.4407,11.4667,11.4663,11.4343,11.3647,11.3167,11.3372,11.4181,11.5448,11.7167,11.9059,12.1345,12.4237,12.6833,12.8128,12.8906,12.9742,13.0833,13.2562,13.4734,13.7308,13.9667,14.106,14.2075,14.3177,14.4333,14.5585,14.7007,14.855,15.05,15.3054,15.6027,15.9499,16.2,16.1427,15.8867,15.6369,15.3,14.8457,14.5,14.1377,13.7667],\"lon\":[152.0,151.598,151.211,150.85,150.2,149.671,149.221,148.827,148.533,148.183,147.839,147.559,147.317,147.11,146.879,146.57,146.2,145.781,145.367,145.03,144.7,144.332,143.919,143.494,142.933,142.131,141.233,140.41,139.6,138.807,137.971,137.038,136.083,135.177,134.32,133.554,132.767,131.828,130.845,129.888,129.0,128.228,127.536,126.872,126.233,125.599,124.945,124.234,123.5,122.797,122.067,121.267,120.433,119.603,118.754,117.835,117.0,116.389,115.896,115.419,114.933,114.365,113.767,113.167,112.583,112.049,111.519,110.936,110.367,109.874,109.383,108.841,108.233,107.515,106.82,106.172,105.538,104.894,104.333,103.82,103.333],\"mode\":\"lines\",\"name\":\"WILMA\",\"type\":\"scattergeo\"},{\"lat\":[8.6,8.83853,9.09333,9.37844,9.78824,10.2222,10.7199,11.3145,11.82,12.1934,12.5738,12.9444,13.3043,13.6916,14.0325,14.2939,14.5333,14.8183,15.0812,15.2654,15.4333,15.6399,15.8679,16.1097,16.3667,16.6331,16.895,17.1347,17.3667,17.6252,17.855,17.9849,18.1333,18.4587,18.7357,18.7276,18.6833,18.8032,19.0376,19.382,19.7667,20.0801,20.3937,20.7399,21.1167,21.552,21.9592,22.2417,22.4833,22.7588,23.0401,23.2984,23.6167,24.0871,24.5795,24.9766,25.3,25.536,25.7425,25.9309,26.2667,26.9178,27.6926,28.3941,29.0667,29.698,30.2858,30.806,31.3333,31.9346,32.5369,33.0777,33.54,33.9007,34.2647,34.6804,35.15,35.5747,36.1462,36.9618,37.9667,39.8795,41.0],\"lon\":[149.0,148.758,148.388,147.829,147.406,147.195,147.034,146.821,146.56,146.253,145.891,145.436,144.926,144.429,144.015,143.603,143.2,142.803,142.395,141.969,141.517,141.033,140.536,140.054,139.567,139.042,138.539,138.086,137.717,137.462,137.23,136.886,136.567,136.389,136.273,136.17,136.017,135.73,135.391,135.069,134.767,134.552,134.268,133.741,133.183,132.831,132.5,132.093,131.55,130.736,129.91,129.301,128.9,128.67,128.655,128.83,129.133,129.423,129.734,129.937,130.333,131.174,132.267,133.359,134.55,135.811,137.138,138.401,139.867,141.731,143.881,146.183,148.48,150.546,152.629,154.878,157.25,159.854,162.923,166.486,170.667,181.884,187.0],\"mode\":\"lines\",\"name\":\"AGNES\",\"type\":\"scattergeo\"},{\"lat\":[8.05,8.21005,8.4,8.63873,8.9,9.14246,9.4,9.68503,10.0,10.3425,10.7,11.05,11.4,11.7425,12.1,12.5037,12.9,13.2133,13.7,14.1303,14.4942,14.7965,15.1,15.4338,15.7378,15.9769,16.1333,16.2089,16.2155,16.1843,16.1333,16.0942,16.0667,16.0528,16.0667,16.1222,16.181,16.2056,16.2,16.1291,16.087,16.1381,16.3,16.56,16.9356,17.3958,17.9333,18.518,19.0978,19.5922,20.0333,20.4364,20.8135,21.1392,21.5833,22.3271,23.1837,24.0009,24.7167,25.2247,25.647,26.1089,26.5667,27.0392,27.4526,27.7291,28.0045,28.3434,28.6935,28.9598,29.2,29.3714,29.5,29.7127,29.8,29.5396,29.2,29.0362,29.0],\"lon\":[150.0,149.676,149.35,149.021,148.7,148.396,148.1,147.778,147.5,147.32,147.2,147.085,147.0,146.957,146.9,146.799,146.6,146.341,145.667,144.836,144.022,143.301,142.517,141.621,140.648,139.626,138.633,137.77,136.971,136.186,135.4,134.57,133.733,132.921,132.1,131.234,130.371,129.552,128.767,127.998,127.249,126.504,125.783,125.06,124.426,123.934,123.55,123.24,122.921,122.467,121.967,121.475,121.012,120.59,120.25,119.962,119.809,119.779,119.983,120.451,121.134,121.901,122.75,123.591,124.478,125.408,126.355,127.212,128.065,128.718,129.7,131.41,133.0,133.597,134.0,135.003,136.0,136.623,137.0],\"mode\":\"lines\",\"name\":\"BESS\",\"type\":\"scattergeo\"},{\"lat\":[10.3,10.4871,10.6669,10.8482,11.3667,11.9259,12.4996,13.0622,13.4833,13.8247,14.1128,14.3919,14.5833,14.6032,14.6031,14.7137,14.9333,15.2599,15.7044,16.2979,16.8333,17.0669,17.1951,17.341,17.6,18.1268,18.7302,19.2321,19.6667,20.0144,20.3529,20.7787,21.2,21.5252,21.8425,22.216,22.65,23.1587,23.7005,24.2254,24.7333,25.2096,25.6808,26.1956,26.6667,27.0245,27.3085,27.5427,27.7833,28.1259,28.4531,28.6424,28.7222,28.7554,28.8182,28.9401,29.2,29.5701,29.9,30.0211,30.1,30.2286,30.45,30.8346,31.3,31.7923,32.15,32.2202,32.1,31.73,31.65,32.3807,33.45,34.4405,35.35,35.9632,36.5,37.2054,37.9,38.3357,38.6],\"lon\":[145.7,145.107,144.526,143.951,143.322,142.548,141.718,140.898,140.033,139.179,138.256,137.166,136.1,135.279,134.482,133.481,132.483,131.647,130.892,130.13,129.433,128.807,128.266,127.766,127.383,127.127,127.004,126.988,127.033,127.046,127.077,127.135,127.2,127.24,127.282,127.334,127.417,127.518,127.675,127.866,128.2,128.759,129.443,130.12,130.817,131.446,132.17,133.067,134.167,135.474,136.915,138.31,139.722,141.05,142.327,143.716,145.1,146.647,148.1,149.095,150.1,151.603,153.2,154.547,155.85,157.27,158.65,159.849,161.0,162.099,163.5,165.669,168.0,169.762,171.45,173.477,175.5,177.302,179.0,180.696,182.4],\"mode\":\"lines\",\"name\":\"CARMEN\",\"type\":\"scattergeo\"}],                        {\"geo\":{\"coastlinewidth\":1,\"countrycolor\":\"rgb(204, 204, 204)\",\"fitbounds\":\"locations\",\"lakecolor\":\"rgb(255, 255, 255)\",\"landcolor\":\"rgb(204, 204, 204)\",\"lataxis\":{\"dtick\":10,\"range\":[-90,90],\"showgrid\":true},\"lonaxis\":{\"dtick\":20,\"range\":[-180,180],\"showgrid\":true},\"projection\":{\"type\":\"robinson\"},\"resolution\":50,\"showlakes\":true,\"showland\":true},\"showlegend\":true,\"title\":{\"text\":\"Top 10 Longest Hurricanes in North Asia Pacific (1952)\"},\"template\":{\"data\":{\"histogram2dcontour\":[{\"type\":\"histogram2dcontour\",\"colorbar\":{\"outlinewidth\":0,\"ticks\":\"\"},\"colorscale\":[[0.0,\"#0d0887\"],[0.1111111111111111,\"#46039f\"],[0.2222222222222222,\"#7201a8\"],[0.3333333333333333,\"#9c179e\"],[0.4444444444444444,\"#bd3786\"],[0.5555555555555556,\"#d8576b\"],[0.6666666666666666,\"#ed7953\"],[0.7777777777777778,\"#fb9f3a\"],[0.8888888888888888,\"#fdca26\"],[1.0,\"#f0f921\"]]}],\"choropleth\":[{\"type\":\"choropleth\",\"colorbar\":{\"outlinewidth\":0,\"ticks\":\"\"}}],\"histogram2d\":[{\"type\":\"histogram2d\",\"colorbar\":{\"outlinewidth\":0,\"ticks\":\"\"},\"colorscale\":[[0.0,\"#0d0887\"],[0.1111111111111111,\"#46039f\"],[0.2222222222222222,\"#7201a8\"],[0.3333333333333333,\"#9c179e\"],[0.4444444444444444,\"#bd3786\"],[0.5555555555555556,\"#d8576b\"],[0.6666666666666666,\"#ed7953\"],[0.7777777777777778,\"#fb9f3a\"],[0.8888888888888888,\"#fdca26\"],[1.0,\"#f0f921\"]]}],\"heatmap\":[{\"type\":\"heatmap\",\"colorbar\":{\"outlinewidth\":0,\"ticks\":\"\"},\"colorscale\":[[0.0,\"#0d0887\"],[0.1111111111111111,\"#46039f\"],[0.2222222222222222,\"#7201a8\"],[0.3333333333333333,\"#9c179e\"],[0.4444444444444444,\"#bd3786\"],[0.5555555555555556,\"#d8576b\"],[0.6666666666666666,\"#ed7953\"],[0.7777777777777778,\"#fb9f3a\"],[0.8888888888888888,\"#fdca26\"],[1.0,\"#f0f921\"]]}],\"heatmapgl\":[{\"type\":\"heatmapgl\",\"colorbar\":{\"outlinewidth\":0,\"ticks\":\"\"},\"colorscale\":[[0.0,\"#0d0887\"],[0.1111111111111111,\"#46039f\"],[0.2222222222222222,\"#7201a8\"],[0.3333333333333333,\"#9c179e\"],[0.4444444444444444,\"#bd3786\"],[0.5555555555555556,\"#d8576b\"],[0.6666666666666666,\"#ed7953\"],[0.7777777777777778,\"#fb9f3a\"],[0.8888888888888888,\"#fdca26\"],[1.0,\"#f0f921\"]]}],\"contourcarpet\":[{\"type\":\"contourcarpet\",\"colorbar\":{\"outlinewidth\":0,\"ticks\":\"\"}}],\"contour\":[{\"type\":\"contour\",\"colorbar\":{\"outlinewidth\":0,\"ticks\":\"\"},\"colorscale\":[[0.0,\"#0d0887\"],[0.1111111111111111,\"#46039f\"],[0.2222222222222222,\"#7201a8\"],[0.3333333333333333,\"#9c179e\"],[0.4444444444444444,\"#bd3786\"],[0.5555555555555556,\"#d8576b\"],[0.6666666666666666,\"#ed7953\"],[0.7777777777777778,\"#fb9f3a\"],[0.8888888888888888,\"#fdca26\"],[1.0,\"#f0f921\"]]}],\"surface\":[{\"type\":\"surface\",\"colorbar\":{\"outlinewidth\":0,\"ticks\":\"\"},\"colorscale\":[[0.0,\"#0d0887\"],[0.1111111111111111,\"#46039f\"],[0.2222222222222222,\"#7201a8\"],[0.3333333333333333,\"#9c179e\"],[0.4444444444444444,\"#bd3786\"],[0.5555555555555556,\"#d8576b\"],[0.6666666666666666,\"#ed7953\"],[0.7777777777777778,\"#fb9f3a\"],[0.8888888888888888,\"#fdca26\"],[1.0,\"#f0f921\"]]}],\"mesh3d\":[{\"type\":\"mesh3d\",\"colorbar\":{\"outlinewidth\":0,\"ticks\":\"\"}}],\"scatter\":[{\"fillpattern\":{\"fillmode\":\"overlay\",\"size\":10,\"solidity\":0.2},\"type\":\"scatter\"}],\"parcoords\":[{\"type\":\"parcoords\",\"line\":{\"colorbar\":{\"outlinewidth\":0,\"ticks\":\"\"}}}],\"scatterpolargl\":[{\"type\":\"scatterpolargl\",\"marker\":{\"colorbar\":{\"outlinewidth\":0,\"ticks\":\"\"}}}],\"bar\":[{\"error_x\":{\"color\":\"#2a3f5f\"},\"error_y\":{\"color\":\"#2a3f5f\"},\"marker\":{\"line\":{\"color\":\"#E5ECF6\",\"width\":0.5},\"pattern\":{\"fillmode\":\"overlay\",\"size\":10,\"solidity\":0.2}},\"type\":\"bar\"}],\"scattergeo\":[{\"type\":\"scattergeo\",\"marker\":{\"colorbar\":{\"outlinewidth\":0,\"ticks\":\"\"}}}],\"scatterpolar\":[{\"type\":\"scatterpolar\",\"marker\":{\"colorbar\":{\"outlinewidth\":0,\"ticks\":\"\"}}}],\"histogram\":[{\"marker\":{\"pattern\":{\"fillmode\":\"overlay\",\"size\":10,\"solidity\":0.2}},\"type\":\"histogram\"}],\"scattergl\":[{\"type\":\"scattergl\",\"marker\":{\"colorbar\":{\"outlinewidth\":0,\"ticks\":\"\"}}}],\"scatter3d\":[{\"type\":\"scatter3d\",\"line\":{\"colorbar\":{\"outlinewidth\":0,\"ticks\":\"\"}},\"marker\":{\"colorbar\":{\"outlinewidth\":0,\"ticks\":\"\"}}}],\"scattermapbox\":[{\"type\":\"scattermapbox\",\"marker\":{\"colorbar\":{\"outlinewidth\":0,\"ticks\":\"\"}}}],\"scatterternary\":[{\"type\":\"scatterternary\",\"marker\":{\"colorbar\":{\"outlinewidth\":0,\"ticks\":\"\"}}}],\"scattercarpet\":[{\"type\":\"scattercarpet\",\"marker\":{\"colorbar\":{\"outlinewidth\":0,\"ticks\":\"\"}}}],\"carpet\":[{\"aaxis\":{\"endlinecolor\":\"#2a3f5f\",\"gridcolor\":\"white\",\"linecolor\":\"white\",\"minorgridcolor\":\"white\",\"startlinecolor\":\"#2a3f5f\"},\"baxis\":{\"endlinecolor\":\"#2a3f5f\",\"gridcolor\":\"white\",\"linecolor\":\"white\",\"minorgridcolor\":\"white\",\"startlinecolor\":\"#2a3f5f\"},\"type\":\"carpet\"}],\"table\":[{\"cells\":{\"fill\":{\"color\":\"#EBF0F8\"},\"line\":{\"color\":\"white\"}},\"header\":{\"fill\":{\"color\":\"#C8D4E3\"},\"line\":{\"color\":\"white\"}},\"type\":\"table\"}],\"barpolar\":[{\"marker\":{\"line\":{\"color\":\"#E5ECF6\",\"width\":0.5},\"pattern\":{\"fillmode\":\"overlay\",\"size\":10,\"solidity\":0.2}},\"type\":\"barpolar\"}],\"pie\":[{\"automargin\":true,\"type\":\"pie\"}]},\"layout\":{\"autotypenumbers\":\"strict\",\"colorway\":[\"#636efa\",\"#EF553B\",\"#00cc96\",\"#ab63fa\",\"#FFA15A\",\"#19d3f3\",\"#FF6692\",\"#B6E880\",\"#FF97FF\",\"#FECB52\"],\"font\":{\"color\":\"#2a3f5f\"},\"hovermode\":\"closest\",\"hoverlabel\":{\"align\":\"left\"},\"paper_bgcolor\":\"white\",\"plot_bgcolor\":\"#E5ECF6\",\"polar\":{\"bgcolor\":\"#E5ECF6\",\"angularaxis\":{\"gridcolor\":\"white\",\"linecolor\":\"white\",\"ticks\":\"\"},\"radialaxis\":{\"gridcolor\":\"white\",\"linecolor\":\"white\",\"ticks\":\"\"}},\"ternary\":{\"bgcolor\":\"#E5ECF6\",\"aaxis\":{\"gridcolor\":\"white\",\"linecolor\":\"white\",\"ticks\":\"\"},\"baxis\":{\"gridcolor\":\"white\",\"linecolor\":\"white\",\"ticks\":\"\"},\"caxis\":{\"gridcolor\":\"white\",\"linecolor\":\"white\",\"ticks\":\"\"}},\"coloraxis\":{\"colorbar\":{\"outlinewidth\":0,\"ticks\":\"\"}},\"colorscale\":{\"sequential\":[[0.0,\"#0d0887\"],[0.1111111111111111,\"#46039f\"],[0.2222222222222222,\"#7201a8\"],[0.3333333333333333,\"#9c179e\"],[0.4444444444444444,\"#bd3786\"],[0.5555555555555556,\"#d8576b\"],[0.6666666666666666,\"#ed7953\"],[0.7777777777777778,\"#fb9f3a\"],[0.8888888888888888,\"#fdca26\"],[1.0,\"#f0f921\"]],\"sequentialminus\":[[0.0,\"#0d0887\"],[0.1111111111111111,\"#46039f\"],[0.2222222222222222,\"#7201a8\"],[0.3333333333333333,\"#9c179e\"],[0.4444444444444444,\"#bd3786\"],[0.5555555555555556,\"#d8576b\"],[0.6666666666666666,\"#ed7953\"],[0.7777777777777778,\"#fb9f3a\"],[0.8888888888888888,\"#fdca26\"],[1.0,\"#f0f921\"]],\"diverging\":[[0,\"#8e0152\"],[0.1,\"#c51b7d\"],[0.2,\"#de77ae\"],[0.3,\"#f1b6da\"],[0.4,\"#fde0ef\"],[0.5,\"#f7f7f7\"],[0.6,\"#e6f5d0\"],[0.7,\"#b8e186\"],[0.8,\"#7fbc41\"],[0.9,\"#4d9221\"],[1,\"#276419\"]]},\"xaxis\":{\"gridcolor\":\"white\",\"linecolor\":\"white\",\"ticks\":\"\",\"title\":{\"standoff\":15},\"zerolinecolor\":\"white\",\"automargin\":true,\"zerolinewidth\":2},\"yaxis\":{\"gridcolor\":\"white\",\"linecolor\":\"white\",\"ticks\":\"\",\"title\":{\"standoff\":15},\"zerolinecolor\":\"white\",\"automargin\":true,\"zerolinewidth\":2},\"scene\":{\"xaxis\":{\"backgroundcolor\":\"#E5ECF6\",\"gridcolor\":\"white\",\"linecolor\":\"white\",\"showbackground\":true,\"ticks\":\"\",\"zerolinecolor\":\"white\",\"gridwidth\":2},\"yaxis\":{\"backgroundcolor\":\"#E5ECF6\",\"gridcolor\":\"white\",\"linecolor\":\"white\",\"showbackground\":true,\"ticks\":\"\",\"zerolinecolor\":\"white\",\"gridwidth\":2},\"zaxis\":{\"backgroundcolor\":\"#E5ECF6\",\"gridcolor\":\"white\",\"linecolor\":\"white\",\"showbackground\":true,\"ticks\":\"\",\"zerolinecolor\":\"white\",\"gridwidth\":2}},\"shapedefaults\":{\"line\":{\"color\":\"#2a3f5f\"}},\"annotationdefaults\":{\"arrowcolor\":\"#2a3f5f\",\"arrowhead\":0,\"arrowwidth\":1},\"geo\":{\"bgcolor\":\"white\",\"landcolor\":\"#E5ECF6\",\"subunitcolor\":\"white\",\"showland\":true,\"showlakes\":true,\"lakecolor\":\"white\"},\"title\":{\"x\":0.05},\"mapbox\":{\"style\":\"light\"}}}},                        {\"responsive\": true}                    ).then(function(){\n",
       "                            \n",
       "var gd = document.getElementById('da0b104c-df94-4a99-beb7-a34717228845');\n",
       "var x = new MutationObserver(function (mutations, observer) {{\n",
       "        var display = window.getComputedStyle(gd).display;\n",
       "        if (!display || display === 'none') {{\n",
       "            console.log([gd, 'removed!']);\n",
       "            Plotly.purge(gd);\n",
       "            observer.disconnect();\n",
       "        }}\n",
       "}});\n",
       "\n",
       "// Listen for the removal of the full notebook cells\n",
       "var notebookContainer = gd.closest('#notebook-container');\n",
       "if (notebookContainer) {{\n",
       "    x.observe(notebookContainer, {childList: true});\n",
       "}}\n",
       "\n",
       "// Listen for the clearing of the current output cell\n",
       "var outputEl = gd.closest('.output');\n",
       "if (outputEl) {{\n",
       "    x.observe(outputEl, {childList: true});\n",
       "}}\n",
       "\n",
       "                        })                };                });            </script>        </div>"
      ]
     },
     "metadata": {},
     "output_type": "display_data"
    }
   ],
   "source": [
    "# Convert each hurricane into a line plot for each group\n",
    "\n",
    "line_plots = []\n",
    "for group_name, group_data in top_10_longest_1952_data.groupby('ID'):\n",
    "    line_plot = go.Scattergeo(\n",
    "        lat=group_data['Latitude'],\n",
    "        lon=group_data['Longitude'],\n",
    "        mode='lines',\n",
    "        name=group_data['Name'].iloc[0]  # Use the first value from the 'Name' column\n",
    "    )\n",
    "    line_plots.append(line_plot)\n",
    "\n",
    "# Create the layout for the map\n",
    "layout = go.Layout(\n",
    "    title='Top 10 Longest Hurricanes in North Asia Pacific (1952)',\n",
    "    showlegend=True,\n",
    "    geo=dict(\n",
    "        resolution=50,\n",
    "        showland=True,\n",
    "        showlakes=True,\n",
    "        landcolor='rgb(204, 204, 204)',\n",
    "        countrycolor='rgb(204, 204, 204)',\n",
    "        lakecolor='rgb(255, 255, 255)',\n",
    "        projection_type=\"robinson\",\n",
    "        coastlinewidth=1,\n",
    "        fitbounds=\"locations\",  # Zoom the map around the data\n",
    "        lataxis=dict(\n",
    "            range=[-90, 90],\n",
    "            showgrid=True,\n",
    "            dtick=10\n",
    "        ),\n",
    "        lonaxis=dict(\n",
    "            range=[-180, 180],\n",
    "            showgrid=True,\n",
    "            dtick=20\n",
    "        ),\n",
    "    )\n",
    ")\n",
    "\n",
    "# Create the figure with line plots and layout\n",
    "figure = go.Figure(data=line_plots, layout=layout)\n",
    "\n",
    "# Display the map\n",
    "figure.show()\n"
   ]
  },
  {
   "cell_type": "code",
   "execution_count": 20,
   "id": "d703e306",
   "metadata": {},
   "outputs": [
    {
     "name": "stdout",
     "output_type": "stream",
     "text": [
      "Top 10 countries with the highest proximity counts to hurricanes:\n",
      "Philippines: 378\n",
      "China: 193\n",
      "Japan: 162\n",
      "Vietnam: 37\n",
      "South Korea: 12\n",
      "Palau: 6\n",
      "Laos: 4\n"
     ]
    }
   ],
   "source": [
    "#Finding the top countries affected by hurricanes\n",
    "\n",
    "#Getting latitude and longitude as lists\n",
    "lat = hurricanes_2022[\"Latitude\"]\n",
    "list_lat = lat.tolist()\n",
    "long = hurricanes_2022[\"Longitude\"]\n",
    "list_long = long.tolist()\n",
    "lat_longs = zip(list_lat, list_long)\n",
    "\n",
    "# Initialize geocoder\n",
    "geolocator = Nominatim(user_agent=\"my-app\")\n",
    "\n",
    "# Create a dictionary to store the proximity counts for each country\n",
    "proximity_counts = {}\n",
    "\n",
    "# Define the radius in kilometers\n",
    "radius_km = 111.12\n",
    "\n",
    "# Set to store processed hurricanes\n",
    "processed_hurricanes = set()\n",
    "\n",
    "# Loop through each latitude and longitude pair\n",
    "for lat, lon in zip(list_lat, list_long):\n",
    "    location = geolocator.reverse(f\"{lat},{lon}\", exactly_one=True, language='en')\n",
    "    if location:\n",
    "        country = location.raw['address'].get('country', '')\n",
    "        if country:\n",
    "            # Check if the current hurricane has been processed before\n",
    "            hurricane = (lat, lon)\n",
    "            if hurricane not in processed_hurricanes:\n",
    "                processed_hurricanes.add(hurricane)\n",
    "                \n",
    "                # Calculate the distance between the hurricane and the country's location\n",
    "                for country_lat, country_lon in zip(list_lat, list_long):\n",
    "                    distance = geopy.distance.distance(hurricane, (country_lat, country_lon)).km\n",
    "\n",
    "                    # If the distance is within the radius, increment the proximity count for the country\n",
    "                    if distance <= radius_km:\n",
    "                        if country in proximity_counts:\n",
    "                            proximity_counts[country] += 1\n",
    "                        else:\n",
    "                            proximity_counts[country] = 1\n",
    "\n",
    "# Sort the countries based on their proximity counts in descending order\n",
    "top_countries = sorted(proximity_counts, key=proximity_counts.get, reverse=True)[:10]\n",
    "\n",
    "# Print the top 10 countries and their proximity counts\n",
    "print(\"Top 10 countries with the highest proximity counts to hurricanes:\")\n",
    "for country in top_countries:\n",
    "    print(f\"{country}: {proximity_counts[country]}\")\n"
   ]
  },
  {
   "cell_type": "code",
   "execution_count": 34,
   "id": "207292aa",
   "metadata": {},
   "outputs": [
    {
     "data": {
      "application/vnd.plotly.v1+json": {
       "config": {
        "plotlyServerURL": "https://plot.ly"
       },
       "data": [
        {
         "colorscale": [
          [
           0,
           "rgb(255,255,204)"
          ],
          [
           0.125,
           "rgb(255,237,160)"
          ],
          [
           0.25,
           "rgb(254,217,118)"
          ],
          [
           0.375,
           "rgb(254,178,76)"
          ],
          [
           0.5,
           "rgb(253,141,60)"
          ],
          [
           0.625,
           "rgb(252,78,42)"
          ],
          [
           0.75,
           "rgb(227,26,28)"
          ],
          [
           0.875,
           "rgb(189,0,38)"
          ],
          [
           1,
           "rgb(128,0,38)"
          ]
         ],
         "locationmode": "country names",
         "locations": [
          "Vietnam",
          "Philippines",
          "China",
          "Japan",
          "South Korea",
          "Laos",
          "Palau"
         ],
         "marker": {
          "line": {
           "color": "darkgray",
           "width": 0.5
          }
         },
         "type": "choropleth",
         "z": [
          37,
          378,
          193,
          162,
          12,
          4,
          6
         ]
        }
       ],
       "layout": {
        "coloraxis": {
         "colorbar": {
          "title": {
           "text": "Count"
          }
         }
        },
        "geo": {
         "fitbounds": "locations",
         "lataxis": {
          "dtick": 10,
          "range": [
           -90,
           90
          ],
          "showgrid": true
         },
         "lonaxis": {
          "dtick": 20,
          "range": [
           -180,
           180
          ],
          "showgrid": true
         },
         "projection": {
          "type": "robinson"
         },
         "showcoastlines": true,
         "showframe": false
        },
        "template": {
         "data": {
          "bar": [
           {
            "error_x": {
             "color": "#2a3f5f"
            },
            "error_y": {
             "color": "#2a3f5f"
            },
            "marker": {
             "line": {
              "color": "#E5ECF6",
              "width": 0.5
             },
             "pattern": {
              "fillmode": "overlay",
              "size": 10,
              "solidity": 0.2
             }
            },
            "type": "bar"
           }
          ],
          "barpolar": [
           {
            "marker": {
             "line": {
              "color": "#E5ECF6",
              "width": 0.5
             },
             "pattern": {
              "fillmode": "overlay",
              "size": 10,
              "solidity": 0.2
             }
            },
            "type": "barpolar"
           }
          ],
          "carpet": [
           {
            "aaxis": {
             "endlinecolor": "#2a3f5f",
             "gridcolor": "white",
             "linecolor": "white",
             "minorgridcolor": "white",
             "startlinecolor": "#2a3f5f"
            },
            "baxis": {
             "endlinecolor": "#2a3f5f",
             "gridcolor": "white",
             "linecolor": "white",
             "minorgridcolor": "white",
             "startlinecolor": "#2a3f5f"
            },
            "type": "carpet"
           }
          ],
          "choropleth": [
           {
            "colorbar": {
             "outlinewidth": 0,
             "ticks": ""
            },
            "type": "choropleth"
           }
          ],
          "contour": [
           {
            "colorbar": {
             "outlinewidth": 0,
             "ticks": ""
            },
            "colorscale": [
             [
              0,
              "#0d0887"
             ],
             [
              0.1111111111111111,
              "#46039f"
             ],
             [
              0.2222222222222222,
              "#7201a8"
             ],
             [
              0.3333333333333333,
              "#9c179e"
             ],
             [
              0.4444444444444444,
              "#bd3786"
             ],
             [
              0.5555555555555556,
              "#d8576b"
             ],
             [
              0.6666666666666666,
              "#ed7953"
             ],
             [
              0.7777777777777778,
              "#fb9f3a"
             ],
             [
              0.8888888888888888,
              "#fdca26"
             ],
             [
              1,
              "#f0f921"
             ]
            ],
            "type": "contour"
           }
          ],
          "contourcarpet": [
           {
            "colorbar": {
             "outlinewidth": 0,
             "ticks": ""
            },
            "type": "contourcarpet"
           }
          ],
          "heatmap": [
           {
            "colorbar": {
             "outlinewidth": 0,
             "ticks": ""
            },
            "colorscale": [
             [
              0,
              "#0d0887"
             ],
             [
              0.1111111111111111,
              "#46039f"
             ],
             [
              0.2222222222222222,
              "#7201a8"
             ],
             [
              0.3333333333333333,
              "#9c179e"
             ],
             [
              0.4444444444444444,
              "#bd3786"
             ],
             [
              0.5555555555555556,
              "#d8576b"
             ],
             [
              0.6666666666666666,
              "#ed7953"
             ],
             [
              0.7777777777777778,
              "#fb9f3a"
             ],
             [
              0.8888888888888888,
              "#fdca26"
             ],
             [
              1,
              "#f0f921"
             ]
            ],
            "type": "heatmap"
           }
          ],
          "heatmapgl": [
           {
            "colorbar": {
             "outlinewidth": 0,
             "ticks": ""
            },
            "colorscale": [
             [
              0,
              "#0d0887"
             ],
             [
              0.1111111111111111,
              "#46039f"
             ],
             [
              0.2222222222222222,
              "#7201a8"
             ],
             [
              0.3333333333333333,
              "#9c179e"
             ],
             [
              0.4444444444444444,
              "#bd3786"
             ],
             [
              0.5555555555555556,
              "#d8576b"
             ],
             [
              0.6666666666666666,
              "#ed7953"
             ],
             [
              0.7777777777777778,
              "#fb9f3a"
             ],
             [
              0.8888888888888888,
              "#fdca26"
             ],
             [
              1,
              "#f0f921"
             ]
            ],
            "type": "heatmapgl"
           }
          ],
          "histogram": [
           {
            "marker": {
             "pattern": {
              "fillmode": "overlay",
              "size": 10,
              "solidity": 0.2
             }
            },
            "type": "histogram"
           }
          ],
          "histogram2d": [
           {
            "colorbar": {
             "outlinewidth": 0,
             "ticks": ""
            },
            "colorscale": [
             [
              0,
              "#0d0887"
             ],
             [
              0.1111111111111111,
              "#46039f"
             ],
             [
              0.2222222222222222,
              "#7201a8"
             ],
             [
              0.3333333333333333,
              "#9c179e"
             ],
             [
              0.4444444444444444,
              "#bd3786"
             ],
             [
              0.5555555555555556,
              "#d8576b"
             ],
             [
              0.6666666666666666,
              "#ed7953"
             ],
             [
              0.7777777777777778,
              "#fb9f3a"
             ],
             [
              0.8888888888888888,
              "#fdca26"
             ],
             [
              1,
              "#f0f921"
             ]
            ],
            "type": "histogram2d"
           }
          ],
          "histogram2dcontour": [
           {
            "colorbar": {
             "outlinewidth": 0,
             "ticks": ""
            },
            "colorscale": [
             [
              0,
              "#0d0887"
             ],
             [
              0.1111111111111111,
              "#46039f"
             ],
             [
              0.2222222222222222,
              "#7201a8"
             ],
             [
              0.3333333333333333,
              "#9c179e"
             ],
             [
              0.4444444444444444,
              "#bd3786"
             ],
             [
              0.5555555555555556,
              "#d8576b"
             ],
             [
              0.6666666666666666,
              "#ed7953"
             ],
             [
              0.7777777777777778,
              "#fb9f3a"
             ],
             [
              0.8888888888888888,
              "#fdca26"
             ],
             [
              1,
              "#f0f921"
             ]
            ],
            "type": "histogram2dcontour"
           }
          ],
          "mesh3d": [
           {
            "colorbar": {
             "outlinewidth": 0,
             "ticks": ""
            },
            "type": "mesh3d"
           }
          ],
          "parcoords": [
           {
            "line": {
             "colorbar": {
              "outlinewidth": 0,
              "ticks": ""
             }
            },
            "type": "parcoords"
           }
          ],
          "pie": [
           {
            "automargin": true,
            "type": "pie"
           }
          ],
          "scatter": [
           {
            "fillpattern": {
             "fillmode": "overlay",
             "size": 10,
             "solidity": 0.2
            },
            "type": "scatter"
           }
          ],
          "scatter3d": [
           {
            "line": {
             "colorbar": {
              "outlinewidth": 0,
              "ticks": ""
             }
            },
            "marker": {
             "colorbar": {
              "outlinewidth": 0,
              "ticks": ""
             }
            },
            "type": "scatter3d"
           }
          ],
          "scattercarpet": [
           {
            "marker": {
             "colorbar": {
              "outlinewidth": 0,
              "ticks": ""
             }
            },
            "type": "scattercarpet"
           }
          ],
          "scattergeo": [
           {
            "marker": {
             "colorbar": {
              "outlinewidth": 0,
              "ticks": ""
             }
            },
            "type": "scattergeo"
           }
          ],
          "scattergl": [
           {
            "marker": {
             "colorbar": {
              "outlinewidth": 0,
              "ticks": ""
             }
            },
            "type": "scattergl"
           }
          ],
          "scattermapbox": [
           {
            "marker": {
             "colorbar": {
              "outlinewidth": 0,
              "ticks": ""
             }
            },
            "type": "scattermapbox"
           }
          ],
          "scatterpolar": [
           {
            "marker": {
             "colorbar": {
              "outlinewidth": 0,
              "ticks": ""
             }
            },
            "type": "scatterpolar"
           }
          ],
          "scatterpolargl": [
           {
            "marker": {
             "colorbar": {
              "outlinewidth": 0,
              "ticks": ""
             }
            },
            "type": "scatterpolargl"
           }
          ],
          "scatterternary": [
           {
            "marker": {
             "colorbar": {
              "outlinewidth": 0,
              "ticks": ""
             }
            },
            "type": "scatterternary"
           }
          ],
          "surface": [
           {
            "colorbar": {
             "outlinewidth": 0,
             "ticks": ""
            },
            "colorscale": [
             [
              0,
              "#0d0887"
             ],
             [
              0.1111111111111111,
              "#46039f"
             ],
             [
              0.2222222222222222,
              "#7201a8"
             ],
             [
              0.3333333333333333,
              "#9c179e"
             ],
             [
              0.4444444444444444,
              "#bd3786"
             ],
             [
              0.5555555555555556,
              "#d8576b"
             ],
             [
              0.6666666666666666,
              "#ed7953"
             ],
             [
              0.7777777777777778,
              "#fb9f3a"
             ],
             [
              0.8888888888888888,
              "#fdca26"
             ],
             [
              1,
              "#f0f921"
             ]
            ],
            "type": "surface"
           }
          ],
          "table": [
           {
            "cells": {
             "fill": {
              "color": "#EBF0F8"
             },
             "line": {
              "color": "white"
             }
            },
            "header": {
             "fill": {
              "color": "#C8D4E3"
             },
             "line": {
              "color": "white"
             }
            },
            "type": "table"
           }
          ]
         },
         "layout": {
          "annotationdefaults": {
           "arrowcolor": "#2a3f5f",
           "arrowhead": 0,
           "arrowwidth": 1
          },
          "autotypenumbers": "strict",
          "coloraxis": {
           "colorbar": {
            "outlinewidth": 0,
            "ticks": ""
           }
          },
          "colorscale": {
           "diverging": [
            [
             0,
             "#8e0152"
            ],
            [
             0.1,
             "#c51b7d"
            ],
            [
             0.2,
             "#de77ae"
            ],
            [
             0.3,
             "#f1b6da"
            ],
            [
             0.4,
             "#fde0ef"
            ],
            [
             0.5,
             "#f7f7f7"
            ],
            [
             0.6,
             "#e6f5d0"
            ],
            [
             0.7,
             "#b8e186"
            ],
            [
             0.8,
             "#7fbc41"
            ],
            [
             0.9,
             "#4d9221"
            ],
            [
             1,
             "#276419"
            ]
           ],
           "sequential": [
            [
             0,
             "#0d0887"
            ],
            [
             0.1111111111111111,
             "#46039f"
            ],
            [
             0.2222222222222222,
             "#7201a8"
            ],
            [
             0.3333333333333333,
             "#9c179e"
            ],
            [
             0.4444444444444444,
             "#bd3786"
            ],
            [
             0.5555555555555556,
             "#d8576b"
            ],
            [
             0.6666666666666666,
             "#ed7953"
            ],
            [
             0.7777777777777778,
             "#fb9f3a"
            ],
            [
             0.8888888888888888,
             "#fdca26"
            ],
            [
             1,
             "#f0f921"
            ]
           ],
           "sequentialminus": [
            [
             0,
             "#0d0887"
            ],
            [
             0.1111111111111111,
             "#46039f"
            ],
            [
             0.2222222222222222,
             "#7201a8"
            ],
            [
             0.3333333333333333,
             "#9c179e"
            ],
            [
             0.4444444444444444,
             "#bd3786"
            ],
            [
             0.5555555555555556,
             "#d8576b"
            ],
            [
             0.6666666666666666,
             "#ed7953"
            ],
            [
             0.7777777777777778,
             "#fb9f3a"
            ],
            [
             0.8888888888888888,
             "#fdca26"
            ],
            [
             1,
             "#f0f921"
            ]
           ]
          },
          "colorway": [
           "#636efa",
           "#EF553B",
           "#00cc96",
           "#ab63fa",
           "#FFA15A",
           "#19d3f3",
           "#FF6692",
           "#B6E880",
           "#FF97FF",
           "#FECB52"
          ],
          "font": {
           "color": "#2a3f5f"
          },
          "geo": {
           "bgcolor": "white",
           "lakecolor": "white",
           "landcolor": "#E5ECF6",
           "showlakes": true,
           "showland": true,
           "subunitcolor": "white"
          },
          "hoverlabel": {
           "align": "left"
          },
          "hovermode": "closest",
          "mapbox": {
           "style": "light"
          },
          "paper_bgcolor": "white",
          "plot_bgcolor": "#E5ECF6",
          "polar": {
           "angularaxis": {
            "gridcolor": "white",
            "linecolor": "white",
            "ticks": ""
           },
           "bgcolor": "#E5ECF6",
           "radialaxis": {
            "gridcolor": "white",
            "linecolor": "white",
            "ticks": ""
           }
          },
          "scene": {
           "xaxis": {
            "backgroundcolor": "#E5ECF6",
            "gridcolor": "white",
            "gridwidth": 2,
            "linecolor": "white",
            "showbackground": true,
            "ticks": "",
            "zerolinecolor": "white"
           },
           "yaxis": {
            "backgroundcolor": "#E5ECF6",
            "gridcolor": "white",
            "gridwidth": 2,
            "linecolor": "white",
            "showbackground": true,
            "ticks": "",
            "zerolinecolor": "white"
           },
           "zaxis": {
            "backgroundcolor": "#E5ECF6",
            "gridcolor": "white",
            "gridwidth": 2,
            "linecolor": "white",
            "showbackground": true,
            "ticks": "",
            "zerolinecolor": "white"
           }
          },
          "shapedefaults": {
           "line": {
            "color": "#2a3f5f"
           }
          },
          "ternary": {
           "aaxis": {
            "gridcolor": "white",
            "linecolor": "white",
            "ticks": ""
           },
           "baxis": {
            "gridcolor": "white",
            "linecolor": "white",
            "ticks": ""
           },
           "bgcolor": "#E5ECF6",
           "caxis": {
            "gridcolor": "white",
            "linecolor": "white",
            "ticks": ""
           }
          },
          "title": {
           "x": 0.05
          },
          "xaxis": {
           "automargin": true,
           "gridcolor": "white",
           "linecolor": "white",
           "ticks": "",
           "title": {
            "standoff": 15
           },
           "zerolinecolor": "white",
           "zerolinewidth": 2
          },
          "yaxis": {
           "automargin": true,
           "gridcolor": "white",
           "linecolor": "white",
           "ticks": "",
           "title": {
            "standoff": 15
           },
           "zerolinecolor": "white",
           "zerolinewidth": 2
          }
         }
        },
        "title": {
         "text": "Proximity Counts of Hurricanes in Asian Countries (2022)"
        }
       }
      },
      "text/html": [
       "<div>                            <div id=\"14929816-d7b8-4d37-917a-923e9439e296\" class=\"plotly-graph-div\" style=\"height:525px; width:100%;\"></div>            <script type=\"text/javascript\">                require([\"plotly\"], function(Plotly) {                    window.PLOTLYENV=window.PLOTLYENV || {};                                    if (document.getElementById(\"14929816-d7b8-4d37-917a-923e9439e296\")) {                    Plotly.newPlot(                        \"14929816-d7b8-4d37-917a-923e9439e296\",                        [{\"colorscale\":[[0.0,\"rgb(255,255,204)\"],[0.125,\"rgb(255,237,160)\"],[0.25,\"rgb(254,217,118)\"],[0.375,\"rgb(254,178,76)\"],[0.5,\"rgb(253,141,60)\"],[0.625,\"rgb(252,78,42)\"],[0.75,\"rgb(227,26,28)\"],[0.875,\"rgb(189,0,38)\"],[1.0,\"rgb(128,0,38)\"]],\"locationmode\":\"country names\",\"locations\":[\"Vietnam\",\"Philippines\",\"China\",\"Japan\",\"South Korea\",\"Laos\",\"Palau\"],\"marker\":{\"line\":{\"color\":\"darkgray\",\"width\":0.5}},\"z\":[37,378,193,162,12,4,6],\"type\":\"choropleth\"}],                        {\"template\":{\"data\":{\"histogram2dcontour\":[{\"type\":\"histogram2dcontour\",\"colorbar\":{\"outlinewidth\":0,\"ticks\":\"\"},\"colorscale\":[[0.0,\"#0d0887\"],[0.1111111111111111,\"#46039f\"],[0.2222222222222222,\"#7201a8\"],[0.3333333333333333,\"#9c179e\"],[0.4444444444444444,\"#bd3786\"],[0.5555555555555556,\"#d8576b\"],[0.6666666666666666,\"#ed7953\"],[0.7777777777777778,\"#fb9f3a\"],[0.8888888888888888,\"#fdca26\"],[1.0,\"#f0f921\"]]}],\"choropleth\":[{\"type\":\"choropleth\",\"colorbar\":{\"outlinewidth\":0,\"ticks\":\"\"}}],\"histogram2d\":[{\"type\":\"histogram2d\",\"colorbar\":{\"outlinewidth\":0,\"ticks\":\"\"},\"colorscale\":[[0.0,\"#0d0887\"],[0.1111111111111111,\"#46039f\"],[0.2222222222222222,\"#7201a8\"],[0.3333333333333333,\"#9c179e\"],[0.4444444444444444,\"#bd3786\"],[0.5555555555555556,\"#d8576b\"],[0.6666666666666666,\"#ed7953\"],[0.7777777777777778,\"#fb9f3a\"],[0.8888888888888888,\"#fdca26\"],[1.0,\"#f0f921\"]]}],\"heatmap\":[{\"type\":\"heatmap\",\"colorbar\":{\"outlinewidth\":0,\"ticks\":\"\"},\"colorscale\":[[0.0,\"#0d0887\"],[0.1111111111111111,\"#46039f\"],[0.2222222222222222,\"#7201a8\"],[0.3333333333333333,\"#9c179e\"],[0.4444444444444444,\"#bd3786\"],[0.5555555555555556,\"#d8576b\"],[0.6666666666666666,\"#ed7953\"],[0.7777777777777778,\"#fb9f3a\"],[0.8888888888888888,\"#fdca26\"],[1.0,\"#f0f921\"]]}],\"heatmapgl\":[{\"type\":\"heatmapgl\",\"colorbar\":{\"outlinewidth\":0,\"ticks\":\"\"},\"colorscale\":[[0.0,\"#0d0887\"],[0.1111111111111111,\"#46039f\"],[0.2222222222222222,\"#7201a8\"],[0.3333333333333333,\"#9c179e\"],[0.4444444444444444,\"#bd3786\"],[0.5555555555555556,\"#d8576b\"],[0.6666666666666666,\"#ed7953\"],[0.7777777777777778,\"#fb9f3a\"],[0.8888888888888888,\"#fdca26\"],[1.0,\"#f0f921\"]]}],\"contourcarpet\":[{\"type\":\"contourcarpet\",\"colorbar\":{\"outlinewidth\":0,\"ticks\":\"\"}}],\"contour\":[{\"type\":\"contour\",\"colorbar\":{\"outlinewidth\":0,\"ticks\":\"\"},\"colorscale\":[[0.0,\"#0d0887\"],[0.1111111111111111,\"#46039f\"],[0.2222222222222222,\"#7201a8\"],[0.3333333333333333,\"#9c179e\"],[0.4444444444444444,\"#bd3786\"],[0.5555555555555556,\"#d8576b\"],[0.6666666666666666,\"#ed7953\"],[0.7777777777777778,\"#fb9f3a\"],[0.8888888888888888,\"#fdca26\"],[1.0,\"#f0f921\"]]}],\"surface\":[{\"type\":\"surface\",\"colorbar\":{\"outlinewidth\":0,\"ticks\":\"\"},\"colorscale\":[[0.0,\"#0d0887\"],[0.1111111111111111,\"#46039f\"],[0.2222222222222222,\"#7201a8\"],[0.3333333333333333,\"#9c179e\"],[0.4444444444444444,\"#bd3786\"],[0.5555555555555556,\"#d8576b\"],[0.6666666666666666,\"#ed7953\"],[0.7777777777777778,\"#fb9f3a\"],[0.8888888888888888,\"#fdca26\"],[1.0,\"#f0f921\"]]}],\"mesh3d\":[{\"type\":\"mesh3d\",\"colorbar\":{\"outlinewidth\":0,\"ticks\":\"\"}}],\"scatter\":[{\"fillpattern\":{\"fillmode\":\"overlay\",\"size\":10,\"solidity\":0.2},\"type\":\"scatter\"}],\"parcoords\":[{\"type\":\"parcoords\",\"line\":{\"colorbar\":{\"outlinewidth\":0,\"ticks\":\"\"}}}],\"scatterpolargl\":[{\"type\":\"scatterpolargl\",\"marker\":{\"colorbar\":{\"outlinewidth\":0,\"ticks\":\"\"}}}],\"bar\":[{\"error_x\":{\"color\":\"#2a3f5f\"},\"error_y\":{\"color\":\"#2a3f5f\"},\"marker\":{\"line\":{\"color\":\"#E5ECF6\",\"width\":0.5},\"pattern\":{\"fillmode\":\"overlay\",\"size\":10,\"solidity\":0.2}},\"type\":\"bar\"}],\"scattergeo\":[{\"type\":\"scattergeo\",\"marker\":{\"colorbar\":{\"outlinewidth\":0,\"ticks\":\"\"}}}],\"scatterpolar\":[{\"type\":\"scatterpolar\",\"marker\":{\"colorbar\":{\"outlinewidth\":0,\"ticks\":\"\"}}}],\"histogram\":[{\"marker\":{\"pattern\":{\"fillmode\":\"overlay\",\"size\":10,\"solidity\":0.2}},\"type\":\"histogram\"}],\"scattergl\":[{\"type\":\"scattergl\",\"marker\":{\"colorbar\":{\"outlinewidth\":0,\"ticks\":\"\"}}}],\"scatter3d\":[{\"type\":\"scatter3d\",\"line\":{\"colorbar\":{\"outlinewidth\":0,\"ticks\":\"\"}},\"marker\":{\"colorbar\":{\"outlinewidth\":0,\"ticks\":\"\"}}}],\"scattermapbox\":[{\"type\":\"scattermapbox\",\"marker\":{\"colorbar\":{\"outlinewidth\":0,\"ticks\":\"\"}}}],\"scatterternary\":[{\"type\":\"scatterternary\",\"marker\":{\"colorbar\":{\"outlinewidth\":0,\"ticks\":\"\"}}}],\"scattercarpet\":[{\"type\":\"scattercarpet\",\"marker\":{\"colorbar\":{\"outlinewidth\":0,\"ticks\":\"\"}}}],\"carpet\":[{\"aaxis\":{\"endlinecolor\":\"#2a3f5f\",\"gridcolor\":\"white\",\"linecolor\":\"white\",\"minorgridcolor\":\"white\",\"startlinecolor\":\"#2a3f5f\"},\"baxis\":{\"endlinecolor\":\"#2a3f5f\",\"gridcolor\":\"white\",\"linecolor\":\"white\",\"minorgridcolor\":\"white\",\"startlinecolor\":\"#2a3f5f\"},\"type\":\"carpet\"}],\"table\":[{\"cells\":{\"fill\":{\"color\":\"#EBF0F8\"},\"line\":{\"color\":\"white\"}},\"header\":{\"fill\":{\"color\":\"#C8D4E3\"},\"line\":{\"color\":\"white\"}},\"type\":\"table\"}],\"barpolar\":[{\"marker\":{\"line\":{\"color\":\"#E5ECF6\",\"width\":0.5},\"pattern\":{\"fillmode\":\"overlay\",\"size\":10,\"solidity\":0.2}},\"type\":\"barpolar\"}],\"pie\":[{\"automargin\":true,\"type\":\"pie\"}]},\"layout\":{\"autotypenumbers\":\"strict\",\"colorway\":[\"#636efa\",\"#EF553B\",\"#00cc96\",\"#ab63fa\",\"#FFA15A\",\"#19d3f3\",\"#FF6692\",\"#B6E880\",\"#FF97FF\",\"#FECB52\"],\"font\":{\"color\":\"#2a3f5f\"},\"hovermode\":\"closest\",\"hoverlabel\":{\"align\":\"left\"},\"paper_bgcolor\":\"white\",\"plot_bgcolor\":\"#E5ECF6\",\"polar\":{\"bgcolor\":\"#E5ECF6\",\"angularaxis\":{\"gridcolor\":\"white\",\"linecolor\":\"white\",\"ticks\":\"\"},\"radialaxis\":{\"gridcolor\":\"white\",\"linecolor\":\"white\",\"ticks\":\"\"}},\"ternary\":{\"bgcolor\":\"#E5ECF6\",\"aaxis\":{\"gridcolor\":\"white\",\"linecolor\":\"white\",\"ticks\":\"\"},\"baxis\":{\"gridcolor\":\"white\",\"linecolor\":\"white\",\"ticks\":\"\"},\"caxis\":{\"gridcolor\":\"white\",\"linecolor\":\"white\",\"ticks\":\"\"}},\"coloraxis\":{\"colorbar\":{\"outlinewidth\":0,\"ticks\":\"\"}},\"colorscale\":{\"sequential\":[[0.0,\"#0d0887\"],[0.1111111111111111,\"#46039f\"],[0.2222222222222222,\"#7201a8\"],[0.3333333333333333,\"#9c179e\"],[0.4444444444444444,\"#bd3786\"],[0.5555555555555556,\"#d8576b\"],[0.6666666666666666,\"#ed7953\"],[0.7777777777777778,\"#fb9f3a\"],[0.8888888888888888,\"#fdca26\"],[1.0,\"#f0f921\"]],\"sequentialminus\":[[0.0,\"#0d0887\"],[0.1111111111111111,\"#46039f\"],[0.2222222222222222,\"#7201a8\"],[0.3333333333333333,\"#9c179e\"],[0.4444444444444444,\"#bd3786\"],[0.5555555555555556,\"#d8576b\"],[0.6666666666666666,\"#ed7953\"],[0.7777777777777778,\"#fb9f3a\"],[0.8888888888888888,\"#fdca26\"],[1.0,\"#f0f921\"]],\"diverging\":[[0,\"#8e0152\"],[0.1,\"#c51b7d\"],[0.2,\"#de77ae\"],[0.3,\"#f1b6da\"],[0.4,\"#fde0ef\"],[0.5,\"#f7f7f7\"],[0.6,\"#e6f5d0\"],[0.7,\"#b8e186\"],[0.8,\"#7fbc41\"],[0.9,\"#4d9221\"],[1,\"#276419\"]]},\"xaxis\":{\"gridcolor\":\"white\",\"linecolor\":\"white\",\"ticks\":\"\",\"title\":{\"standoff\":15},\"zerolinecolor\":\"white\",\"automargin\":true,\"zerolinewidth\":2},\"yaxis\":{\"gridcolor\":\"white\",\"linecolor\":\"white\",\"ticks\":\"\",\"title\":{\"standoff\":15},\"zerolinecolor\":\"white\",\"automargin\":true,\"zerolinewidth\":2},\"scene\":{\"xaxis\":{\"backgroundcolor\":\"#E5ECF6\",\"gridcolor\":\"white\",\"linecolor\":\"white\",\"showbackground\":true,\"ticks\":\"\",\"zerolinecolor\":\"white\",\"gridwidth\":2},\"yaxis\":{\"backgroundcolor\":\"#E5ECF6\",\"gridcolor\":\"white\",\"linecolor\":\"white\",\"showbackground\":true,\"ticks\":\"\",\"zerolinecolor\":\"white\",\"gridwidth\":2},\"zaxis\":{\"backgroundcolor\":\"#E5ECF6\",\"gridcolor\":\"white\",\"linecolor\":\"white\",\"showbackground\":true,\"ticks\":\"\",\"zerolinecolor\":\"white\",\"gridwidth\":2}},\"shapedefaults\":{\"line\":{\"color\":\"#2a3f5f\"}},\"annotationdefaults\":{\"arrowcolor\":\"#2a3f5f\",\"arrowhead\":0,\"arrowwidth\":1},\"geo\":{\"bgcolor\":\"white\",\"landcolor\":\"#E5ECF6\",\"subunitcolor\":\"white\",\"showland\":true,\"showlakes\":true,\"lakecolor\":\"white\"},\"title\":{\"x\":0.05},\"mapbox\":{\"style\":\"light\"}}},\"title\":{\"text\":\"Proximity Counts of Hurricanes in Asian Countries (2022)\"},\"geo\":{\"projection\":{\"type\":\"robinson\"},\"lataxis\":{\"range\":[-90,90],\"showgrid\":true,\"dtick\":10},\"lonaxis\":{\"range\":[-180,180],\"showgrid\":true,\"dtick\":20},\"showframe\":false,\"showcoastlines\":true,\"fitbounds\":\"locations\"},\"coloraxis\":{\"colorbar\":{\"title\":{\"text\":\"Count\"}}}},                        {\"responsive\": true}                    ).then(function(){\n",
       "                            \n",
       "var gd = document.getElementById('14929816-d7b8-4d37-917a-923e9439e296');\n",
       "var x = new MutationObserver(function (mutations, observer) {{\n",
       "        var display = window.getComputedStyle(gd).display;\n",
       "        if (!display || display === 'none') {{\n",
       "            console.log([gd, 'removed!']);\n",
       "            Plotly.purge(gd);\n",
       "            observer.disconnect();\n",
       "        }}\n",
       "}});\n",
       "\n",
       "// Listen for the removal of the full notebook cells\n",
       "var notebookContainer = gd.closest('#notebook-container');\n",
       "if (notebookContainer) {{\n",
       "    x.observe(notebookContainer, {childList: true});\n",
       "}}\n",
       "\n",
       "// Listen for the clearing of the current output cell\n",
       "var outputEl = gd.closest('.output');\n",
       "if (outputEl) {{\n",
       "    x.observe(outputEl, {childList: true});\n",
       "}}\n",
       "\n",
       "                        })                };                });            </script>        </div>"
      ]
     },
     "metadata": {},
     "output_type": "display_data"
    }
   ],
   "source": [
    "# Create a choropleth map using Plotly\n",
    "\n",
    "fig = go.Figure(data=go.Choropleth(\n",
    "    locations=list(proximity_counts.keys()),\n",
    "    z=list(proximity_counts.values()),\n",
    "    locationmode='country names',\n",
    "    colorscale='YlOrRd',\n",
    "    marker_line_color='darkgray',\n",
    "    marker_line_width=0.5,\n",
    "))\n",
    "\n",
    "# Set map title and colorbar title\n",
    "fig.update_layout(\n",
    "    title_text='Proximity Counts of Hurricanes in Asian Countries (2022)',\n",
    "    geo=dict(\n",
    "        showframe=False,\n",
    "        showcoastlines=True,\n",
    "        projection_type='robinson',\n",
    "        fitbounds=\"locations\",  # Zoom the map around the data\n",
    "         lataxis=dict(\n",
    "            range=[-90, 90],\n",
    "            showgrid=True,\n",
    "            dtick=10\n",
    "        ),\n",
    "        lonaxis=dict(\n",
    "            range=[-180, 180],\n",
    "            showgrid=True,\n",
    "            dtick=20\n",
    "        ),\n",
    "    ),\n",
    "    coloraxis_colorbar=dict(title='Count')\n",
    ")\n",
    "\n",
    "# Show the interactive map\n",
    "fig.show()\n"
   ]
  },
  {
   "cell_type": "code",
   "execution_count": 53,
   "id": "a6910e24",
   "metadata": {},
   "outputs": [
    {
     "name": "stdout",
     "output_type": "stream",
     "text": [
      "Top 10 countries with the highest proximity counts to hurricanes:\n",
      "China: 1563\n",
      "Philippines: 810\n",
      "Vietnam: 368\n",
      "Taiwan: 191\n",
      "Federated States of Micronesia: 164\n",
      "Japan: 151\n",
      "Cambodia: 130\n",
      "Laos: 77\n",
      "Thailand: 71\n",
      "South Korea: 49\n"
     ]
    }
   ],
   "source": [
    "#Finding the top countries affected by hurricanes\n",
    "\n",
    "#Getting latitude and longitude as lists\n",
    "lat = hurricanes_1952[\"Latitude\"]\n",
    "list_lat = lat.tolist()\n",
    "long = hurricanes_1952[\"Longitude\"]\n",
    "list_long = long.tolist()\n",
    "lat_longs = zip(list_lat, list_long)\n",
    "\n",
    "# Initialize geocoder\n",
    "geolocator = Nominatim(user_agent=\"my-app\")\n",
    "\n",
    "# Create a dictionary to store the proximity counts for each country\n",
    "proximity_counts = {}\n",
    "\n",
    "# Define the radius in kilometers\n",
    "radius_km = 111.12\n",
    "\n",
    "# Set to store processed hurricanes\n",
    "processed_hurricanes = set()\n",
    "\n",
    "# Loop through each latitude and longitude pair\n",
    "for lat, lon in zip(list_lat, list_long):\n",
    "    location = geolocator.reverse(f\"{lat},{lon}\", exactly_one=True, language='en')\n",
    "    if location:\n",
    "        country = location.raw['address'].get('country', '')\n",
    "        if country:\n",
    "            # Check if the current hurricane has been processed before\n",
    "            hurricane = (lat, lon)\n",
    "            if hurricane not in processed_hurricanes:\n",
    "                processed_hurricanes.add(hurricane)\n",
    "                \n",
    "                # Calculate the distance between the hurricane and the country's location\n",
    "                for country_lat, country_lon in zip(list_lat, list_long):\n",
    "                    distance = geopy.distance.distance(hurricane, (country_lat, country_lon)).km\n",
    "\n",
    "                    # If the distance is within the radius, increment the proximity count for the country\n",
    "                    if distance <= radius_km:\n",
    "                        if country in proximity_counts:\n",
    "                            proximity_counts[country] += 1\n",
    "                        else:\n",
    "                            proximity_counts[country] = 1\n",
    "\n",
    "# Sort the countries based on their proximity counts in descending order\n",
    "top_countries = sorted(proximity_counts, key=proximity_counts.get, reverse=True)[:10]\n",
    "\n",
    "# Print the top 10 countries and their proximity counts\n",
    "print(\"Top 10 countries with the highest proximity counts to hurricanes:\")\n",
    "for country in top_countries:\n",
    "    print(f\"{country}: {proximity_counts[country]}\")\n"
   ]
  },
  {
   "cell_type": "code",
   "execution_count": 114,
   "id": "7bb17679",
   "metadata": {},
   "outputs": [
    {
     "data": {
      "application/vnd.plotly.v1+json": {
       "config": {
        "plotlyServerURL": "https://plot.ly"
       },
       "data": [
        {
         "colorscale": [
          [
           0,
           "rgb(255,255,204)"
          ],
          [
           0.125,
           "rgb(255,237,160)"
          ],
          [
           0.25,
           "rgb(254,217,118)"
          ],
          [
           0.375,
           "rgb(254,178,76)"
          ],
          [
           0.5,
           "rgb(253,141,60)"
          ],
          [
           0.625,
           "rgb(252,78,42)"
          ],
          [
           0.75,
           "rgb(227,26,28)"
          ],
          [
           0.875,
           "rgb(189,0,38)"
          ],
          [
           1,
           "rgb(128,0,38)"
          ]
         ],
         "locationmode": "country names",
         "locations": [
          "Palau",
          "China",
          "Japan",
          "Philippines",
          "Federated States of Micronesia",
          "Vietnam",
          "South Korea",
          "Laos",
          "Myanmar",
          "Taiwan",
          "Thailand",
          "Cambodia"
         ],
         "marker": {
          "line": {
           "color": "darkgray",
           "width": 0.5
          }
         },
         "type": "choropleth",
         "z": [
          26,
          1563,
          151,
          810,
          164,
          368,
          49,
          77,
          33,
          191,
          71,
          130
         ]
        }
       ],
       "layout": {
        "coloraxis": {
         "colorbar": {
          "title": {
           "text": "Count"
          }
         }
        },
        "geo": {
         "fitbounds": "locations",
         "lataxis": {
          "dtick": 10,
          "range": [
           -90,
           90
          ],
          "showgrid": true
         },
         "lonaxis": {
          "dtick": 20,
          "range": [
           -180,
           180
          ],
          "showgrid": true
         },
         "projection": {
          "type": "robinson"
         },
         "showcoastlines": true,
         "showframe": false
        },
        "template": {
         "data": {
          "bar": [
           {
            "error_x": {
             "color": "#2a3f5f"
            },
            "error_y": {
             "color": "#2a3f5f"
            },
            "marker": {
             "line": {
              "color": "#E5ECF6",
              "width": 0.5
             },
             "pattern": {
              "fillmode": "overlay",
              "size": 10,
              "solidity": 0.2
             }
            },
            "type": "bar"
           }
          ],
          "barpolar": [
           {
            "marker": {
             "line": {
              "color": "#E5ECF6",
              "width": 0.5
             },
             "pattern": {
              "fillmode": "overlay",
              "size": 10,
              "solidity": 0.2
             }
            },
            "type": "barpolar"
           }
          ],
          "carpet": [
           {
            "aaxis": {
             "endlinecolor": "#2a3f5f",
             "gridcolor": "white",
             "linecolor": "white",
             "minorgridcolor": "white",
             "startlinecolor": "#2a3f5f"
            },
            "baxis": {
             "endlinecolor": "#2a3f5f",
             "gridcolor": "white",
             "linecolor": "white",
             "minorgridcolor": "white",
             "startlinecolor": "#2a3f5f"
            },
            "type": "carpet"
           }
          ],
          "choropleth": [
           {
            "colorbar": {
             "outlinewidth": 0,
             "ticks": ""
            },
            "type": "choropleth"
           }
          ],
          "contour": [
           {
            "colorbar": {
             "outlinewidth": 0,
             "ticks": ""
            },
            "colorscale": [
             [
              0,
              "#0d0887"
             ],
             [
              0.1111111111111111,
              "#46039f"
             ],
             [
              0.2222222222222222,
              "#7201a8"
             ],
             [
              0.3333333333333333,
              "#9c179e"
             ],
             [
              0.4444444444444444,
              "#bd3786"
             ],
             [
              0.5555555555555556,
              "#d8576b"
             ],
             [
              0.6666666666666666,
              "#ed7953"
             ],
             [
              0.7777777777777778,
              "#fb9f3a"
             ],
             [
              0.8888888888888888,
              "#fdca26"
             ],
             [
              1,
              "#f0f921"
             ]
            ],
            "type": "contour"
           }
          ],
          "contourcarpet": [
           {
            "colorbar": {
             "outlinewidth": 0,
             "ticks": ""
            },
            "type": "contourcarpet"
           }
          ],
          "heatmap": [
           {
            "colorbar": {
             "outlinewidth": 0,
             "ticks": ""
            },
            "colorscale": [
             [
              0,
              "#0d0887"
             ],
             [
              0.1111111111111111,
              "#46039f"
             ],
             [
              0.2222222222222222,
              "#7201a8"
             ],
             [
              0.3333333333333333,
              "#9c179e"
             ],
             [
              0.4444444444444444,
              "#bd3786"
             ],
             [
              0.5555555555555556,
              "#d8576b"
             ],
             [
              0.6666666666666666,
              "#ed7953"
             ],
             [
              0.7777777777777778,
              "#fb9f3a"
             ],
             [
              0.8888888888888888,
              "#fdca26"
             ],
             [
              1,
              "#f0f921"
             ]
            ],
            "type": "heatmap"
           }
          ],
          "heatmapgl": [
           {
            "colorbar": {
             "outlinewidth": 0,
             "ticks": ""
            },
            "colorscale": [
             [
              0,
              "#0d0887"
             ],
             [
              0.1111111111111111,
              "#46039f"
             ],
             [
              0.2222222222222222,
              "#7201a8"
             ],
             [
              0.3333333333333333,
              "#9c179e"
             ],
             [
              0.4444444444444444,
              "#bd3786"
             ],
             [
              0.5555555555555556,
              "#d8576b"
             ],
             [
              0.6666666666666666,
              "#ed7953"
             ],
             [
              0.7777777777777778,
              "#fb9f3a"
             ],
             [
              0.8888888888888888,
              "#fdca26"
             ],
             [
              1,
              "#f0f921"
             ]
            ],
            "type": "heatmapgl"
           }
          ],
          "histogram": [
           {
            "marker": {
             "pattern": {
              "fillmode": "overlay",
              "size": 10,
              "solidity": 0.2
             }
            },
            "type": "histogram"
           }
          ],
          "histogram2d": [
           {
            "colorbar": {
             "outlinewidth": 0,
             "ticks": ""
            },
            "colorscale": [
             [
              0,
              "#0d0887"
             ],
             [
              0.1111111111111111,
              "#46039f"
             ],
             [
              0.2222222222222222,
              "#7201a8"
             ],
             [
              0.3333333333333333,
              "#9c179e"
             ],
             [
              0.4444444444444444,
              "#bd3786"
             ],
             [
              0.5555555555555556,
              "#d8576b"
             ],
             [
              0.6666666666666666,
              "#ed7953"
             ],
             [
              0.7777777777777778,
              "#fb9f3a"
             ],
             [
              0.8888888888888888,
              "#fdca26"
             ],
             [
              1,
              "#f0f921"
             ]
            ],
            "type": "histogram2d"
           }
          ],
          "histogram2dcontour": [
           {
            "colorbar": {
             "outlinewidth": 0,
             "ticks": ""
            },
            "colorscale": [
             [
              0,
              "#0d0887"
             ],
             [
              0.1111111111111111,
              "#46039f"
             ],
             [
              0.2222222222222222,
              "#7201a8"
             ],
             [
              0.3333333333333333,
              "#9c179e"
             ],
             [
              0.4444444444444444,
              "#bd3786"
             ],
             [
              0.5555555555555556,
              "#d8576b"
             ],
             [
              0.6666666666666666,
              "#ed7953"
             ],
             [
              0.7777777777777778,
              "#fb9f3a"
             ],
             [
              0.8888888888888888,
              "#fdca26"
             ],
             [
              1,
              "#f0f921"
             ]
            ],
            "type": "histogram2dcontour"
           }
          ],
          "mesh3d": [
           {
            "colorbar": {
             "outlinewidth": 0,
             "ticks": ""
            },
            "type": "mesh3d"
           }
          ],
          "parcoords": [
           {
            "line": {
             "colorbar": {
              "outlinewidth": 0,
              "ticks": ""
             }
            },
            "type": "parcoords"
           }
          ],
          "pie": [
           {
            "automargin": true,
            "type": "pie"
           }
          ],
          "scatter": [
           {
            "fillpattern": {
             "fillmode": "overlay",
             "size": 10,
             "solidity": 0.2
            },
            "type": "scatter"
           }
          ],
          "scatter3d": [
           {
            "line": {
             "colorbar": {
              "outlinewidth": 0,
              "ticks": ""
             }
            },
            "marker": {
             "colorbar": {
              "outlinewidth": 0,
              "ticks": ""
             }
            },
            "type": "scatter3d"
           }
          ],
          "scattercarpet": [
           {
            "marker": {
             "colorbar": {
              "outlinewidth": 0,
              "ticks": ""
             }
            },
            "type": "scattercarpet"
           }
          ],
          "scattergeo": [
           {
            "marker": {
             "colorbar": {
              "outlinewidth": 0,
              "ticks": ""
             }
            },
            "type": "scattergeo"
           }
          ],
          "scattergl": [
           {
            "marker": {
             "colorbar": {
              "outlinewidth": 0,
              "ticks": ""
             }
            },
            "type": "scattergl"
           }
          ],
          "scattermapbox": [
           {
            "marker": {
             "colorbar": {
              "outlinewidth": 0,
              "ticks": ""
             }
            },
            "type": "scattermapbox"
           }
          ],
          "scatterpolar": [
           {
            "marker": {
             "colorbar": {
              "outlinewidth": 0,
              "ticks": ""
             }
            },
            "type": "scatterpolar"
           }
          ],
          "scatterpolargl": [
           {
            "marker": {
             "colorbar": {
              "outlinewidth": 0,
              "ticks": ""
             }
            },
            "type": "scatterpolargl"
           }
          ],
          "scatterternary": [
           {
            "marker": {
             "colorbar": {
              "outlinewidth": 0,
              "ticks": ""
             }
            },
            "type": "scatterternary"
           }
          ],
          "surface": [
           {
            "colorbar": {
             "outlinewidth": 0,
             "ticks": ""
            },
            "colorscale": [
             [
              0,
              "#0d0887"
             ],
             [
              0.1111111111111111,
              "#46039f"
             ],
             [
              0.2222222222222222,
              "#7201a8"
             ],
             [
              0.3333333333333333,
              "#9c179e"
             ],
             [
              0.4444444444444444,
              "#bd3786"
             ],
             [
              0.5555555555555556,
              "#d8576b"
             ],
             [
              0.6666666666666666,
              "#ed7953"
             ],
             [
              0.7777777777777778,
              "#fb9f3a"
             ],
             [
              0.8888888888888888,
              "#fdca26"
             ],
             [
              1,
              "#f0f921"
             ]
            ],
            "type": "surface"
           }
          ],
          "table": [
           {
            "cells": {
             "fill": {
              "color": "#EBF0F8"
             },
             "line": {
              "color": "white"
             }
            },
            "header": {
             "fill": {
              "color": "#C8D4E3"
             },
             "line": {
              "color": "white"
             }
            },
            "type": "table"
           }
          ]
         },
         "layout": {
          "annotationdefaults": {
           "arrowcolor": "#2a3f5f",
           "arrowhead": 0,
           "arrowwidth": 1
          },
          "autotypenumbers": "strict",
          "coloraxis": {
           "colorbar": {
            "outlinewidth": 0,
            "ticks": ""
           }
          },
          "colorscale": {
           "diverging": [
            [
             0,
             "#8e0152"
            ],
            [
             0.1,
             "#c51b7d"
            ],
            [
             0.2,
             "#de77ae"
            ],
            [
             0.3,
             "#f1b6da"
            ],
            [
             0.4,
             "#fde0ef"
            ],
            [
             0.5,
             "#f7f7f7"
            ],
            [
             0.6,
             "#e6f5d0"
            ],
            [
             0.7,
             "#b8e186"
            ],
            [
             0.8,
             "#7fbc41"
            ],
            [
             0.9,
             "#4d9221"
            ],
            [
             1,
             "#276419"
            ]
           ],
           "sequential": [
            [
             0,
             "#0d0887"
            ],
            [
             0.1111111111111111,
             "#46039f"
            ],
            [
             0.2222222222222222,
             "#7201a8"
            ],
            [
             0.3333333333333333,
             "#9c179e"
            ],
            [
             0.4444444444444444,
             "#bd3786"
            ],
            [
             0.5555555555555556,
             "#d8576b"
            ],
            [
             0.6666666666666666,
             "#ed7953"
            ],
            [
             0.7777777777777778,
             "#fb9f3a"
            ],
            [
             0.8888888888888888,
             "#fdca26"
            ],
            [
             1,
             "#f0f921"
            ]
           ],
           "sequentialminus": [
            [
             0,
             "#0d0887"
            ],
            [
             0.1111111111111111,
             "#46039f"
            ],
            [
             0.2222222222222222,
             "#7201a8"
            ],
            [
             0.3333333333333333,
             "#9c179e"
            ],
            [
             0.4444444444444444,
             "#bd3786"
            ],
            [
             0.5555555555555556,
             "#d8576b"
            ],
            [
             0.6666666666666666,
             "#ed7953"
            ],
            [
             0.7777777777777778,
             "#fb9f3a"
            ],
            [
             0.8888888888888888,
             "#fdca26"
            ],
            [
             1,
             "#f0f921"
            ]
           ]
          },
          "colorway": [
           "#636efa",
           "#EF553B",
           "#00cc96",
           "#ab63fa",
           "#FFA15A",
           "#19d3f3",
           "#FF6692",
           "#B6E880",
           "#FF97FF",
           "#FECB52"
          ],
          "font": {
           "color": "#2a3f5f"
          },
          "geo": {
           "bgcolor": "white",
           "lakecolor": "white",
           "landcolor": "#E5ECF6",
           "showlakes": true,
           "showland": true,
           "subunitcolor": "white"
          },
          "hoverlabel": {
           "align": "left"
          },
          "hovermode": "closest",
          "mapbox": {
           "style": "light"
          },
          "paper_bgcolor": "white",
          "plot_bgcolor": "#E5ECF6",
          "polar": {
           "angularaxis": {
            "gridcolor": "white",
            "linecolor": "white",
            "ticks": ""
           },
           "bgcolor": "#E5ECF6",
           "radialaxis": {
            "gridcolor": "white",
            "linecolor": "white",
            "ticks": ""
           }
          },
          "scene": {
           "xaxis": {
            "backgroundcolor": "#E5ECF6",
            "gridcolor": "white",
            "gridwidth": 2,
            "linecolor": "white",
            "showbackground": true,
            "ticks": "",
            "zerolinecolor": "white"
           },
           "yaxis": {
            "backgroundcolor": "#E5ECF6",
            "gridcolor": "white",
            "gridwidth": 2,
            "linecolor": "white",
            "showbackground": true,
            "ticks": "",
            "zerolinecolor": "white"
           },
           "zaxis": {
            "backgroundcolor": "#E5ECF6",
            "gridcolor": "white",
            "gridwidth": 2,
            "linecolor": "white",
            "showbackground": true,
            "ticks": "",
            "zerolinecolor": "white"
           }
          },
          "shapedefaults": {
           "line": {
            "color": "#2a3f5f"
           }
          },
          "ternary": {
           "aaxis": {
            "gridcolor": "white",
            "linecolor": "white",
            "ticks": ""
           },
           "baxis": {
            "gridcolor": "white",
            "linecolor": "white",
            "ticks": ""
           },
           "bgcolor": "#E5ECF6",
           "caxis": {
            "gridcolor": "white",
            "linecolor": "white",
            "ticks": ""
           }
          },
          "title": {
           "x": 0.05
          },
          "xaxis": {
           "automargin": true,
           "gridcolor": "white",
           "linecolor": "white",
           "ticks": "",
           "title": {
            "standoff": 15
           },
           "zerolinecolor": "white",
           "zerolinewidth": 2
          },
          "yaxis": {
           "automargin": true,
           "gridcolor": "white",
           "linecolor": "white",
           "ticks": "",
           "title": {
            "standoff": 15
           },
           "zerolinecolor": "white",
           "zerolinewidth": 2
          }
         }
        },
        "title": {
         "text": "Proximity Counts of Hurricanes in Pan Pacific Countries (1952)"
        }
       }
      },
      "text/html": [
       "<div>                            <div id=\"5ffacc7e-6884-4971-9d00-e5fac19cad32\" class=\"plotly-graph-div\" style=\"height:525px; width:100%;\"></div>            <script type=\"text/javascript\">                require([\"plotly\"], function(Plotly) {                    window.PLOTLYENV=window.PLOTLYENV || {};                                    if (document.getElementById(\"5ffacc7e-6884-4971-9d00-e5fac19cad32\")) {                    Plotly.newPlot(                        \"5ffacc7e-6884-4971-9d00-e5fac19cad32\",                        [{\"colorscale\":[[0.0,\"rgb(255,255,204)\"],[0.125,\"rgb(255,237,160)\"],[0.25,\"rgb(254,217,118)\"],[0.375,\"rgb(254,178,76)\"],[0.5,\"rgb(253,141,60)\"],[0.625,\"rgb(252,78,42)\"],[0.75,\"rgb(227,26,28)\"],[0.875,\"rgb(189,0,38)\"],[1.0,\"rgb(128,0,38)\"]],\"locationmode\":\"country names\",\"locations\":[\"Palau\",\"China\",\"Japan\",\"Philippines\",\"Federated States of Micronesia\",\"Vietnam\",\"South Korea\",\"Laos\",\"Myanmar\",\"Taiwan\",\"Thailand\",\"Cambodia\"],\"marker\":{\"line\":{\"color\":\"darkgray\",\"width\":0.5}},\"z\":[26,1563,151,810,164,368,49,77,33,191,71,130],\"type\":\"choropleth\"}],                        {\"template\":{\"data\":{\"histogram2dcontour\":[{\"type\":\"histogram2dcontour\",\"colorbar\":{\"outlinewidth\":0,\"ticks\":\"\"},\"colorscale\":[[0.0,\"#0d0887\"],[0.1111111111111111,\"#46039f\"],[0.2222222222222222,\"#7201a8\"],[0.3333333333333333,\"#9c179e\"],[0.4444444444444444,\"#bd3786\"],[0.5555555555555556,\"#d8576b\"],[0.6666666666666666,\"#ed7953\"],[0.7777777777777778,\"#fb9f3a\"],[0.8888888888888888,\"#fdca26\"],[1.0,\"#f0f921\"]]}],\"choropleth\":[{\"type\":\"choropleth\",\"colorbar\":{\"outlinewidth\":0,\"ticks\":\"\"}}],\"histogram2d\":[{\"type\":\"histogram2d\",\"colorbar\":{\"outlinewidth\":0,\"ticks\":\"\"},\"colorscale\":[[0.0,\"#0d0887\"],[0.1111111111111111,\"#46039f\"],[0.2222222222222222,\"#7201a8\"],[0.3333333333333333,\"#9c179e\"],[0.4444444444444444,\"#bd3786\"],[0.5555555555555556,\"#d8576b\"],[0.6666666666666666,\"#ed7953\"],[0.7777777777777778,\"#fb9f3a\"],[0.8888888888888888,\"#fdca26\"],[1.0,\"#f0f921\"]]}],\"heatmap\":[{\"type\":\"heatmap\",\"colorbar\":{\"outlinewidth\":0,\"ticks\":\"\"},\"colorscale\":[[0.0,\"#0d0887\"],[0.1111111111111111,\"#46039f\"],[0.2222222222222222,\"#7201a8\"],[0.3333333333333333,\"#9c179e\"],[0.4444444444444444,\"#bd3786\"],[0.5555555555555556,\"#d8576b\"],[0.6666666666666666,\"#ed7953\"],[0.7777777777777778,\"#fb9f3a\"],[0.8888888888888888,\"#fdca26\"],[1.0,\"#f0f921\"]]}],\"heatmapgl\":[{\"type\":\"heatmapgl\",\"colorbar\":{\"outlinewidth\":0,\"ticks\":\"\"},\"colorscale\":[[0.0,\"#0d0887\"],[0.1111111111111111,\"#46039f\"],[0.2222222222222222,\"#7201a8\"],[0.3333333333333333,\"#9c179e\"],[0.4444444444444444,\"#bd3786\"],[0.5555555555555556,\"#d8576b\"],[0.6666666666666666,\"#ed7953\"],[0.7777777777777778,\"#fb9f3a\"],[0.8888888888888888,\"#fdca26\"],[1.0,\"#f0f921\"]]}],\"contourcarpet\":[{\"type\":\"contourcarpet\",\"colorbar\":{\"outlinewidth\":0,\"ticks\":\"\"}}],\"contour\":[{\"type\":\"contour\",\"colorbar\":{\"outlinewidth\":0,\"ticks\":\"\"},\"colorscale\":[[0.0,\"#0d0887\"],[0.1111111111111111,\"#46039f\"],[0.2222222222222222,\"#7201a8\"],[0.3333333333333333,\"#9c179e\"],[0.4444444444444444,\"#bd3786\"],[0.5555555555555556,\"#d8576b\"],[0.6666666666666666,\"#ed7953\"],[0.7777777777777778,\"#fb9f3a\"],[0.8888888888888888,\"#fdca26\"],[1.0,\"#f0f921\"]]}],\"surface\":[{\"type\":\"surface\",\"colorbar\":{\"outlinewidth\":0,\"ticks\":\"\"},\"colorscale\":[[0.0,\"#0d0887\"],[0.1111111111111111,\"#46039f\"],[0.2222222222222222,\"#7201a8\"],[0.3333333333333333,\"#9c179e\"],[0.4444444444444444,\"#bd3786\"],[0.5555555555555556,\"#d8576b\"],[0.6666666666666666,\"#ed7953\"],[0.7777777777777778,\"#fb9f3a\"],[0.8888888888888888,\"#fdca26\"],[1.0,\"#f0f921\"]]}],\"mesh3d\":[{\"type\":\"mesh3d\",\"colorbar\":{\"outlinewidth\":0,\"ticks\":\"\"}}],\"scatter\":[{\"fillpattern\":{\"fillmode\":\"overlay\",\"size\":10,\"solidity\":0.2},\"type\":\"scatter\"}],\"parcoords\":[{\"type\":\"parcoords\",\"line\":{\"colorbar\":{\"outlinewidth\":0,\"ticks\":\"\"}}}],\"scatterpolargl\":[{\"type\":\"scatterpolargl\",\"marker\":{\"colorbar\":{\"outlinewidth\":0,\"ticks\":\"\"}}}],\"bar\":[{\"error_x\":{\"color\":\"#2a3f5f\"},\"error_y\":{\"color\":\"#2a3f5f\"},\"marker\":{\"line\":{\"color\":\"#E5ECF6\",\"width\":0.5},\"pattern\":{\"fillmode\":\"overlay\",\"size\":10,\"solidity\":0.2}},\"type\":\"bar\"}],\"scattergeo\":[{\"type\":\"scattergeo\",\"marker\":{\"colorbar\":{\"outlinewidth\":0,\"ticks\":\"\"}}}],\"scatterpolar\":[{\"type\":\"scatterpolar\",\"marker\":{\"colorbar\":{\"outlinewidth\":0,\"ticks\":\"\"}}}],\"histogram\":[{\"marker\":{\"pattern\":{\"fillmode\":\"overlay\",\"size\":10,\"solidity\":0.2}},\"type\":\"histogram\"}],\"scattergl\":[{\"type\":\"scattergl\",\"marker\":{\"colorbar\":{\"outlinewidth\":0,\"ticks\":\"\"}}}],\"scatter3d\":[{\"type\":\"scatter3d\",\"line\":{\"colorbar\":{\"outlinewidth\":0,\"ticks\":\"\"}},\"marker\":{\"colorbar\":{\"outlinewidth\":0,\"ticks\":\"\"}}}],\"scattermapbox\":[{\"type\":\"scattermapbox\",\"marker\":{\"colorbar\":{\"outlinewidth\":0,\"ticks\":\"\"}}}],\"scatterternary\":[{\"type\":\"scatterternary\",\"marker\":{\"colorbar\":{\"outlinewidth\":0,\"ticks\":\"\"}}}],\"scattercarpet\":[{\"type\":\"scattercarpet\",\"marker\":{\"colorbar\":{\"outlinewidth\":0,\"ticks\":\"\"}}}],\"carpet\":[{\"aaxis\":{\"endlinecolor\":\"#2a3f5f\",\"gridcolor\":\"white\",\"linecolor\":\"white\",\"minorgridcolor\":\"white\",\"startlinecolor\":\"#2a3f5f\"},\"baxis\":{\"endlinecolor\":\"#2a3f5f\",\"gridcolor\":\"white\",\"linecolor\":\"white\",\"minorgridcolor\":\"white\",\"startlinecolor\":\"#2a3f5f\"},\"type\":\"carpet\"}],\"table\":[{\"cells\":{\"fill\":{\"color\":\"#EBF0F8\"},\"line\":{\"color\":\"white\"}},\"header\":{\"fill\":{\"color\":\"#C8D4E3\"},\"line\":{\"color\":\"white\"}},\"type\":\"table\"}],\"barpolar\":[{\"marker\":{\"line\":{\"color\":\"#E5ECF6\",\"width\":0.5},\"pattern\":{\"fillmode\":\"overlay\",\"size\":10,\"solidity\":0.2}},\"type\":\"barpolar\"}],\"pie\":[{\"automargin\":true,\"type\":\"pie\"}]},\"layout\":{\"autotypenumbers\":\"strict\",\"colorway\":[\"#636efa\",\"#EF553B\",\"#00cc96\",\"#ab63fa\",\"#FFA15A\",\"#19d3f3\",\"#FF6692\",\"#B6E880\",\"#FF97FF\",\"#FECB52\"],\"font\":{\"color\":\"#2a3f5f\"},\"hovermode\":\"closest\",\"hoverlabel\":{\"align\":\"left\"},\"paper_bgcolor\":\"white\",\"plot_bgcolor\":\"#E5ECF6\",\"polar\":{\"bgcolor\":\"#E5ECF6\",\"angularaxis\":{\"gridcolor\":\"white\",\"linecolor\":\"white\",\"ticks\":\"\"},\"radialaxis\":{\"gridcolor\":\"white\",\"linecolor\":\"white\",\"ticks\":\"\"}},\"ternary\":{\"bgcolor\":\"#E5ECF6\",\"aaxis\":{\"gridcolor\":\"white\",\"linecolor\":\"white\",\"ticks\":\"\"},\"baxis\":{\"gridcolor\":\"white\",\"linecolor\":\"white\",\"ticks\":\"\"},\"caxis\":{\"gridcolor\":\"white\",\"linecolor\":\"white\",\"ticks\":\"\"}},\"coloraxis\":{\"colorbar\":{\"outlinewidth\":0,\"ticks\":\"\"}},\"colorscale\":{\"sequential\":[[0.0,\"#0d0887\"],[0.1111111111111111,\"#46039f\"],[0.2222222222222222,\"#7201a8\"],[0.3333333333333333,\"#9c179e\"],[0.4444444444444444,\"#bd3786\"],[0.5555555555555556,\"#d8576b\"],[0.6666666666666666,\"#ed7953\"],[0.7777777777777778,\"#fb9f3a\"],[0.8888888888888888,\"#fdca26\"],[1.0,\"#f0f921\"]],\"sequentialminus\":[[0.0,\"#0d0887\"],[0.1111111111111111,\"#46039f\"],[0.2222222222222222,\"#7201a8\"],[0.3333333333333333,\"#9c179e\"],[0.4444444444444444,\"#bd3786\"],[0.5555555555555556,\"#d8576b\"],[0.6666666666666666,\"#ed7953\"],[0.7777777777777778,\"#fb9f3a\"],[0.8888888888888888,\"#fdca26\"],[1.0,\"#f0f921\"]],\"diverging\":[[0,\"#8e0152\"],[0.1,\"#c51b7d\"],[0.2,\"#de77ae\"],[0.3,\"#f1b6da\"],[0.4,\"#fde0ef\"],[0.5,\"#f7f7f7\"],[0.6,\"#e6f5d0\"],[0.7,\"#b8e186\"],[0.8,\"#7fbc41\"],[0.9,\"#4d9221\"],[1,\"#276419\"]]},\"xaxis\":{\"gridcolor\":\"white\",\"linecolor\":\"white\",\"ticks\":\"\",\"title\":{\"standoff\":15},\"zerolinecolor\":\"white\",\"automargin\":true,\"zerolinewidth\":2},\"yaxis\":{\"gridcolor\":\"white\",\"linecolor\":\"white\",\"ticks\":\"\",\"title\":{\"standoff\":15},\"zerolinecolor\":\"white\",\"automargin\":true,\"zerolinewidth\":2},\"scene\":{\"xaxis\":{\"backgroundcolor\":\"#E5ECF6\",\"gridcolor\":\"white\",\"linecolor\":\"white\",\"showbackground\":true,\"ticks\":\"\",\"zerolinecolor\":\"white\",\"gridwidth\":2},\"yaxis\":{\"backgroundcolor\":\"#E5ECF6\",\"gridcolor\":\"white\",\"linecolor\":\"white\",\"showbackground\":true,\"ticks\":\"\",\"zerolinecolor\":\"white\",\"gridwidth\":2},\"zaxis\":{\"backgroundcolor\":\"#E5ECF6\",\"gridcolor\":\"white\",\"linecolor\":\"white\",\"showbackground\":true,\"ticks\":\"\",\"zerolinecolor\":\"white\",\"gridwidth\":2}},\"shapedefaults\":{\"line\":{\"color\":\"#2a3f5f\"}},\"annotationdefaults\":{\"arrowcolor\":\"#2a3f5f\",\"arrowhead\":0,\"arrowwidth\":1},\"geo\":{\"bgcolor\":\"white\",\"landcolor\":\"#E5ECF6\",\"subunitcolor\":\"white\",\"showland\":true,\"showlakes\":true,\"lakecolor\":\"white\"},\"title\":{\"x\":0.05},\"mapbox\":{\"style\":\"light\"}}},\"title\":{\"text\":\"Proximity Counts of Hurricanes in Pan Pacific Countries (1952)\"},\"geo\":{\"projection\":{\"type\":\"robinson\"},\"lataxis\":{\"range\":[-90,90],\"showgrid\":true,\"dtick\":10},\"lonaxis\":{\"range\":[-180,180],\"showgrid\":true,\"dtick\":20},\"showframe\":false,\"showcoastlines\":true,\"fitbounds\":\"locations\"},\"coloraxis\":{\"colorbar\":{\"title\":{\"text\":\"Count\"}}}},                        {\"responsive\": true}                    ).then(function(){\n",
       "                            \n",
       "var gd = document.getElementById('5ffacc7e-6884-4971-9d00-e5fac19cad32');\n",
       "var x = new MutationObserver(function (mutations, observer) {{\n",
       "        var display = window.getComputedStyle(gd).display;\n",
       "        if (!display || display === 'none') {{\n",
       "            console.log([gd, 'removed!']);\n",
       "            Plotly.purge(gd);\n",
       "            observer.disconnect();\n",
       "        }}\n",
       "}});\n",
       "\n",
       "// Listen for the removal of the full notebook cells\n",
       "var notebookContainer = gd.closest('#notebook-container');\n",
       "if (notebookContainer) {{\n",
       "    x.observe(notebookContainer, {childList: true});\n",
       "}}\n",
       "\n",
       "// Listen for the clearing of the current output cell\n",
       "var outputEl = gd.closest('.output');\n",
       "if (outputEl) {{\n",
       "    x.observe(outputEl, {childList: true});\n",
       "}}\n",
       "\n",
       "                        })                };                });            </script>        </div>"
      ]
     },
     "metadata": {},
     "output_type": "display_data"
    }
   ],
   "source": [
    "# Define the country to exclude (for some reason Russia is included even though it has the lowest count)\n",
    "country_to_exclude = 'Russia'\n",
    "\n",
    "# Convert the proximity_counts dictionary to a DataFrame\n",
    "proximity_counts_df = pd.DataFrame.from_dict(proximity_counts, orient='index', columns=['Count']).head(13)\n",
    "\n",
    "# Sort the DataFrame based on the proximity counts in descending order\n",
    "proximity_counts_df = proximity_counts_df[proximity_counts_df.index != country_to_exclude]\n",
    "\n",
    "fig = go.Figure(data=go.Choropleth(\n",
    "    locations=proximity_counts_df.index.tolist(),\n",
    "    z=proximity_counts_df['Count'].tolist(),\n",
    "    locationmode='country names',\n",
    "    colorscale='YlOrRd', \n",
    "    marker_line_color='darkgray',\n",
    "    marker_line_width=0.5,\n",
    "))\n",
    "\n",
    "# Set map title and colorbar title\n",
    "fig.update_layout(\n",
    "    title_text='Proximity Counts of Hurricanes in Pan Pacific Countries (1952)',\n",
    "    geo=dict(\n",
    "        showframe=False,\n",
    "        showcoastlines=True,\n",
    "        projection_type='robinson',\n",
    "        fitbounds=\"locations\",  # Zoom the map around the data\n",
    "        lataxis=dict(\n",
    "            range=[-90, 90],\n",
    "            showgrid=True,\n",
    "            dtick=10\n",
    "        ),\n",
    "        lonaxis=dict(\n",
    "            range=[-180, 180],\n",
    "            showgrid=True,\n",
    "            dtick=20\n",
    "        ),\n",
    "    ),\n",
    "    coloraxis_colorbar=dict(title='Count')\n",
    ")\n",
    "    \n",
    "# Show the interactive map\n",
    "fig.show()"
   ]
  }
 ],
 "metadata": {
  "kernelspec": {
   "display_name": "Python 3 (ipykernel)",
   "language": "python",
   "name": "python3"
  },
  "language_info": {
   "codemirror_mode": {
    "name": "ipython",
    "version": 3
   },
   "file_extension": ".py",
   "mimetype": "text/x-python",
   "name": "python",
   "nbconvert_exporter": "python",
   "pygments_lexer": "ipython3",
   "version": "3.10.9"
  }
 },
 "nbformat": 4,
 "nbformat_minor": 5
}
